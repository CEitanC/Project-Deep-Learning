{
  "cells": [
    {
      "cell_type": "code",
      "execution_count": 1,
      "metadata": {
        "id": "hGXKM4zDYkyF"
      },
      "outputs": [],
      "source": [
        "import numpy as np\n",
        "import torch \n",
        "import torch.nn as nn\n",
        "import torch.nn.functional as F\n",
        "import torch.optim as optim\n",
        "from copy import deepcopy\n",
        "import matplotlib.pyplot as plt\n"
      ]
    },
    {
      "cell_type": "code",
      "execution_count": 2,
      "metadata": {
        "id": "ODGNE97jYkyL"
      },
      "outputs": [],
      "source": [
        "# creating input vector and initial weights\n",
        "x = torch.tensor([1])\n",
        "z = torch.tensor([1.])"
      ]
    },
    {
      "cell_type": "code",
      "execution_count": 3,
      "metadata": {
        "colab": {
          "base_uri": "https://localhost:8080/"
        },
        "id": "nJpLrcTJYkyM",
        "outputId": "5430d786-7f7e-410c-cab7-d84f26c4afac"
      },
      "outputs": [
        {
          "name": "stdout",
          "output_type": "stream",
          "text": [
            "Net_1(\n",
            "  (fc1): Linear(in_features=1, out_features=1, bias=True)\n",
            ")\n"
          ]
        }
      ],
      "source": [
        "# setting up the network\n",
        "class Net_1(nn.Module):\n",
        "\n",
        "    def __init__(self):\n",
        "        super().__init__()\n",
        "        self.fc1 = nn.Linear(1, 1)\n",
        "        self.fc1.weight.data.normal_(0,0)\n",
        "        #self.fc1.weight.data.fill_(0)\n",
        "\n",
        "    def forward(self, x):\n",
        "        z_hat = self.fc1(x)\n",
        "        return z_hat\n",
        "\n",
        "\n",
        "net = Net_1()\n",
        "print(net)"
      ]
    },
    {
      "cell_type": "code",
      "execution_count": 4,
      "metadata": {
        "id": "wAz25RFJYkyO"
      },
      "outputs": [],
      "source": [
        "# defining loss function and optimization algorithm \n",
        "loss_f = nn.MSELoss()\n",
        "optimizer = optim.SGD(net.parameters(), lr = 0.01)\n",
        "losses=[]\n",
        "weights=[]\n"
      ]
    },
    {
      "cell_type": "code",
      "execution_count": 5,
      "metadata": {
        "id": "bfNAbHOjYkyP"
      },
      "outputs": [],
      "source": [
        "# training the net\n",
        "steps = 80\n",
        "\n",
        "\n",
        "for i in range(steps):\n",
        "    # zero the parameter gradients\n",
        "    optimizer.zero_grad()\n",
        "\n",
        "    # forward + backward + optimize\n",
        "    net = net.float()\n",
        "\n",
        "    z_hat = net(x.float())\n",
        "    loss = loss_f(z_hat.float(), z.float())\n",
        "    losses.append(loss)\n",
        "    loss.backward()\n",
        "    optimizer.step()\n",
        "    weights.append(deepcopy(net.fc1.weight))"
      ]
    },
    {
      "cell_type": "code",
      "execution_count": 6,
      "metadata": {
        "colab": {
          "base_uri": "https://localhost:8080/"
        },
        "id": "tG1VgEkyYkyQ",
        "outputId": "c078a515-986c-45bf-8685-a7cc9f8e6e8f"
      },
      "outputs": [
        {
          "data": {
            "text/plain": [
              "tensor([0.9501], grad_fn=<AddBackward0>)"
            ]
          },
          "execution_count": 6,
          "metadata": {},
          "output_type": "execute_result"
        }
      ],
      "source": [
        "z_hat1 = net(x.float())\n",
        "z_hat1"
      ]
    },
    {
      "cell_type": "code",
      "execution_count": 7,
      "metadata": {
        "colab": {
          "base_uri": "https://localhost:8080/",
          "height": 279
        },
        "id": "Voj8TuzEabsF",
        "outputId": "9d741864-735a-492c-9ced-22677c222e61"
      },
      "outputs": [
        {
          "data": {
            "image/png": "[encoded data removed]",
            "text/plain": [
              "<Figure size 432x288 with 1 Axes>"
            ]
          },
          "metadata": {
            "needs_background": "light"
          },
          "output_type": "display_data"
        }
      ],
      "source": [
        "plt.plot(losses)\n",
        "plt.ylabel('loss size')\n",
        "plt.xlabel('num iterarion')\n",
        "plt.show()"
      ]
    },
    {
      "cell_type": "code",
      "execution_count": 8,
      "metadata": {
        "colab": {
          "base_uri": "https://localhost:8080/",
          "height": 279
        },
        "id": "KI8VlTGybrM1",
        "outputId": "95e37389-9f50-4e87-f490-b7e62c592797"
      },
      "outputs": [
        {
          "data": {
            "image/png": "[encoded data removed]",
            "text/plain": [
              "<Figure size 432x288 with 1 Axes>"
            ]
          },
          "metadata": {
            "needs_background": "light"
          },
          "output_type": "display_data"
        }
      ],
      "source": [
        "plt.plot(weights)\n",
        "plt.ylabel('weights size')\n",
        "plt.xlabel('num iterarion')\n",
        "\n",
        "plt.show()\n",
        "\n",
        "# to add : compare to the theortoical\n",
        "\n"
      ]
    },
    {
      "cell_type": "code",
      "execution_count": 9,
      "metadata": {
        "id": "bxrNu6PvYkyR"
      },
      "outputs": [],
      "source": [
        "#ex2.2\n",
        "# creating input vector and initial weights\n",
        "mu_x=0\n",
        "sigma_x= 1\n",
        "n0=100\n",
        "\n",
        "x_vec = torch.from_numpy(np.random.normal(mu_x, sigma_x, n0))\n",
        "z = torch.tensor(1)\n",
        "\n"
      ]
    },
    {
      "cell_type": "code",
      "execution_count": 10,
      "metadata": {
        "colab": {
          "base_uri": "https://localhost:8080/"
        },
        "id": "iZniDuQcYkyS",
        "outputId": "7b5f33ce-a83c-4937-ab7c-6edf6682449c"
      },
      "outputs": [
        {
          "name": "stdout",
          "output_type": "stream",
          "text": [
            "Net(\n",
            "  (fc1): Linear(in_features=100, out_features=1, bias=True)\n",
            ")\n"
          ]
        }
      ],
      "source": [
        "# setting up the network\n",
        "class Net(nn.Module):\n",
        "\n",
        "    def __init__(self, n0):\n",
        "        super().__init__()\n",
        "        # an affine operation: y = Wx + b\n",
        "        self.fc1 = nn.Linear(n0, 1)\n",
        "        self.fc1.weight.data.normal_(1, 0.01)\n",
        "\n",
        "    def forward(self, x):\n",
        "        z_hat = self.fc1(x)\n",
        "        return z_hat\n",
        "\n",
        "\n",
        "net = Net(n0)\n",
        "print(net)"
      ]
    },
    {
      "cell_type": "code",
      "execution_count": 11,
      "metadata": {
        "id": "wNskNasyYkyT"
      },
      "outputs": [],
      "source": [
        "# defining loss function and optimization algorithm \n",
        "loss_f = nn.MSELoss()\n",
        "optimizer = optim.SGD(net.parameters(), lr = 0.01)\n",
        "losses_2=[]"
      ]
    },
    {
      "cell_type": "code",
      "execution_count": 12,
      "metadata": {
        "colab": {
          "base_uri": "https://localhost:8080/"
        },
        "id": "2OjtOtqzYkyU",
        "outputId": "ac1b2659-c50a-4e98-ecf6-d5584338cd40"
      },
      "outputs": [
        {
          "name": "stderr",
          "output_type": "stream",
          "text": [
            "c:\\Users\\Melech\\anaconda3\\envs\\deep_learn\\lib\\site-packages\\torch\\nn\\modules\\loss.py:520: UserWarning: Using a target size (torch.Size([])) that is different to the input size (torch.Size([1])). This will likely lead to incorrect results due to broadcasting. Please ensure they have the same size.\n",
            "  return F.mse_loss(input, target, reduction=self.reduction)\n"
          ]
        }
      ],
      "source": [
        "# training the net\n",
        "steps = 20\n",
        "\n",
        "for i in range(steps):\n",
        "    # zero the parameter gradients\n",
        "    optimizer.zero_grad()\n",
        "\n",
        "    # forward + backward + optimize\n",
        "    net = net.float()\n",
        "    z_hat = net(x_vec.float())\n",
        "    loss = loss_f(z_hat.float(), z.float())\n",
        "    losses_2.append(loss)\n",
        "    loss.backward()\n",
        "    optimizer.step()"
      ]
    },
    {
      "cell_type": "code",
      "execution_count": 13,
      "metadata": {
        "colab": {
          "base_uri": "https://localhost:8080/"
        },
        "id": "CzbBAoHIYkyV",
        "outputId": "466fff53-4558-4625-911a-0e7601d7cb73"
      },
      "outputs": [
        {
          "data": {
            "text/plain": [
              "tensor([-103.6329], grad_fn=<AddBackward0>)"
            ]
          },
          "execution_count": 13,
          "metadata": {},
          "output_type": "execute_result"
        }
      ],
      "source": [
        "z_hat = net(x_vec.float())\n",
        "z_hat"
      ]
    },
    {
      "cell_type": "code",
      "execution_count": 14,
      "metadata": {
        "colab": {
          "base_uri": "https://localhost:8080/",
          "height": 282
        },
        "id": "Rd8YY4PDgj_e",
        "outputId": "8a2ee68b-0f89-46db-8d15-88c373e062ba"
      },
      "outputs": [
        {
          "data": {
            "image/png": "[encoded data removed]",
            "text/plain": [
              "<Figure size 432x288 with 1 Axes>"
            ]
          },
          "metadata": {
            "needs_background": "light"
          },
          "output_type": "display_data"
        }
      ],
      "source": [
        "plt.plot(losses_2)\n",
        "plt.ylabel('loss size')\n",
        "plt.xlabel('num iterarion')\n",
        "plt.show()"
      ]
    },
    {
      "cell_type": "code",
      "execution_count": 15,
      "metadata": {
        "id": "Hv30YcC_YkyX"
      },
      "outputs": [],
      "source": [
        "#ex2.3\n",
        "# creating input vector and initial weights\n",
        "mu_x=0\n",
        "sigma_x= 1\n",
        "n0=100\n",
        "n1=200\n",
        "\n",
        "# x_vec = torch.from_numpy(np.random.normal(mu_x, sigma_x, n0))\n",
        "x_vec = torch.randn(n0)\n",
        "z = torch.tensor(1.)"
      ]
    },
    {
      "cell_type": "code",
      "execution_count": 16,
      "metadata": {
        "colab": {
          "base_uri": "https://localhost:8080/"
        },
        "id": "naxsD78_YkyY",
        "outputId": "8785a0d1-a253-4d8c-f2ae-99e273af6360"
      },
      "outputs": [
        {
          "name": "stdout",
          "output_type": "stream",
          "text": [
            "Net(\n",
            "  (fc1): Linear(in_features=100, out_features=200, bias=False)\n",
            "  (fc2): Linear(in_features=200, out_features=1, bias=False)\n",
            ")\n"
          ]
        }
      ],
      "source": [
        "# setting up the network\n",
        "class Net(nn.Module):\n",
        "\n",
        "    def __init__(self, n0, n1):\n",
        "        super().__init__()\n",
        "        # an affine operation: y = Wx + b\n",
        "        self.fc1 = nn.Linear(n0, n1, bias=False)\n",
        "        self.fc1.weight.data.normal_(0, 0.01)\n",
        "        self.fc2 = nn.Linear(n1, 1, bias=False)\n",
        "        self.fc2.weight.data.normal_(0, 0.05)\n",
        "\n",
        "\n",
        "    def forward(self, x):\n",
        "        x = self.fc1(x)\n",
        "        z_hat = self.fc2(x)\n",
        "        return z_hat\n",
        "\n",
        "\n",
        "net = Net(n0, n1)\n",
        "state_dict_init = deepcopy(net.state_dict())\n",
        "w1_init = net.fc1.weight.clone()\n",
        "w2_init = net.fc2.weight.clone()\n",
        "\n",
        "print(net)"
      ]
    },
    {
      "cell_type": "code",
      "execution_count": 17,
      "metadata": {
        "id": "LaiPQEoIYkyb"
      },
      "outputs": [],
      "source": [
        "# defining loss function and optimization algorithm \n",
        "loss_f = nn.MSELoss()\n",
        "optimizer = optim.SGD(net.parameters(), lr = 0.01)\n",
        "losses=[]\n",
        "\n"
      ]
    },
    {
      "cell_type": "code",
      "execution_count": 18,
      "metadata": {
        "colab": {
          "base_uri": "https://localhost:8080/"
        },
        "id": "RyXCcJSbYkyc",
        "outputId": "20d2298f-8b53-4d92-b1cd-6daff37da44e"
      },
      "outputs": [
        {
          "name": "stderr",
          "output_type": "stream",
          "text": [
            "c:\\Users\\Melech\\anaconda3\\envs\\deep_learn\\lib\\site-packages\\torch\\nn\\modules\\loss.py:520: UserWarning: Using a target size (torch.Size([])) that is different to the input size (torch.Size([1])). This will likely lead to incorrect results due to broadcasting. Please ensure they have the same size.\n",
            "  return F.mse_loss(input, target, reduction=self.reduction)\n"
          ]
        }
      ],
      "source": [
        "# training the net\n",
        "steps = 20\n",
        "\n",
        "for i in range(steps):\n",
        "    # zero the parameter gradients\n",
        "    optimizer.zero_grad()\n",
        "\n",
        "    # forward + backward + optimize\n",
        "    # net = net.float()\n",
        "    z_hat = net(x_vec)#.float())\n",
        "    # loss = loss_f(z_hat.float(), z.float())\n",
        "    loss = loss_f(z_hat, z)\n",
        "    loss.backward()\n",
        "    losses.append(loss)\n",
        "    optimizer.step()"
      ]
    },
    {
      "cell_type": "code",
      "execution_count": 19,
      "metadata": {
        "colab": {
          "base_uri": "https://localhost:8080/"
        },
        "id": "8agDDBFcYkyc",
        "outputId": "9ddeb62e-54d0-44de-aefe-37d04733dce1"
      },
      "outputs": [
        {
          "data": {
            "text/plain": [
              "tensor([1.], grad_fn=<SqueezeBackward3>)"
            ]
          },
          "execution_count": 19,
          "metadata": {},
          "output_type": "execute_result"
        }
      ],
      "source": [
        "z_hat = net(x_vec.float())\n",
        "z_hat"
      ]
    },
    {
      "cell_type": "code",
      "execution_count": 20,
      "metadata": {
        "colab": {
          "base_uri": "https://localhost:8080/",
          "height": 279
        },
        "id": "jUV40Sp4e-tR",
        "outputId": "241a3b56-f7fd-441a-a81a-6de62ff6d04e"
      },
      "outputs": [
        {
          "data": {
            "image/png": "[encoded data removed]",
            "text/plain": [
              "<Figure size 432x288 with 1 Axes>"
            ]
          },
          "metadata": {
            "needs_background": "light"
          },
          "output_type": "display_data"
        }
      ],
      "source": [
        "plt.plot(losses)\n",
        "plt.ylabel('loss size')\n",
        "plt.xlabel('num iterarion')\n",
        "plt.show()"
      ]
    },
    {
      "cell_type": "code",
      "execution_count": 21,
      "metadata": {
        "colab": {
          "base_uri": "https://localhost:8080/"
        },
        "id": "lV3l_mWhk2HP",
        "outputId": "7ccc0ff7-d4fb-40cb-d028-5003ce4166da"
      },
      "outputs": [
        {
          "name": "stdout",
          "output_type": "stream",
          "text": [
            "z_hat_0: 0.013, loss_0: 0.973\n"
          ]
        },
        {
          "name": "stderr",
          "output_type": "stream",
          "text": [
            "c:\\Users\\Melech\\anaconda3\\envs\\deep_learn\\lib\\site-packages\\torch\\nn\\modules\\loss.py:520: UserWarning: Using a target size (torch.Size([])) that is different to the input size (torch.Size([1])). This will likely lead to incorrect results due to broadcasting. Please ensure they have the same size.\n",
            "  return F.mse_loss(input, target, reduction=self.reduction)\n"
          ]
        }
      ],
      "source": [
        "# Ex3\n",
        "# w1- init w2-final\n",
        "with torch.no_grad():\n",
        "  w1_final=net.fc1.weight.clone()\n",
        "  w2_final=net.fc2.weight.clone()\n",
        "\n",
        "  net.fc1.weight[:] = w1_init\n",
        "  z_hat_0 = net(x_vec.float())\n",
        "  loss_0 = loss_f(z_hat_0.float(), z.float())\n",
        "  print(f\"z_hat_0: {z_hat_0[0]:.3f}, loss_0: {loss_0:.3f}\")\n"
      ]
    },
    {
      "cell_type": "code",
      "execution_count": 22,
      "metadata": {
        "colab": {
          "base_uri": "https://localhost:8080/"
        },
        "id": "lXOzRBMBl9O4",
        "outputId": "a13c4d03-01fc-4979-f694-d0b0b5243543"
      },
      "outputs": [
        {
          "name": "stdout",
          "output_type": "stream",
          "text": [
            "z_hat_0: 0.955, loss_0: 0.002\n"
          ]
        },
        {
          "name": "stderr",
          "output_type": "stream",
          "text": [
            "c:\\Users\\Melech\\anaconda3\\envs\\deep_learn\\lib\\site-packages\\torch\\nn\\modules\\loss.py:520: UserWarning: Using a target size (torch.Size([])) that is different to the input size (torch.Size([1])). This will likely lead to incorrect results due to broadcasting. Please ensure they have the same size.\n",
            "  return F.mse_loss(input, target, reduction=self.reduction)\n"
          ]
        }
      ],
      "source": [
        "# w1- final w2-init\n",
        "with torch.no_grad():\n",
        "  net.fc1.weight[:] = w1_final\n",
        "  net.fc2.weight[:]=w2_init\n",
        "  z_hat_0 = net(x_vec.float())\n",
        "  loss_0 = loss_f(z_hat_0.float(), z.float())\n",
        "  print(f\"z_hat_0: {z_hat_0[0]:.3f}, loss_0: {loss_0:.3f}\")"
      ]
    },
    {
      "cell_type": "code",
      "execution_count": 23,
      "metadata": {
        "colab": {
          "base_uri": "https://localhost:8080/",
          "height": 333
        },
        "id": "i43NlKzXYkyd",
        "outputId": "d64ea38d-d633-4a90-d013-1dc5351dfd15"
      },
      "outputs": [
        {
          "name": "stderr",
          "output_type": "stream",
          "text": [
            "c:\\Users\\Melech\\anaconda3\\envs\\deep_learn\\lib\\site-packages\\torch\\nn\\modules\\loss.py:520: UserWarning: Using a target size (torch.Size([])) that is different to the input size (torch.Size([1])). This will likely lead to incorrect results due to broadcasting. Please ensure they have the same size.\n",
            "  return F.mse_loss(input, target, reduction=self.reduction)\n"
          ]
        },
        {
          "data": {
            "image/png": "[encoded data removed]",
            "text/plain": [
              "<Figure size 432x288 with 1 Axes>"
            ]
          },
          "metadata": {
            "needs_background": "light"
          },
          "output_type": "display_data"
        }
      ],
      "source": [
        "# freeze w1, train w2\n",
        "with torch.no_grad():\n",
        "    net.fc1.weight[:] = w1_init\n",
        "# training the net\n",
        "losses=[]\n",
        "steps = 20\n",
        "\n",
        "for i in range(steps):\n",
        "    # zero the parameter gradients\n",
        "    optimizer.zero_grad()\n",
        "\n",
        "    # forward + backward + optimize\n",
        "    # net = net.float()\n",
        "    z_hat = net(x_vec)#.float())\n",
        "    # loss = loss_f(z_hat.float(), z.float())\n",
        "    loss = loss_f(z_hat, z)\n",
        "    loss.backward()\n",
        "    losses.append(loss)\n",
        "    optimizer.step()\n",
        "\n",
        "z_hat = net(x_vec.float())\n",
        "z_hat\n",
        "plt.plot(losses)\n",
        "plt.ylabel('loss size')\n",
        "plt.xlabel('num iterarion')\n",
        "plt.show()\n",
        "\n"
      ]
    },
    {
      "cell_type": "code",
      "execution_count": 24,
      "metadata": {
        "colab": {
          "base_uri": "https://localhost:8080/",
          "height": 333
        },
        "id": "fwSn_bQFo72k",
        "outputId": "91a60684-07c3-45ac-f468-8b02b4e94f1e"
      },
      "outputs": [
        {
          "name": "stderr",
          "output_type": "stream",
          "text": [
            "c:\\Users\\Melech\\anaconda3\\envs\\deep_learn\\lib\\site-packages\\torch\\nn\\modules\\loss.py:520: UserWarning: Using a target size (torch.Size([])) that is different to the input size (torch.Size([1])). This will likely lead to incorrect results due to broadcasting. Please ensure they have the same size.\n",
            "  return F.mse_loss(input, target, reduction=self.reduction)\n"
          ]
        },
        {
          "data": {
            "image/png": "[encoded data removed]",
            "text/plain": [
              "<Figure size 432x288 with 1 Axes>"
            ]
          },
          "metadata": {
            "needs_background": "light"
          },
          "output_type": "display_data"
        }
      ],
      "source": [
        "# freeze w2, train w1\n",
        "with torch.no_grad():\n",
        "    net.fc2.weight[:] = w2_init\n",
        "# training the net\n",
        "losses=[]\n",
        "steps = 20\n",
        "\n",
        "for i in range(steps):\n",
        "    # zero the parameter gradients\n",
        "    optimizer.zero_grad()\n",
        "\n",
        "    # forward + backward + optimize\n",
        "    # net = net.float()\n",
        "    z_hat = net(x_vec)#.float())\n",
        "    # loss = loss_f(z_hat.float(), z.float())\n",
        "    loss = loss_f(z_hat, z)\n",
        "    loss.backward()\n",
        "    losses.append(loss)\n",
        "    optimizer.step()\n",
        "\n",
        "z_hat = net(x_vec.float())\n",
        "z_hat\n",
        "plt.plot(losses)\n",
        "plt.ylabel('loss size')\n",
        "plt.xlabel('num iterarion')\n",
        "plt.show()"
      ]
    }
  ],
  "metadata": {
    "colab": {
      "collapsed_sections": [],
      "name": "ex2 (1).ipynb",
      "provenance": []
    },
    "interpreter": {
      "hash": "c7894602a0c985887175ef870b163991377e40017ef89bcf79ed228593e61d67"
    },
    "kernelspec": {
      "display_name": "Python 3.8.8 64-bit ('base': conda)",
      "name": "python3"
    },
    "language_info": {
      "codemirror_mode": {
        "name": "ipython",
        "version": 3
      },
      "file_extension": ".py",
      "mimetype": "text/x-python",
      "name": "python",
      "nbconvert_exporter": "python",
      "pygments_lexer": "ipython3",
      "version": "3.6.13"
    },
    "orig_nbformat": 4
  },
  "nbformat": 4,
  "nbformat_minor": 0
}
