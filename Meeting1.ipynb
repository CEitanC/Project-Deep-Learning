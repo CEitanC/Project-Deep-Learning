{
  "nbformat": 4,
  "nbformat_minor": 0,
  "metadata": {
    "interpreter": {
      "hash": "c7894602a0c985887175ef870b163991377e40017ef89bcf79ed228593e61d67"
    },
    "kernelspec": {
      "display_name": "Python 3.8.8 64-bit ('base': conda)",
      "name": "python3"
    },
    "language_info": {
      "codemirror_mode": {
        "name": "ipython",
        "version": 3
      },
      "file_extension": ".py",
      "mimetype": "text/x-python",
      "name": "python",
      "nbconvert_exporter": "python",
      "pygments_lexer": "ipython3",
      "version": "3.8.8"
    },
    "orig_nbformat": 4,
    "colab": {
      "name": "ex2 (1).ipynb",
      "provenance": [],
      "collapsed_sections": []
    }
  },
  "cells": [
    {
      "cell_type": "code",
      "metadata": {
        "id": "hGXKM4zDYkyF"
      },
      "source": [
        "import numpy as np\n",
        "import torch \n",
        "import torch.nn as nn\n",
        "import torch.nn.functional as F\n",
        "import torch.optim as optim\n",
        "from copy import deepcopy\n",
        "import matplotlib.pyplot as plt\n"
      ],
      "execution_count": null,
      "outputs": []
    },
    {
      "cell_type": "code",
      "metadata": {
        "id": "ODGNE97jYkyL"
      },
      "source": [
        "#ex2.1\n",
        "# creating input vector and initial weights\n",
        "x = torch.tensor([1])\n",
        "z = torch.tensor([1])"
      ],
      "execution_count": null,
      "outputs": []
    },
    {
      "cell_type": "code",
      "metadata": {
        "colab": {
          "base_uri": "https://localhost:8080/"
        },
        "id": "nJpLrcTJYkyM",
        "outputId": "5430d786-7f7e-410c-cab7-d84f26c4afac"
      },
      "source": [
        "# setting up the network\n",
        "class Net_1(nn.Module):\n",
        "\n",
        "    def __init__(self):\n",
        "        super().__init__()\n",
        "        self.fc1 = nn.Linear(1, 1)\n",
        "        self.fc1.weight.data.normal_(0,0)\n",
        "        #self.fc1.weight.data.fill_(0)\n",
        "\n",
        "    def forward(self, x):\n",
        "        z_hat = self.fc1(x)\n",
        "        return z_hat\n",
        "\n",
        "\n",
        "net = Net_1()\n",
        "print(net)"
      ],
      "execution_count": null,
      "outputs": [
        {
          "output_type": "stream",
          "name": "stdout",
          "text": [
            "Net_1(\n",
            "  (fc1): Linear(in_features=1, out_features=1, bias=True)\n",
            ")\n"
          ]
        }
      ]
    },
    {
      "cell_type": "code",
      "metadata": {
        "id": "wAz25RFJYkyO"
      },
      "source": [
        "# defining loss function and optimization algorithm \n",
        "loss_f = nn.MSELoss()\n",
        "optimizer = optim.SGD(net.parameters(), lr = 0.01)\n",
        "losses=[]\n",
        "weights=[]\n"
      ],
      "execution_count": null,
      "outputs": []
    },
    {
      "cell_type": "code",
      "metadata": {
        "id": "bfNAbHOjYkyP"
      },
      "source": [
        "# training the net\n",
        "steps = 80\n",
        "\n",
        "\n",
        "for i in range(steps):\n",
        "    # zero the parameter gradients\n",
        "    optimizer.zero_grad()\n",
        "\n",
        "    # forward + backward + optimize\n",
        "    net = net.float()\n",
        "\n",
        "    z_hat = net(x.float())\n",
        "    loss = loss_f(z_hat.float(), z.float())\n",
        "    losses.append(loss)\n",
        "    loss.backward()\n",
        "    optimizer.step()\n",
        "    weights.append(deepcopy(net.fc1.weight))"
      ],
      "execution_count": null,
      "outputs": []
    },
    {
      "cell_type": "code",
      "metadata": {
        "colab": {
          "base_uri": "https://localhost:8080/"
        },
        "id": "tG1VgEkyYkyQ",
        "outputId": "c078a515-986c-45bf-8685-a7cc9f8e6e8f"
      },
      "source": [
        "z_hat1 = net(x.float())\n",
        "z_hat1"
      ],
      "execution_count": null,
      "outputs": [
        {
          "output_type": "execute_result",
          "data": {
            "text/plain": [
              "tensor([0.9546], grad_fn=<AddBackward0>)"
            ]
          },
          "metadata": {},
          "execution_count": 6
        }
      ]
    },
    {
      "cell_type": "code",
      "metadata": {
        "colab": {
          "base_uri": "https://localhost:8080/",
          "height": 279
        },
        "id": "Voj8TuzEabsF",
        "outputId": "9d741864-735a-492c-9ced-22677c222e61"
      },
      "source": [
        "plt.plot(losses)\n",
        "plt.ylabel('loss size')\n",
        "plt.xlabel('num iterarion')\n",
        "plt.show()"
      ],
      "execution_count": null,
      "outputs": [
        {
          "output_type": "display_data",
          "data": {
            "image/png": "[encoded data removed]",
            "text/plain": [
              "<Figure size 432x288 with 1 Axes>"
            ]
          },
          "metadata": {
            "needs_background": "light"
          }
        }
      ]
    },
    {
      "cell_type": "code",
      "metadata": {
        "colab": {
          "base_uri": "https://localhost:8080/",
          "height": 279
        },
        "id": "KI8VlTGybrM1",
        "outputId": "95e37389-9f50-4e87-f490-b7e62c592797"
      },
      "source": [
        "plt.plot(weights)\n",
        "plt.ylabel('weights size')\n",
        "plt.xlabel('num iterarion')\n",
        "\n",
        "plt.show()\n",
        "\n",
        "# to add : compare to the theortoical\n",
        "\n"
      ],
      "execution_count": null,
      "outputs": [
        {
          "output_type": "display_data",
          "data": {
            "image/png": "[encoded data removed]",
            "text/plain": [
              "<Figure size 432x288 with 1 Axes>"
            ]
          },
          "metadata": {
            "needs_background": "light"
          }
        }
      ]
    },
    {
      "cell_type": "code",
      "metadata": {
        "id": "bxrNu6PvYkyR"
      },
      "source": [
        "#ex2.2\n",
        "# creating input vector and initial weights\n",
        "mu_x=0\n",
        "sigma_x= 1\n",
        "n0=100\n",
        "\n",
        "x_vec = torch.randn(n0)\n",
        "z = torch.tensor(1.0)\n",
        "\n"
      ],
      "execution_count": null,
      "outputs": []
    },
    {
      "cell_type": "code",
      "metadata": {
        "colab": {
          "base_uri": "https://localhost:8080/"
        },
        "id": "iZniDuQcYkyS",
        "outputId": "5e97cd1f-693a-42bd-e9a7-5c56259500d6"
      },
      "source": [
        "# setting up the network\n",
        "class Net(nn.Module):\n",
        "\n",
        "    def __init__(self, n0):\n",
        "        super().__init__()\n",
        "        # an affine operation: y = Wx + b\n",
        "        self.fc1 = nn.Linear(n0, 1)\n",
        "        self.fc1.weight.data.normal_(1, 0.01)\n",
        "\n",
        "    def forward(self, x):\n",
        "        z_hat = self.fc1(x)\n",
        "        return z_hat\n",
        "\n",
        "\n",
        "net = Net(n0)\n",
        "print(net)"
      ],
      "execution_count": null,
      "outputs": [
        {
          "output_type": "stream",
          "name": "stdout",
          "text": [
            "Net(\n",
            "  (fc1): Linear(in_features=100, out_features=1, bias=True)\n",
            ")\n"
          ]
        }
      ]
    },
    {
      "cell_type": "code",
      "metadata": {
        "id": "wNskNasyYkyT"
      },
      "source": [
        "# defining loss function and optimization algorithm \n",
        "loss_f = nn.MSELoss()\n",
        "optimizer = optim.SGD(net.parameters(), lr = 0.01)\n",
        "losses_2=[]"
      ],
      "execution_count": null,
      "outputs": []
    },
    {
      "cell_type": "code",
      "metadata": {
        "colab": {
          "base_uri": "https://localhost:8080/"
        },
        "id": "2OjtOtqzYkyU",
        "outputId": "a42b6344-32e1-4c1f-e8ba-e1b0f8f3950b"
      },
      "source": [
        "# training the net\n",
        "steps = 20\n",
        "\n",
        "for i in range(steps):\n",
        "    # zero the parameter gradients\n",
        "    optimizer.zero_grad()\n",
        "\n",
        "    # forward + backward + optimize\n",
        "    \n",
        "    z_hat = net(x_vec)\n",
        "    loss = loss_f(z_hat, z)\n",
        "    losses_2.append(loss)\n",
        "    loss.backward()\n",
        "    optimizer.step()"
      ],
      "execution_count": null,
      "outputs": [
        {
          "output_type": "stream",
          "name": "stderr",
          "text": [
            "/usr/local/lib/python3.7/dist-packages/torch/nn/modules/loss.py:520: UserWarning: Using a target size (torch.Size([])) that is different to the input size (torch.Size([1])). This will likely lead to incorrect results due to broadcasting. Please ensure they have the same size.\n",
            "  return F.mse_loss(input, target, reduction=self.reduction)\n"
          ]
        }
      ]
    },
    {
      "cell_type": "code",
      "metadata": {
        "colab": {
          "base_uri": "https://localhost:8080/"
        },
        "id": "CzbBAoHIYkyV",
        "outputId": "4a7f8ff9-5adc-42fd-ced3-3e05b754aa5b"
      },
      "source": [
        "z_hat = net(x_vec)\n",
        "z_hat"
      ],
      "execution_count": null,
      "outputs": [
        {
          "output_type": "execute_result",
          "data": {
            "text/plain": [
              "tensor([1.0095], grad_fn=<AddBackward0>)"
            ]
          },
          "metadata": {},
          "execution_count": 45
        }
      ]
    },
    {
      "cell_type": "code",
      "metadata": {
        "colab": {
          "base_uri": "https://localhost:8080/",
          "height": 279
        },
        "id": "Rd8YY4PDgj_e",
        "outputId": "f6273adc-3a9d-4d41-b401-d514fe638ce2"
      },
      "source": [
        "plt.plot(losses_2)\n",
        "plt.ylabel('loss size')\n",
        "plt.xlabel('num iterarion')\n",
        "plt.show()"
      ],
      "execution_count": null,
      "outputs": [
        {
          "output_type": "display_data",
          "data": {
            "image/png": "[encoded data removed]",
            "text/plain": [
              "<Figure size 432x288 with 1 Axes>"
            ]
          },
          "metadata": {
            "needs_background": "light"
          }
        }
      ]
    },
    {
      "cell_type": "code",
      "metadata": {
        "id": "Hv30YcC_YkyX"
      },
      "source": [
        "#ex2.3\n",
        "# creating input vector and initial weights\n",
        "mu_x=0\n",
        "sigma_x= 1\n",
        "n0=100\n",
        "n1=200\n",
        "\n",
        "# x_vec = torch.from_numpy(np.random.normal(mu_x, sigma_x, n0))\n",
        "x_vec = torch.randn(n0)\n",
        "z = torch.tensor(1.)"
      ],
      "execution_count": null,
      "outputs": []
    },
    {
      "cell_type": "code",
      "metadata": {
        "colab": {
          "base_uri": "https://localhost:8080/"
        },
        "id": "naxsD78_YkyY",
        "outputId": "9569e132-2edb-409d-dfc0-599fd201a94c"
      },
      "source": [
        "# setting up the network\n",
        "class Net(nn.Module):\n",
        "\n",
        "    def __init__(self, n0, n1):\n",
        "        super().__init__()\n",
        "        # an affine operation: y = Wx + b\n",
        "        self.fc1 = nn.Linear(n0, n1, bias=False)\n",
        "        self.fc1.weight.data.normal_(0, 0.01)\n",
        "        self.fc2 = nn.Linear(n1, 1, bias=False)\n",
        "        self.fc2.weight.data.normal_(0, 0.05)\n",
        "\n",
        "\n",
        "    def forward(self, x):\n",
        "        x = self.fc1(x)\n",
        "        z_hat = self.fc2(x)\n",
        "        return z_hat\n",
        "\n",
        "\n",
        "net = Net(n0, n1)\n",
        "state_dict_init = deepcopy(net.state_dict())\n",
        "w1_init = net.fc1.weight.clone()\n",
        "w2_init = net.fc2.weight.clone()\n",
        "\n",
        "print(net)"
      ],
      "execution_count": null,
      "outputs": [
        {
          "output_type": "stream",
          "name": "stdout",
          "text": [
            "Net(\n",
            "  (fc1): Linear(in_features=100, out_features=200, bias=False)\n",
            "  (fc2): Linear(in_features=200, out_features=1, bias=False)\n",
            ")\n"
          ]
        }
      ]
    },
    {
      "cell_type": "code",
      "metadata": {
        "id": "LaiPQEoIYkyb"
      },
      "source": [
        "# defining loss function and optimization algorithm \n",
        "loss_f = nn.MSELoss()\n",
        "optimizer = optim.SGD(net.parameters(), lr = 0.01)\n",
        "losses=[]\n",
        "\n"
      ],
      "execution_count": null,
      "outputs": []
    },
    {
      "cell_type": "code",
      "metadata": {
        "colab": {
          "base_uri": "https://localhost:8080/"
        },
        "id": "RyXCcJSbYkyc",
        "outputId": "afa31cf9-9d57-4cee-ecd5-51a43ad3d2c7"
      },
      "source": [
        "# training the net\n",
        "steps = 20\n",
        "\n",
        "for i in range(steps):\n",
        "    # zero the parameter gradients\n",
        "    optimizer.zero_grad()\n",
        "\n",
        "    # forward + backward + optimize\n",
        "    # net = net.float()\n",
        "    z_hat = net(x_vec)#.float())\n",
        "    # loss = loss_f(z_hat.float(), z.float())\n",
        "    loss = loss_f(z_hat, z)\n",
        "    loss.backward()\n",
        "    losses.append(loss)\n",
        "    optimizer.step()"
      ],
      "execution_count": null,
      "outputs": [
        {
          "output_type": "stream",
          "name": "stderr",
          "text": [
            "/usr/local/lib/python3.7/dist-packages/torch/nn/modules/loss.py:520: UserWarning: Using a target size (torch.Size([])) that is different to the input size (torch.Size([1])). This will likely lead to incorrect results due to broadcasting. Please ensure they have the same size.\n",
            "  return F.mse_loss(input, target, reduction=self.reduction)\n"
          ]
        }
      ]
    },
    {
      "cell_type": "code",
      "metadata": {
        "colab": {
          "base_uri": "https://localhost:8080/"
        },
        "id": "8agDDBFcYkyc",
        "outputId": "410c708f-ae46-447c-c80d-98dc0721f447"
      },
      "source": [
        "z_hat = net(x_vec.float())\n",
        "z_hat"
      ],
      "execution_count": null,
      "outputs": [
        {
          "output_type": "execute_result",
          "data": {
            "text/plain": [
              "tensor([1.], grad_fn=<SqueezeBackward3>)"
            ]
          },
          "metadata": {},
          "execution_count": 51
        }
      ]
    },
    {
      "cell_type": "code",
      "metadata": {
        "colab": {
          "base_uri": "https://localhost:8080/",
          "height": 279
        },
        "id": "jUV40Sp4e-tR",
        "outputId": "3187a99a-ae40-42a5-ab1d-299861b7bee8"
      },
      "source": [
        "plt.plot(losses)\n",
        "plt.ylabel('loss size')\n",
        "plt.xlabel('num iterarion')\n",
        "plt.show()"
      ],
      "execution_count": null,
      "outputs": [
        {
          "output_type": "display_data",
          "data": {
            "image/png": "[encoded data removed]",
            "text/plain": [
              "<Figure size 432x288 with 1 Axes>"
            ]
          },
          "metadata": {
            "needs_background": "light"
          }
        }
      ]
    },
    {
      "cell_type": "code",
      "metadata": {
        "colab": {
          "base_uri": "https://localhost:8080/"
        },
        "id": "lV3l_mWhk2HP",
        "outputId": "ad5b0b7b-9604-4a4d-a7f9-e1697b49d195"
      },
      "source": [
        "# Ex3\n",
        "# w1- init w2-final\n",
        "with torch.no_grad():\n",
        "  w1_final=net.fc1.weight.clone()\n",
        "  w2_final=net.fc2.weight.clone()\n",
        "\n",
        "  net.fc1.weight[:] = w1_init\n",
        "  z_hat_0 = net(x_vec.float())\n",
        "  loss_0 = loss_f(z_hat_0.float(), z.float())\n",
        "  print(f\"z_hat_0: {z_hat_0[0]:.3f}, loss_0: {loss_0:.3f}\")\n"
      ],
      "execution_count": null,
      "outputs": [
        {
          "output_type": "stream",
          "name": "stdout",
          "text": [
            "z_hat_0: -0.016, loss_0: 1.033\n"
          ]
        },
        {
          "output_type": "stream",
          "name": "stderr",
          "text": [
            "/usr/local/lib/python3.7/dist-packages/torch/nn/modules/loss.py:520: UserWarning: Using a target size (torch.Size([])) that is different to the input size (torch.Size([1])). This will likely lead to incorrect results due to broadcasting. Please ensure they have the same size.\n",
            "  return F.mse_loss(input, target, reduction=self.reduction)\n"
          ]
        }
      ]
    },
    {
      "cell_type": "code",
      "metadata": {
        "colab": {
          "base_uri": "https://localhost:8080/"
        },
        "id": "lXOzRBMBl9O4",
        "outputId": "64626336-1dcd-4ac4-e469-60a6dbe35b78"
      },
      "source": [
        "# w1- final w2-init\n",
        "with torch.no_grad():\n",
        "  net.fc1.weight[:] = w1_final\n",
        "  net.fc2.weight[:]=w2_init\n",
        "  z_hat_0 = net(x_vec.float())\n",
        "  loss_0 = loss_f(z_hat_0.float(), z.float())\n",
        "  print(f\"z_hat_0: {z_hat_0[0]:.3f}, loss_0: {loss_0:.3f}\")"
      ],
      "execution_count": null,
      "outputs": [
        {
          "output_type": "stream",
          "name": "stdout",
          "text": [
            "z_hat_0: 0.973, loss_0: 0.001\n"
          ]
        },
        {
          "output_type": "stream",
          "name": "stderr",
          "text": [
            "/usr/local/lib/python3.7/dist-packages/torch/nn/modules/loss.py:520: UserWarning: Using a target size (torch.Size([])) that is different to the input size (torch.Size([1])). This will likely lead to incorrect results due to broadcasting. Please ensure they have the same size.\n",
            "  return F.mse_loss(input, target, reduction=self.reduction)\n"
          ]
        }
      ]
    },
    {
      "cell_type": "code",
      "metadata": {
        "id": "i43NlKzXYkyd",
        "colab": {
          "base_uri": "https://localhost:8080/",
          "height": 333
        },
        "outputId": "fc81db49-af73-4678-f982-11b153221abe"
      },
      "source": [
        "# freeze w1, train w2\n",
        "with torch.no_grad():\n",
        "    net.fc1.weight[:] = w1_init\n",
        "# training the net\n",
        "losses=[]\n",
        "steps = 20\n",
        "\n",
        "for i in range(steps):\n",
        "    # zero the parameter gradients\n",
        "    optimizer.zero_grad()\n",
        "\n",
        "    # forward + backward + optimize\n",
        "    # net = net.float()\n",
        "    z_hat = net(x_vec)#.float())\n",
        "    # loss = loss_f(z_hat.float(), z.float())\n",
        "    loss = loss_f(z_hat, z)\n",
        "    loss.backward()\n",
        "    losses.append(loss)\n",
        "    optimizer.step()\n",
        "\n",
        "z_hat = net(x_vec.float())\n",
        "z_hat\n",
        "plt.plot(losses)\n",
        "plt.ylabel('loss size')\n",
        "plt.xlabel('num iterarion')\n",
        "plt.show()\n",
        "\n"
      ],
      "execution_count": null,
      "outputs": [
        {
          "output_type": "stream",
          "name": "stderr",
          "text": [
            "/usr/local/lib/python3.7/dist-packages/torch/nn/modules/loss.py:520: UserWarning: Using a target size (torch.Size([])) that is different to the input size (torch.Size([1])). This will likely lead to incorrect results due to broadcasting. Please ensure they have the same size.\n",
            "  return F.mse_loss(input, target, reduction=self.reduction)\n"
          ]
        },
        {
          "output_type": "display_data",
          "data": {
            "image/png": "[encoded data removed]",
            "text/plain": [
              "<Figure size 432x288 with 1 Axes>"
            ]
          },
          "metadata": {
            "needs_background": "light"
          }
        }
      ]
    },
    {
      "cell_type": "code",
      "metadata": {
        "colab": {
          "base_uri": "https://localhost:8080/",
          "height": 333
        },
        "id": "fwSn_bQFo72k",
        "outputId": "810a1891-08f2-4fc1-d37b-8a05c0389245"
      },
      "source": [
        "# freeze w2, train w1\n",
        "with torch.no_grad():\n",
        "    net.fc2.weight[:] = w2_init\n",
        "# training the net\n",
        "losses=[]\n",
        "steps = 20\n",
        "\n",
        "for i in range(steps):\n",
        "    # zero the parameter gradients\n",
        "    optimizer.zero_grad()\n",
        "\n",
        "    # forward + backward + optimize\n",
        "    # net = net.float()\n",
        "    z_hat = net(x_vec)#.float())\n",
        "    # loss = loss_f(z_hat.float(), z.float())\n",
        "    loss = loss_f(z_hat, z)\n",
        "    loss.backward()\n",
        "    losses.append(loss)\n",
        "    optimizer.step()\n",
        "\n",
        "z_hat = net(x_vec.float())\n",
        "z_hat\n",
        "plt.plot(losses)\n",
        "plt.ylabel('loss size')\n",
        "plt.xlabel('num iterarion')\n",
        "plt.show()"
      ],
      "execution_count": null,
      "outputs": [
        {
          "output_type": "stream",
          "name": "stderr",
          "text": [
            "/usr/local/lib/python3.7/dist-packages/torch/nn/modules/loss.py:520: UserWarning: Using a target size (torch.Size([])) that is different to the input size (torch.Size([1])). This will likely lead to incorrect results due to broadcasting. Please ensure they have the same size.\n",
            "  return F.mse_loss(input, target, reduction=self.reduction)\n"
          ]
        },
        {
          "output_type": "display_data",
          "data": {
            "image/png": "[encoded data removed]",
            "text/plain": [
              "<Figure size 432x288 with 1 Axes>"
            ]
          },
          "metadata": {
            "needs_background": "light"
          }
        }
      ]
    },
    {
      "cell_type": "code",
      "metadata": {
        "id": "HgSFEkArpPPL"
      },
      "source": [
        "# Ex 4 (Part 3)\n",
        "\n"
      ],
      "execution_count": null,
      "outputs": []
    },
    {
      "cell_type": "code",
      "metadata": {
        "colab": {
          "base_uri": "https://localhost:8080/"
        },
        "id": "g8JNU640Ykye",
        "outputId": "632cfb07-0398-4fe8-8fd6-3e3ab230aecb"
      },
      "source": [
        "w1_init = net.fc1.weight.clone()\n",
        "\n",
        "net.state_dict()"
      ],
      "execution_count": null,
      "outputs": [
        {
          "output_type": "execute_result",
          "data": {
            "text/plain": [
              "OrderedDict([('fc1.weight',\n",
              "              tensor([[-0.0050, -0.0068,  0.0032,  ..., -0.0009,  0.0013,  0.0100],\n",
              "                      [ 0.0139,  0.0073, -0.0123,  ...,  0.0148,  0.0036,  0.0132],\n",
              "                      [ 0.0014,  0.0072,  0.0059,  ...,  0.0071, -0.0078, -0.0058],\n",
              "                      ...,\n",
              "                      [ 0.0104,  0.0006,  0.0202,  ...,  0.0072, -0.0026,  0.0095],\n",
              "                      [ 0.0138, -0.0039, -0.0029,  ...,  0.0062,  0.0041,  0.0054],\n",
              "                      [-0.0098,  0.0163, -0.0052,  ...,  0.0213, -0.0260, -0.0007]])),\n",
              "             ('fc2.weight',\n",
              "              tensor([[ 4.0493e-02, -1.5172e-02,  3.9456e-02,  9.1477e-02,  1.0502e-02,\n",
              "                        3.2768e-03,  4.5125e-02,  1.1051e-02,  3.1800e-02, -8.4543e-03,\n",
              "                        3.9618e-02,  1.0621e-01, -1.1689e-02,  4.7488e-02,  1.1326e-02,\n",
              "                       -2.1602e-02,  4.0779e-02, -7.3966e-02,  7.4389e-02, -1.8460e-02,\n",
              "                       -4.6115e-02, -4.6844e-02,  2.9978e-02,  3.0413e-02,  2.6316e-03,\n",
              "                        7.0932e-02, -8.2400e-03, -3.2626e-02,  6.0906e-03,  6.5806e-02,\n",
              "                       -3.1095e-02,  1.2682e-02,  1.0139e-01,  1.2596e-02, -9.2161e-02,\n",
              "                       -9.2770e-02,  5.6374e-02, -2.1370e-02,  1.1578e-01,  9.8542e-02,\n",
              "                       -1.0989e-02, -8.8366e-02,  7.6386e-02,  1.4310e-02,  5.1370e-02,\n",
              "                        5.7615e-02,  3.8970e-02,  2.0877e-02,  1.4621e-02, -4.8706e-02,\n",
              "                       -9.0063e-06,  6.7812e-02,  3.3223e-02, -1.3441e-01,  2.1405e-02,\n",
              "                       -5.5637e-02, -1.0452e-01,  7.5387e-03,  2.0132e-02,  4.1650e-02,\n",
              "                       -4.2243e-04,  4.6128e-02, -5.1195e-02, -5.0526e-02,  8.4708e-02,\n",
              "                        5.4755e-02,  3.9880e-02, -2.7148e-02,  6.0625e-02,  8.4704e-03,\n",
              "                        2.6303e-02, -2.7326e-03, -9.8017e-03,  1.8309e-02, -3.0485e-02,\n",
              "                       -1.0242e-01, -1.0170e-01, -3.2114e-02, -1.2711e-01, -8.0232e-04,\n",
              "                       -2.6120e-02,  4.5123e-02,  2.8866e-02,  5.1101e-02,  4.5354e-02,\n",
              "                        2.2058e-02,  2.1531e-02,  1.1669e-01,  4.6936e-02, -5.4997e-02,\n",
              "                        3.3219e-02,  5.1198e-02, -3.6326e-02, -4.2220e-02,  2.7190e-02,\n",
              "                        9.4515e-02, -7.7656e-02,  8.2229e-02, -9.6544e-03, -1.5312e-02,\n",
              "                        3.4357e-02,  5.0827e-02, -2.2279e-02,  5.4718e-02, -4.2297e-03,\n",
              "                       -7.2476e-03,  7.8495e-02, -3.9793e-02,  2.9239e-02, -1.0897e-01,\n",
              "                        5.2625e-03,  6.0181e-03,  1.7901e-02, -1.0421e-02, -8.6041e-02,\n",
              "                        9.0941e-02, -3.8313e-02,  3.5548e-02, -4.4542e-03,  6.2960e-02,\n",
              "                        7.3894e-02,  4.2778e-03,  5.9171e-03,  3.9817e-02,  9.0243e-02,\n",
              "                       -7.5845e-02,  8.7695e-02, -5.3058e-02,  7.9778e-02, -9.8290e-02,\n",
              "                        3.6803e-02,  7.5340e-02,  5.5704e-02, -4.5675e-02,  7.9430e-02,\n",
              "                       -5.0520e-02, -8.1970e-02, -9.0716e-02,  3.0829e-02,  3.2336e-02,\n",
              "                        1.1999e-01, -1.8674e-02,  1.1973e-02, -1.5882e-02, -1.3582e-02,\n",
              "                        5.2403e-02, -1.5831e-02, -4.4022e-03, -5.0155e-03, -1.1845e-01,\n",
              "                       -4.7247e-02,  8.4614e-02,  6.8183e-03, -4.7989e-02, -1.6358e-02,\n",
              "                       -3.5119e-02, -4.9937e-02, -1.5158e-02,  6.1732e-02, -5.2214e-03,\n",
              "                       -4.2106e-02,  1.6260e-02,  1.8144e-02,  1.6421e-02, -4.7848e-02,\n",
              "                       -3.6844e-03, -6.8873e-02,  9.4006e-02, -2.0039e-02,  8.0516e-03,\n",
              "                       -3.4056e-02, -4.4566e-03,  6.1667e-02,  6.3991e-02, -1.9335e-02,\n",
              "                        3.7041e-02,  7.1949e-02, -1.9318e-02, -2.9112e-02,  4.5493e-02,\n",
              "                       -9.6001e-03, -2.9325e-02, -8.3151e-02,  3.6550e-02,  1.0689e-01,\n",
              "                       -4.4345e-02,  6.8504e-02, -3.1754e-02,  5.6521e-03, -5.7669e-02,\n",
              "                       -6.4127e-03, -3.8723e-02, -2.7489e-03,  1.6092e-02, -1.1871e-02,\n",
              "                       -4.1093e-02,  2.6554e-02,  2.4194e-02, -1.7382e-02, -1.5614e-02]]))])"
            ]
          },
          "metadata": {},
          "execution_count": 26
        }
      ]
    },
    {
      "cell_type": "code",
      "metadata": {
        "colab": {
          "base_uri": "https://localhost:8080/"
        },
        "id": "t-zBMohGYkyf",
        "outputId": "681f1240-1bae-4784-ab48-277319f865c4"
      },
      "source": [
        "net.load_state_dict(state_dict_init)"
      ],
      "execution_count": null,
      "outputs": [
        {
          "output_type": "execute_result",
          "data": {
            "text/plain": [
              "<All keys matched successfully>"
            ]
          },
          "metadata": {},
          "execution_count": 27
        }
      ]
    },
    {
      "cell_type": "code",
      "metadata": {
        "id": "gSmsFKbyYkyg"
      },
      "source": [
        ""
      ],
      "execution_count": null,
      "outputs": []
    },
    {
      "cell_type": "code",
      "metadata": {
        "id": "378HOLAsYkyg"
      },
      "source": [
        "a = np.arange(5)\n",
        "b = a"
      ],
      "execution_count": null,
      "outputs": []
    },
    {
      "cell_type": "code",
      "metadata": {
        "id": "kcvPEaZqYkyg"
      },
      "source": [
        "a[0] = 10"
      ],
      "execution_count": null,
      "outputs": []
    },
    {
      "cell_type": "code",
      "metadata": {
        "colab": {
          "base_uri": "https://localhost:8080/"
        },
        "id": "5NRjNH05Ykyg",
        "outputId": "b0c8a47a-4841-4e28-b0d4-97a5136df2b8"
      },
      "source": [
        "a"
      ],
      "execution_count": null,
      "outputs": [
        {
          "output_type": "execute_result",
          "data": {
            "text/plain": [
              "array([10,  1,  2,  3,  4])"
            ]
          },
          "metadata": {},
          "execution_count": 30
        }
      ]
    },
    {
      "cell_type": "code",
      "metadata": {
        "colab": {
          "base_uri": "https://localhost:8080/"
        },
        "id": "0DqXuRKLYkyh",
        "outputId": "02edbbee-371d-40e6-cc3f-3a820d95d04e"
      },
      "source": [
        "b"
      ],
      "execution_count": null,
      "outputs": [
        {
          "output_type": "execute_result",
          "data": {
            "text/plain": [
              "array([10,  1,  2,  3,  4])"
            ]
          },
          "metadata": {},
          "execution_count": 31
        }
      ]
    },
    {
      "cell_type": "code",
      "metadata": {
        "id": "qxyDfX_zYkyh"
      },
      "source": [
        ""
      ],
      "execution_count": null,
      "outputs": []
    }
  ]
}