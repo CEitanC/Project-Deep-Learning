{
  "nbformat": 4,
  "nbformat_minor": 0,
  "metadata": {
    "interpreter": {
      "hash": "c7894602a0c985887175ef870b163991377e40017ef89bcf79ed228593e61d67"
    },
    "kernelspec": {
      "display_name": "Python 3.8.8 64-bit ('base': conda)",
      "name": "python3"
    },
    "language_info": {
      "codemirror_mode": {
        "name": "ipython",
        "version": 3
      },
      "file_extension": ".py",
      "mimetype": "text/x-python",
      "name": "python",
      "nbconvert_exporter": "python",
      "pygments_lexer": "ipython3",
      "version": "3.8.8"
    },
    "orig_nbformat": 4,
    "colab": {
      "name": "ex2_(1).ipynb",
      "provenance": [],
      "collapsed_sections": []
    }
  },
  "cells": [
    {
      "cell_type": "code",
      "metadata": {
        "id": "hGXKM4zDYkyF"
      },
      "source": [
        "import numpy as np\n",
        "import torch \n",
        "import torch.nn as nn\n",
        "import torch.nn.functional as F\n",
        "import torch.optim as optim\n",
        "from copy import deepcopy\n",
        "import matplotlib.pyplot as plt\n"
      ],
      "execution_count": 111,
      "outputs": []
    },
    {
      "cell_type": "code",
      "metadata": {
        "id": "ODGNE97jYkyL"
      },
      "source": [
        "#ex2.1\n",
        "# creating input vector and initial weights\n",
        "x = torch.tensor([1.])\n",
        "z = torch.tensor([1.])"
      ],
      "execution_count": 112,
      "outputs": []
    },
    {
      "cell_type": "code",
      "metadata": {
        "id": "nJpLrcTJYkyM"
      },
      "source": [
        "# setting up the network\n",
        "class Net_1(nn.Module):\n",
        "\n",
        "    def __init__(self):\n",
        "        super().__init__()\n",
        "        self.fc1 = nn.Linear(1, 1)\n",
        "        self.fc1.weight.data.normal_(0,0)\n",
        "        #self.fc1.weight.data.fill_(0)\n",
        "\n",
        "    def forward(self, x):\n",
        "        z_hat = self.fc1(x)\n",
        "        return z_hat\n",
        "\n",
        "net = Net_1()"
      ],
      "execution_count": 113,
      "outputs": []
    },
    {
      "cell_type": "code",
      "metadata": {
        "id": "wAz25RFJYkyO"
      },
      "source": [
        "# defining loss function and optimization algorithm \n",
        "loss_f = nn.MSELoss()\n",
        "optimizer = optim.SGD(net.parameters(), lr = 0.01)\n",
        "losses=[]\n",
        "weights=[]\n"
      ],
      "execution_count": 114,
      "outputs": []
    },
    {
      "cell_type": "code",
      "metadata": {
        "id": "bfNAbHOjYkyP"
      },
      "source": [
        "# training the net\n",
        "steps = 80\n",
        "\n",
        "for i in range(steps):\n",
        "    # zero the parameter gradients\n",
        "    optimizer.zero_grad()\n",
        "\n",
        "    # forward + backward + optimize\n",
        "    net = net.float()\n",
        "\n",
        "    z_hat = net(x)\n",
        "    loss = loss_f(z_hat, z)\n",
        "    losses.append(loss)\n",
        "    loss.backward()\n",
        "    optimizer.step()\n",
        "    weights.append(deepcopy(net.fc1.weight))"
      ],
      "execution_count": 115,
      "outputs": []
    },
    {
      "cell_type": "code",
      "metadata": {
        "colab": {
          "base_uri": "https://localhost:8080/"
        },
        "id": "tG1VgEkyYkyQ",
        "outputId": "a8f3f939-f59f-4739-c48f-7bccd00f9a33"
      },
      "source": [
        "z_hat1 = net(x)\n",
        "z_hat1"
      ],
      "execution_count": 116,
      "outputs": [
        {
          "output_type": "execute_result",
          "data": {
            "text/plain": [
              "tensor([0.9632], grad_fn=<AddBackward0>)"
            ]
          },
          "metadata": {},
          "execution_count": 116
        }
      ]
    },
    {
      "cell_type": "code",
      "metadata": {
        "colab": {
          "base_uri": "https://localhost:8080/",
          "height": 312
        },
        "id": "Voj8TuzEabsF",
        "outputId": "c6a604f0-f811-4ac9-d253-cafcc7b9805e"
      },
      "source": [
        "plt.plot(losses)\n",
        "plt.title('loss vs iteration')\n",
        "plt.ylabel('loss')\n",
        "plt.xlabel('iterarion')"
      ],
      "execution_count": 117,
      "outputs": [
        {
          "output_type": "execute_result",
          "data": {
            "text/plain": [
              "Text(0.5, 0, 'iterarion')"
            ]
          },
          "metadata": {},
          "execution_count": 117
        },
        {
          "output_type": "display_data",
          "data": {
            "image/png": "[encoded data removed]",
            "text/plain": [
              "<Figure size 432x288 with 1 Axes>"
            ]
          },
          "metadata": {
            "needs_background": "light"
          }
        }
      ]
    },
    {
      "cell_type": "code",
      "metadata": {
        "id": "RZkWiXoicZOy",
        "colab": {
          "base_uri": "https://localhost:8080/"
        },
        "outputId": "76ec5072-b5d3-4ad0-b1ae-6d3b46a1f7b3"
      },
      "source": [
        "len(losses)\n",
        "losses[79]"
      ],
      "execution_count": 118,
      "outputs": [
        {
          "output_type": "execute_result",
          "data": {
            "text/plain": [
              "tensor(0.0015, grad_fn=<MseLossBackward0>)"
            ]
          },
          "metadata": {},
          "execution_count": 118
        }
      ]
    },
    {
      "cell_type": "code",
      "metadata": {
        "id": "oUbtt02LaCtb",
        "colab": {
          "base_uri": "https://localhost:8080/"
        },
        "outputId": "7b6882d9-9e89-417b-9146-d1ba2832b100"
      },
      "source": [
        "len(weights)\n",
        "type(weights[79])\n",
        "norm=float(weights[79])\n",
        "type(norm)\n",
        "norm"
      ],
      "execution_count": 119,
      "outputs": [
        {
          "output_type": "execute_result",
          "data": {
            "text/plain": [
              "0.4641243815422058"
            ]
          },
          "metadata": {},
          "execution_count": 119
        }
      ]
    },
    {
      "cell_type": "code",
      "metadata": {
        "colab": {
          "base_uri": "https://localhost:8080/",
          "height": 312
        },
        "id": "KI8VlTGybrM1",
        "outputId": "f28244d2-5524-4b4c-a2a6-d1e2934a27e0"
      },
      "source": [
        "plt.plot(weights)\n",
        "plt.title('w1 vs iteration')\n",
        "plt.ylabel('w')\n",
        "plt.xlabel('iterarion')\n",
        "x_=np.linspace(0,3,80)\n",
        "\n",
        "y=float(weights[79])*(1-np.exp(-x_))\n",
        "#y=1-np.exp(-x_)\n",
        "\n",
        "plt.plot(y)\n"
      ],
      "execution_count": 120,
      "outputs": [
        {
          "output_type": "execute_result",
          "data": {
            "text/plain": [
              "[<matplotlib.lines.Line2D at 0x7f447619d5d0>]"
            ]
          },
          "metadata": {},
          "execution_count": 120
        },
        {
          "output_type": "display_data",
          "data": {
            "image/png": "[encoded data removed]",
            "text/plain": [
              "<Figure size 432x288 with 1 Axes>"
            ]
          },
          "metadata": {
            "needs_background": "light"
          }
        }
      ]
    },
    {
      "cell_type": "code",
      "metadata": {
        "id": "bxrNu6PvYkyR"
      },
      "source": [
        "#ex2.2\n",
        "# creating input vector and initial weights\n",
        "\n",
        "n0=100\n",
        "\n",
        "x_vec = torch.randn(n0)\n",
        "z = torch.tensor(1.0)\n",
        "\n"
      ],
      "execution_count": 121,
      "outputs": []
    },
    {
      "cell_type": "code",
      "metadata": {
        "id": "iZniDuQcYkyS"
      },
      "source": [
        "# setting up the network\n",
        "class Net(nn.Module):\n",
        "\n",
        "    def __init__(self, n0):\n",
        "        super().__init__()\n",
        "        # an affine operation: y = Wx + b\n",
        "        self.fc1 = nn.Linear(n0, 1)\n",
        "        self.fc1.weight.data.normal_(1, 0.01)\n",
        "\n",
        "    def forward(self, x):\n",
        "        z_hat = self.fc1(x)\n",
        "        return z_hat\n",
        "\n",
        "net = Net(n0)"
      ],
      "execution_count": 122,
      "outputs": []
    },
    {
      "cell_type": "code",
      "metadata": {
        "id": "wNskNasyYkyT"
      },
      "source": [
        "# defining loss function and optimization algorithm \n",
        "loss_f = nn.MSELoss()\n",
        "optimizer = optim.SGD(net.parameters(), lr = 0.01)\n",
        "losses_2=[]"
      ],
      "execution_count": 123,
      "outputs": []
    },
    {
      "cell_type": "code",
      "metadata": {
        "colab": {
          "base_uri": "https://localhost:8080/"
        },
        "id": "2OjtOtqzYkyU",
        "outputId": "dfe80583-6d66-4709-e7dc-345fde146b13"
      },
      "source": [
        "# training the net\n",
        "steps = 20\n",
        "\n",
        "for i in range(steps):\n",
        "    # zero the parameter gradients\n",
        "    optimizer.zero_grad()\n",
        "\n",
        "    # forward + backward + optimize\n",
        "    \n",
        "    z_hat = net(x_vec)\n",
        "    loss = loss_f(z_hat, z)\n",
        "    losses_2.append(loss)\n",
        "    loss.backward()\n",
        "    optimizer.step()"
      ],
      "execution_count": 124,
      "outputs": [
        {
          "output_type": "stream",
          "name": "stderr",
          "text": [
            "/usr/local/lib/python3.7/dist-packages/torch/nn/modules/loss.py:520: UserWarning: Using a target size (torch.Size([])) that is different to the input size (torch.Size([1])). This will likely lead to incorrect results due to broadcasting. Please ensure they have the same size.\n",
            "  return F.mse_loss(input, target, reduction=self.reduction)\n"
          ]
        }
      ]
    },
    {
      "cell_type": "code",
      "metadata": {
        "colab": {
          "base_uri": "https://localhost:8080/"
        },
        "id": "CzbBAoHIYkyV",
        "outputId": "f5d7f956-88c1-43d2-f4b4-7e409a42e6a0"
      },
      "source": [
        "z_hat = net(x_vec)\n",
        "z_hat"
      ],
      "execution_count": 125,
      "outputs": [
        {
          "output_type": "execute_result",
          "data": {
            "text/plain": [
              "tensor([16.4567], grad_fn=<AddBackward0>)"
            ]
          },
          "metadata": {},
          "execution_count": 125
        }
      ]
    },
    {
      "cell_type": "code",
      "metadata": {
        "colab": {
          "base_uri": "https://localhost:8080/",
          "height": 279
        },
        "id": "Rd8YY4PDgj_e",
        "outputId": "894dba79-b372-4a82-e928-9dfba2bfa7bf"
      },
      "source": [
        "plt.plot(losses_2)\n",
        "plt.ylabel('loss size')\n",
        "plt.xlabel('num iterarion')\n",
        "plt.show()"
      ],
      "execution_count": 126,
      "outputs": [
        {
          "output_type": "display_data",
          "data": {
            "image/png": "[encoded data removed]",
            "text/plain": [
              "<Figure size 432x288 with 1 Axes>"
            ]
          },
          "metadata": {
            "needs_background": "light"
          }
        }
      ]
    },
    {
      "cell_type": "code",
      "metadata": {
        "id": "Hv30YcC_YkyX"
      },
      "source": [
        "#ex2.3\n",
        "# creating input vector and initial weights\n",
        "mu_x=0\n",
        "sigma_x= 1\n",
        "n0=100\n",
        "n1=200\n",
        "\n",
        "# x_vec = torch.from_numpy(np.random.normal(mu_x, sigma_x, n0))\n",
        "x_vec = torch.randn(n0)\n",
        "z = torch.tensor(1.)"
      ],
      "execution_count": 127,
      "outputs": []
    },
    {
      "cell_type": "code",
      "metadata": {
        "colab": {
          "base_uri": "https://localhost:8080/"
        },
        "id": "naxsD78_YkyY",
        "outputId": "37d6fbc5-bb2b-4853-d6b2-c5c4b9995cc7"
      },
      "source": [
        "# setting up the network\n",
        "class Net(nn.Module):\n",
        "\n",
        "    def __init__(self, n0, n1):\n",
        "        super().__init__()\n",
        "        # an affine operation: y = Wx + b\n",
        "        self.fc1 = nn.Linear(n0, n1, bias=False)\n",
        "        self.fc1.weight.data.normal_(0, 0.01)\n",
        "        self.fc2 = nn.Linear(n1, 1, bias=False)\n",
        "        self.fc2.weight.data.normal_(0, 0.05)\n",
        "\n",
        "\n",
        "    def forward(self, x):\n",
        "        x = self.fc1(x)\n",
        "        z_hat = self.fc2(x)\n",
        "        return z_hat\n",
        "\n",
        "\n",
        "net = Net(n0, n1)\n",
        "state_dict_init = deepcopy(net.state_dict())\n",
        "w1_init = net.fc1.weight.clone()\n",
        "w2_init = net.fc2.weight.clone()\n",
        "\n",
        "print(net)"
      ],
      "execution_count": 128,
      "outputs": [
        {
          "output_type": "stream",
          "name": "stdout",
          "text": [
            "Net(\n",
            "  (fc1): Linear(in_features=100, out_features=200, bias=False)\n",
            "  (fc2): Linear(in_features=200, out_features=1, bias=False)\n",
            ")\n"
          ]
        }
      ]
    },
    {
      "cell_type": "code",
      "metadata": {
        "id": "LaiPQEoIYkyb"
      },
      "source": [
        "# defining loss function and optimization algorithm \n",
        "loss_f = nn.MSELoss()\n",
        "optimizer = optim.SGD(net.parameters(), lr = 0.01)\n",
        "losses=[]\n",
        "\n"
      ],
      "execution_count": 129,
      "outputs": []
    },
    {
      "cell_type": "code",
      "metadata": {
        "colab": {
          "base_uri": "https://localhost:8080/"
        },
        "id": "RyXCcJSbYkyc",
        "outputId": "d4ac1f3f-521b-4469-86c3-2a911df98f42"
      },
      "source": [
        "# training the net\n",
        "steps = 20\n",
        "\n",
        "for i in range(steps):\n",
        "    # zero the parameter gradients\n",
        "    optimizer.zero_grad()\n",
        "\n",
        "    # forward + backward + optimize\n",
        "    z_hat = net(x_vec)\n",
        "    loss = loss_f(z_hat, z)\n",
        "    loss.backward()\n",
        "    losses.append(loss)\n",
        "    optimizer.step()"
      ],
      "execution_count": 130,
      "outputs": [
        {
          "output_type": "stream",
          "name": "stderr",
          "text": [
            "/usr/local/lib/python3.7/dist-packages/torch/nn/modules/loss.py:520: UserWarning: Using a target size (torch.Size([])) that is different to the input size (torch.Size([1])). This will likely lead to incorrect results due to broadcasting. Please ensure they have the same size.\n",
            "  return F.mse_loss(input, target, reduction=self.reduction)\n"
          ]
        }
      ]
    },
    {
      "cell_type": "code",
      "metadata": {
        "colab": {
          "base_uri": "https://localhost:8080/"
        },
        "id": "8agDDBFcYkyc",
        "outputId": "75636ca0-ac39-4225-ddf8-7f5007e4e9b1"
      },
      "source": [
        "z_hat = net(x_vec.float())\n",
        "z_hat"
      ],
      "execution_count": 131,
      "outputs": [
        {
          "output_type": "execute_result",
          "data": {
            "text/plain": [
              "tensor([1.], grad_fn=<SqueezeBackward3>)"
            ]
          },
          "metadata": {},
          "execution_count": 131
        }
      ]
    },
    {
      "cell_type": "code",
      "metadata": {
        "colab": {
          "base_uri": "https://localhost:8080/",
          "height": 279
        },
        "id": "jUV40Sp4e-tR",
        "outputId": "0ebdb542-7691-4264-f540-63f0c0a18041"
      },
      "source": [
        "plt.plot(losses)\n",
        "plt.ylabel('loss size')\n",
        "plt.xlabel('num iterarion')\n",
        "plt.show()"
      ],
      "execution_count": 132,
      "outputs": [
        {
          "output_type": "display_data",
          "data": {
            "image/png": "[encoded data removed]",
            "text/plain": [
              "<Figure size 432x288 with 1 Axes>"
            ]
          },
          "metadata": {
            "needs_background": "light"
          }
        }
      ]
    },
    {
      "cell_type": "code",
      "metadata": {
        "colab": {
          "base_uri": "https://localhost:8080/"
        },
        "id": "lV3l_mWhk2HP",
        "outputId": "4ef77c72-9403-46aa-d46b-49f8fb3228a8"
      },
      "source": [
        "# Ex3\n",
        "# w1- init w2-final\n",
        "with torch.no_grad():\n",
        "  w1_final=net.fc1.weight.clone()\n",
        "  w2_final=net.fc2.weight.clone()\n",
        "\n",
        "  net.fc1.weight[:] = w1_init\n",
        "  z_hat_0 = net(x_vec)\n",
        "  loss_0 = loss_f(z_hat_0, z)\n",
        "  print(f\"z_hat_0: {z_hat_0[0]:.3f}, loss_0: {loss_0:.3f}\")\n"
      ],
      "execution_count": 133,
      "outputs": [
        {
          "output_type": "stream",
          "name": "stdout",
          "text": [
            "z_hat_0: -0.047, loss_0: 1.096\n"
          ]
        },
        {
          "output_type": "stream",
          "name": "stderr",
          "text": [
            "/usr/local/lib/python3.7/dist-packages/torch/nn/modules/loss.py:520: UserWarning: Using a target size (torch.Size([])) that is different to the input size (torch.Size([1])). This will likely lead to incorrect results due to broadcasting. Please ensure they have the same size.\n",
            "  return F.mse_loss(input, target, reduction=self.reduction)\n"
          ]
        }
      ]
    },
    {
      "cell_type": "code",
      "metadata": {
        "colab": {
          "base_uri": "https://localhost:8080/"
        },
        "id": "lXOzRBMBl9O4",
        "outputId": "9713fcf5-9fae-4ba9-d699-33db85c77d80"
      },
      "source": [
        "# w1- final w2-init\n",
        "with torch.no_grad():\n",
        "  net.fc1.weight[:] = w1_final\n",
        "  net.fc2.weight[:]=w2_init\n",
        "  z_hat_0 = net(x_vec)\n",
        "  loss_0 = loss_f(z_hat_0, z)\n",
        "  print(f\"z_hat_0: {z_hat_0[0]:.3f}, loss_0: {loss_0:.3f}\")"
      ],
      "execution_count": 134,
      "outputs": [
        {
          "output_type": "stream",
          "name": "stdout",
          "text": [
            "z_hat_0: 0.970, loss_0: 0.001\n"
          ]
        },
        {
          "output_type": "stream",
          "name": "stderr",
          "text": [
            "/usr/local/lib/python3.7/dist-packages/torch/nn/modules/loss.py:520: UserWarning: Using a target size (torch.Size([])) that is different to the input size (torch.Size([1])). This will likely lead to incorrect results due to broadcasting. Please ensure they have the same size.\n",
            "  return F.mse_loss(input, target, reduction=self.reduction)\n"
          ]
        }
      ]
    },
    {
      "cell_type": "code",
      "metadata": {
        "id": "i43NlKzXYkyd",
        "colab": {
          "base_uri": "https://localhost:8080/",
          "height": 333
        },
        "outputId": "38e8afe9-74cc-4207-a4e3-ec0a67ad66d7"
      },
      "source": [
        "# freeze w1, train w2\n",
        "with torch.no_grad():\n",
        "    net.fc1.weight[:] = w1_init\n",
        "# training the net\n",
        "losses=[]\n",
        "steps = 20\n",
        "\n",
        "for i in range(steps):\n",
        "    # zero the parameter gradients\n",
        "    optimizer.zero_grad()\n",
        "\n",
        "    # forward + backward + optimize\n",
        "    z_hat = net(x_vec)\n",
        "    loss = loss_f(z_hat, z)\n",
        "    loss.backward()\n",
        "    losses.append(loss)\n",
        "    optimizer.step()\n",
        "\n",
        "z_hat = net(x_vec)\n",
        "z_hat\n",
        "plt.plot(losses)\n",
        "plt.ylabel('loss size')\n",
        "plt.xlabel('num iterarion')\n",
        "plt.show()\n",
        "\n"
      ],
      "execution_count": 135,
      "outputs": [
        {
          "output_type": "stream",
          "name": "stderr",
          "text": [
            "/usr/local/lib/python3.7/dist-packages/torch/nn/modules/loss.py:520: UserWarning: Using a target size (torch.Size([])) that is different to the input size (torch.Size([1])). This will likely lead to incorrect results due to broadcasting. Please ensure they have the same size.\n",
            "  return F.mse_loss(input, target, reduction=self.reduction)\n"
          ]
        },
        {
          "output_type": "display_data",
          "data": {
            "image/png": "[encoded data removed]",
            "text/plain": [
              "<Figure size 432x288 with 1 Axes>"
            ]
          },
          "metadata": {
            "needs_background": "light"
          }
        }
      ]
    },
    {
      "cell_type": "code",
      "metadata": {
        "colab": {
          "base_uri": "https://localhost:8080/",
          "height": 333
        },
        "id": "fwSn_bQFo72k",
        "outputId": "b1598cd8-ec2f-4a5b-fdbf-9c72999b4c6a"
      },
      "source": [
        "# freeze w2, train w1\n",
        "with torch.no_grad():\n",
        "    net.fc2.weight[:] = w2_init\n",
        "# training the net\n",
        "losses=[]\n",
        "steps = 20\n",
        "\n",
        "for i in range(steps):\n",
        "    # zero the parameter gradients\n",
        "    optimizer.zero_grad()\n",
        "\n",
        "    # forward + backward + optimize\n",
        "    z_hat = net(x_vec)\n",
        "    loss = loss_f(z_hat, z)\n",
        "    loss.backward()\n",
        "    losses.append(loss)\n",
        "    optimizer.step()\n",
        "\n",
        "z_hat = net(x_vec)\n",
        "z_hat\n",
        "plt.plot(losses)\n",
        "plt.ylabel('loss size')\n",
        "plt.xlabel('num iterarion')\n",
        "plt.show()"
      ],
      "execution_count": 136,
      "outputs": [
        {
          "output_type": "stream",
          "name": "stderr",
          "text": [
            "/usr/local/lib/python3.7/dist-packages/torch/nn/modules/loss.py:520: UserWarning: Using a target size (torch.Size([])) that is different to the input size (torch.Size([1])). This will likely lead to incorrect results due to broadcasting. Please ensure they have the same size.\n",
            "  return F.mse_loss(input, target, reduction=self.reduction)\n"
          ]
        },
        {
          "output_type": "display_data",
          "data": {
            "image/png": "[encoded data removed]",
            "text/plain": [
              "<Figure size 432x288 with 1 Axes>"
            ]
          },
          "metadata": {
            "needs_background": "light"
          }
        }
      ]
    }
  ]
}