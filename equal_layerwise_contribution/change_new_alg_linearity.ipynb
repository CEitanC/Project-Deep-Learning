{
  "cells": [
    {
      "cell_type": "code",
      "execution_count": 74,
      "metadata": {
        "id": "yNw44bANatMy"
      },
      "outputs": [],
      "source": [
        "import numpy as np\n",
        "import torch \n",
        "import torch.nn as nn\n",
        "import torch.nn.functional as F\n",
        "import torch.optim as optim\n",
        "import new_alg_v1 as na\n",
        "import new_alg_v2 as na2\n",
        "from tqdm import tqdm\n",
        "import matplotlib.pyplot as plt"
      ]
    },
    {
      "cell_type": "code",
      "execution_count": 75,
      "metadata": {
        "id": "N5bGWCU4MHuY"
      },
      "outputs": [],
      "source": [
        "output_dim = 10\n",
        "# defining the network\n",
        "class Net(nn.Module):\n",
        "  def __init__(self, n):\n",
        "    super().__init__()\n",
        "    # an affine operation: y = Wx + b\n",
        "    torch.manual_seed(13)\n",
        "    self.fc1 = nn.Linear(n, 2*n, bias=False)\n",
        "    self.fc1.weight.data.normal_(0, 1/np.sqrt(n))\n",
        "    #torch.manual_seed(13)\n",
        "    self.fc2 = nn.Linear(2*n, output_dim, bias=False)\n",
        "    self.fc2.weight.data.normal_(0, 1/np.sqrt(n))\n",
        "\n",
        "  def forward(self, x):\n",
        "    x = self.fc1(x)\n",
        "    z_hat = self.fc2(x)\n",
        "    return z_hat"
      ]
    },
    {
      "cell_type": "code",
      "execution_count": 76,
      "metadata": {},
      "outputs": [],
      "source": [
        "n = 1000\n",
        "x_vec = torch.randn(n)\n",
        "z = torch.ones(output_dim)\n",
        "net = Net(n)\n",
        "\n",
        "w1_init = net.fc1.weight.clone()\n",
        "w2_init = net.fc2.weight.clone()\n",
        "\n",
        "\n",
        "# defining loss function and optimization algorithm \n",
        "loss_f = nn.MSELoss()\n",
        "lr = 0.01\n",
        "optimizerSGD = optim.SGD(net.parameters(), lr)\n",
        "optimizer = na.new_alg(net.parameters(), lr)\n",
        "\n",
        "# training the net\n",
        "steps = 500\n",
        "losses = []\n",
        "for i in range(steps):\n",
        "    # zero the parameter gradients\n",
        "    optimizerSGD.zero_grad()\n",
        "\n",
        "    # forward + backward + optimize\n",
        "    z_hat = net(x_vec)\n",
        "    loss = loss_f(z_hat, z)\n",
        "    losses.append(float(loss))\n",
        "    loss.backward()\n",
        "    optimizer.step()"
      ]
    },
    {
      "cell_type": "code",
      "execution_count": 77,
      "metadata": {},
      "outputs": [
        {
          "data": {
            "text/plain": [
              "0.7398260831832886"
            ]
          },
          "execution_count": 77,
          "metadata": {},
          "output_type": "execute_result"
        }
      ],
      "source": [
        "losses = np.array(losses)\n",
        "steps_vec = np.arange(0,steps,1)\n",
        "losses[steps - 1]\n"
      ]
    },
    {
      "cell_type": "code",
      "execution_count": 78,
      "metadata": {},
      "outputs": [
        {
          "data": {
            "text/plain": [
              "[<matplotlib.lines.Line2D at 0x2be05cae490>]"
            ]
          },
          "execution_count": 78,
          "metadata": {},
          "output_type": "execute_result"
        },
        {
          "data": {
            "image/png": "[encoded data removed]",
            "text/plain": [
              "<Figure size 1440x864 with 1 Axes>"
            ]
          },
          "metadata": {
            "needs_background": "light"
          },
          "output_type": "display_data"
        }
      ],
      "source": [
        "fig = plt.figure(figsize=(20, 12))\n",
        "ax1 = fig.add_subplot(221)\n",
        "ax1.plot(steps_vec, losses)"
      ]
    },
    {
      "cell_type": "code",
      "execution_count": 79,
      "metadata": {},
      "outputs": [
        {
          "name": "stdout",
          "output_type": "stream",
          "text": [
            "loss1 =  0.4995393753051758\n",
            "loss2 =  0.5323365926742554\n",
            "inital loss =  2.5183334350585938\n"
          ]
        }
      ],
      "source": [
        "w1_final = net.fc1.weight.clone()\n",
        "w2_final = net.fc2.weight.clone()\n",
        "\n",
        "#init weights\n",
        "with torch.no_grad():\n",
        "  net.fc1.weight[:] = w1_init\n",
        "\n",
        "z_hat = net(x_vec)\n",
        "loss1 = loss_f(z_hat, z)\n",
        "\n",
        "\n",
        "#init weights\n",
        "with torch.no_grad():\n",
        "  net.fc1.weight[:] = w1_final\n",
        "  net.fc2.weight[:] = w2_init\n",
        "\n",
        "z_hat = net(x_vec)\n",
        "loss2 = loss_f(z_hat, z)\n",
        "\n",
        "print(\"loss1 = \", float(loss1))\n",
        "print(\"loss2 = \", float(loss2))\n",
        "print(\"inital loss = \", float(losses[0]))"
      ]
    },
    {
      "cell_type": "markdown",
      "metadata": {},
      "source": [
        "# v2"
      ]
    },
    {
      "cell_type": "code",
      "execution_count": 80,
      "metadata": {},
      "outputs": [],
      "source": [
        "net = Net(n)\n",
        "\n",
        "w1_init = net.fc1.weight.clone()\n",
        "w2_init = net.fc2.weight.clone()\n",
        "lr = 0.001\n",
        "\n",
        "\n",
        "# defining loss function and optimization algorithm \n",
        "loss_f = nn.MSELoss()\n",
        "optimizerSGD = optim.SGD(net.parameters(), lr)\n",
        "optimizer = na2.new_alg(net.parameters(), lr)\n",
        "\n",
        "# training the net\n",
        "steps = 20\n",
        "losses = []\n",
        "for i in range(steps):\n",
        "    # zero the parameter gradients\n",
        "    optimizerSGD.zero_grad()\n",
        "\n",
        "    # forward + backward + optimize\n",
        "    z_hat = net(x_vec)\n",
        "    loss = loss_f(z_hat, z)\n",
        "    losses.append(float(loss))\n",
        "    loss.backward()\n",
        "    optimizer.step()"
      ]
    },
    {
      "cell_type": "code",
      "execution_count": 81,
      "metadata": {},
      "outputs": [
        {
          "data": {
            "text/plain": [
              "[{'params': [Parameter containing:\n",
              "   tensor([[ 0.0157,  0.0152,  0.0204,  ..., -0.0168,  0.0419,  0.0115],\n",
              "           [ 0.0155, -0.0753, -0.0108,  ..., -0.0031,  0.0285,  0.0081],\n",
              "           [-0.0377,  0.0150,  0.0499,  ..., -0.0163, -0.0289,  0.0525],\n",
              "           ...,\n",
              "           [-0.0247, -0.0375,  0.0009,  ...,  0.0003, -0.0921, -0.0163],\n",
              "           [ 0.0214, -0.0182, -0.0275,  ...,  0.0119,  0.0368,  0.0212],\n",
              "           [ 0.0194,  0.0157,  0.0167,  ..., -0.0274, -0.0011,  0.0299]],\n",
              "          requires_grad=True),\n",
              "   Parameter containing:\n",
              "   tensor([[ 0.0641,  0.0166, -0.0446,  ...,  0.0117,  0.0080, -0.0426],\n",
              "           [ 0.0136,  0.0025,  0.0190,  ..., -0.0016,  0.0043,  0.0490],\n",
              "           [-0.0108, -0.0191,  0.0074,  ...,  0.0523,  0.0185, -0.0092],\n",
              "           ...,\n",
              "           [-0.0129, -0.0253, -0.0354,  ...,  0.0242, -0.0216,  0.0210],\n",
              "           [-0.0433,  0.0082,  0.0143,  ..., -0.0162,  0.0449, -0.0373],\n",
              "           [ 0.0391, -0.0012, -0.0021,  ..., -0.0387,  0.0540,  0.0225]],\n",
              "          requires_grad=True)],\n",
              "  'lr': 0.001,\n",
              "  'momentum': 0,\n",
              "  'dampening': 0,\n",
              "  'weight_decay': 0,\n",
              "  'nesterov': False,\n",
              "  'maximize': False}]"
            ]
          },
          "execution_count": 81,
          "metadata": {},
          "output_type": "execute_result"
        }
      ],
      "source": [
        "optimizer.param_groups"
      ]
    },
    {
      "cell_type": "code",
      "execution_count": 82,
      "metadata": {},
      "outputs": [
        {
          "data": {
            "text/plain": [
              "8.81996364832105e-10"
            ]
          },
          "execution_count": 82,
          "metadata": {},
          "output_type": "execute_result"
        }
      ],
      "source": [
        "losses = np.array(losses)\n",
        "steps_vec = np.arange(0,steps,1)\n",
        "losses[steps - 1]\n"
      ]
    },
    {
      "cell_type": "code",
      "execution_count": 83,
      "metadata": {},
      "outputs": [
        {
          "data": {
            "text/plain": [
              "[<matplotlib.lines.Line2D at 0x2be05d029a0>]"
            ]
          },
          "execution_count": 83,
          "metadata": {},
          "output_type": "execute_result"
        },
        {
          "data": {
            "image/png": "[encoded data removed]",
            "text/plain": [
              "<Figure size 1440x864 with 1 Axes>"
            ]
          },
          "metadata": {
            "needs_background": "light"
          },
          "output_type": "display_data"
        }
      ],
      "source": [
        "fig = plt.figure(figsize=(20, 12))\n",
        "ax1 = fig.add_subplot(221)\n",
        "ax1.plot(steps_vec, losses)"
      ]
    },
    {
      "cell_type": "code",
      "execution_count": 84,
      "metadata": {},
      "outputs": [
        {
          "name": "stdout",
          "output_type": "stream",
          "text": [
            "loss1 =  0.628110408782959\n",
            "loss2 =  0.6255617737770081\n",
            "inital loss =  2.5183334350585938\n"
          ]
        }
      ],
      "source": [
        "w1_final = net.fc1.weight.clone()\n",
        "w2_final = net.fc2.weight.clone()\n",
        "\n",
        "#init weights\n",
        "with torch.no_grad():\n",
        "  net.fc1.weight[:] = w1_init\n",
        "\n",
        "z_hat = net(x_vec)\n",
        "loss1 = loss_f(z_hat, z)\n",
        "\n",
        "\n",
        "#init weights\n",
        "with torch.no_grad():\n",
        "  net.fc1.weight[:] = w1_final\n",
        "  net.fc2.weight[:] = w2_init\n",
        "\n",
        "z_hat = net(x_vec)\n",
        "loss2 = loss_f(z_hat, z)\n",
        "\n",
        "print(\"loss1 = \", float(loss1))\n",
        "print(\"loss2 = \", float(loss2))\n",
        "print(\"inital loss = \", float(losses[0]))"
      ]
    }
  ],
  "metadata": {
    "colab": {
      "collapsed_sections": [],
      "name": "Loss_Vs_n_output10.ipynb",
      "provenance": []
    },
    "interpreter": {
      "hash": "f1ab1c4420ee77e47dd796c1f0390d3d33956bdbe2bfd523727aad7b6e0efa70"
    },
    "kernelspec": {
      "display_name": "Python 3.8.8 ('base')",
      "language": "python",
      "name": "python3"
    },
    "language_info": {
      "codemirror_mode": {
        "name": "ipython",
        "version": 3
      },
      "file_extension": ".py",
      "mimetype": "text/x-python",
      "name": "python",
      "nbconvert_exporter": "python",
      "pygments_lexer": "ipython3",
      "version": "3.8.8"
    }
  },
  "nbformat": 4,
  "nbformat_minor": 0
}
