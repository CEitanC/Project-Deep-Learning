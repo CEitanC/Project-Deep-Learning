{
  "cells": [
    {
      "cell_type": "code",
      "execution_count": 1,
      "metadata": {
        "id": "yNw44bANatMy"
      },
      "outputs": [],
      "source": [
        "import numpy as np\n",
        "import torch \n",
        "import torch.nn as nn\n",
        "import torch.nn.functional as F\n",
        "import torch.optim as optim\n",
        "import new_alg_v1 as na\n",
        "import new_alg_v2 as na2\n",
        "import new_alg_v3 as na3\n",
        "from tqdm import tqdm\n",
        "import matplotlib.pyplot as plt"
      ]
    },
    {
      "cell_type": "code",
      "execution_count": 25,
      "metadata": {
        "id": "N5bGWCU4MHuY"
      },
      "outputs": [],
      "source": [
        "output_dim = 10\n",
        "# defining the network\n",
        "class Net(nn.Module):\n",
        "\n",
        "  def __init__(self, n):\n",
        "    super().__init__()\n",
        "    torch.manual_seed(13)\n",
        "    self.fc1 = nn.Linear(n, 2*n, bias=False)\n",
        "    self.fc1.weight.data.normal_(0, 1/np.sqrt(n))\n",
        "    self.fc2 = nn.Linear(2*n, 2*n, bias=False)\n",
        "    self.fc2.weight.data.normal_(0, 1/np.sqrt(n))\n",
        "    self.fc3 = nn.Linear(2*n, 2*n, bias=False)\n",
        "    self.fc3.weight.data.normal_(0, 1/np.sqrt(n))\n",
        "    self.fc4 = nn.Linear(2*n, output_dim, bias=False)\n",
        "    self.fc4.weight.data.normal_(0, 1/np.sqrt(n))\n",
        "\n",
        "    \n",
        "\n",
        "\n",
        "  def forward(self, x):\n",
        "    x = self.fc1(x)\n",
        "    x = self.fc2(x)\n",
        "    x = self.fc3(x)\n",
        "    z_hat = self.fc4(x)\n",
        "    return z_hat"
      ]
    },
    {
      "cell_type": "markdown",
      "metadata": {},
      "source": [
        "---\n",
        "# V1"
      ]
    },
    {
      "cell_type": "code",
      "execution_count": 3,
      "metadata": {},
      "outputs": [],
      "source": [
        "n = 1000\n",
        "x_vec = torch.randn(n)\n",
        "z = torch.ones(output_dim)\n",
        "net = Net(n)\n",
        "\n",
        "w1_init = net.fc1.weight.clone()\n",
        "w2_init = net.fc2.weight.clone()\n",
        "w3_init = net.fc3.weight.clone()\n",
        "w4_init = net.fc4.weight.clone()\n",
        "\n",
        "\n",
        "# defining loss function and optimization algorithm \n",
        "loss_f = nn.MSELoss()\n",
        "lr = 0.01\n",
        "optimizer = na.new_alg(net.parameters(), lr)\n",
        "\n",
        "# training the net\n",
        "steps = 80\n",
        "losses = []\n",
        "for i in range(steps):\n",
        "    # zero the parameter gradients\n",
        "    optimizer.zero_grad()\n",
        "\n",
        "    # forward + backward + optimize\n",
        "    z_hat = net(x_vec)\n",
        "    loss = loss_f(z_hat, z)\n",
        "    losses.append(float(loss))\n",
        "    loss.backward()\n",
        "    optimizer.step()"
      ]
    },
    {
      "cell_type": "code",
      "execution_count": 4,
      "metadata": {},
      "outputs": [
        {
          "data": {
            "text/plain": [
              "[<matplotlib.lines.Line2D at 0x1575413e7c0>]"
            ]
          },
          "execution_count": 4,
          "metadata": {},
          "output_type": "execute_result"
        },
        {
          "data": {
            "image/png": "[encoded data removed]",
            "text/plain": [
              "<Figure size 1440x864 with 1 Axes>"
            ]
          },
          "metadata": {
            "needs_background": "light"
          },
          "output_type": "display_data"
        }
      ],
      "source": [
        "losses = np.array(losses)\n",
        "steps_vec = np.arange(0,steps,1)\n",
        "\n",
        "fig = plt.figure(figsize=(20, 12))\n",
        "ax1 = fig.add_subplot(221)\n",
        "ax1.plot(steps_vec, losses)"
      ]
    },
    {
      "cell_type": "code",
      "execution_count": 5,
      "metadata": {},
      "outputs": [
        {
          "name": "stdout",
          "output_type": "stream",
          "text": [
            "loss1 =  4.579692840576172\n",
            "loss2 =  4.580399513244629\n",
            "loss3 =  4.580599784851074\n",
            "loss4 =  4.57999849319458\n",
            "inital loss =  7.067375183105469\n"
          ]
        }
      ],
      "source": [
        "w1_final = net.fc1.weight.clone()\n",
        "w2_final = net.fc2.weight.clone()\n",
        "w3_final = net.fc3.weight.clone()\n",
        "w4_final = net.fc4.weight.clone()\n",
        "\n",
        "#init weights fc1\n",
        "with torch.no_grad():\n",
        "  net.fc1.weight[:] = w1_init\n",
        "\n",
        "z_hat = net(x_vec)\n",
        "loss1 = loss_f(z_hat, z)\n",
        "\n",
        "\n",
        "#init weights fc2\n",
        "with torch.no_grad():\n",
        "  net.fc1.weight[:] = w1_final\n",
        "  net.fc2.weight[:] = w2_init\n",
        "\n",
        "z_hat = net(x_vec)\n",
        "loss2 = loss_f(z_hat, z)\n",
        "\n",
        "#init weights fc3\n",
        "with torch.no_grad():\n",
        "  net.fc2.weight[:] = w2_final\n",
        "  net.fc3.weight[:] = w3_init\n",
        "\n",
        "z_hat = net(x_vec)\n",
        "loss3 = loss_f(z_hat, z)\n",
        "\n",
        "#init weights fc4\n",
        "with torch.no_grad():\n",
        "  net.fc3.weight[:] = w3_final\n",
        "  net.fc4.weight[:] = w4_init\n",
        "\n",
        "z_hat = net(x_vec)\n",
        "loss4 = loss_f(z_hat, z)\n",
        "\n",
        "print(\"loss1 = \", float(loss1))\n",
        "print(\"loss2 = \", float(loss2))\n",
        "print(\"loss3 = \", float(loss3))\n",
        "print(\"loss4 = \", float(loss4))\n",
        "print(\"inital loss = \", float(losses[0]))"
      ]
    },
    {
      "cell_type": "code",
      "execution_count": 6,
      "metadata": {},
      "outputs": [
        {
          "data": {
            "text/plain": [
              "10"
            ]
          },
          "execution_count": 6,
          "metadata": {},
          "output_type": "execute_result"
        }
      ],
      "source": [
        "fc_v1_params = optimizer.param_groups[0]['params']\n",
        "len(fc_v1_params[3])"
      ]
    },
    {
      "cell_type": "code",
      "execution_count": 7,
      "metadata": {},
      "outputs": [
        {
          "data": {
            "text/plain": [
              "2000"
            ]
          },
          "execution_count": 7,
          "metadata": {},
          "output_type": "execute_result"
        }
      ],
      "source": [
        "params = optimizer.param_groups[0]['params']\n",
        "len(params)\n",
        "p0 = params[0]\n",
        "len(p0)"
      ]
    },
    {
      "cell_type": "code",
      "execution_count": 8,
      "metadata": {},
      "outputs": [
        {
          "name": "stdout",
          "output_type": "stream",
          "text": [
            "loss1 =  5.348295211791992\n",
            "loss2 =  5.348773002624512\n",
            "inital loss =  7.067375183105469\n"
          ]
        }
      ],
      "source": [
        "w1_final = net.fc1.weight.clone()\n",
        "w2_final = net.fc2.weight.clone()\n",
        "\n",
        "#init weights\n",
        "with torch.no_grad():\n",
        "  net.fc1.weight[:] = w1_init\n",
        "\n",
        "z_hat = net(x_vec)\n",
        "loss1 = loss_f(z_hat, z)\n",
        "\n",
        "\n",
        "#init weights\n",
        "with torch.no_grad():\n",
        "  net.fc1.weight[:] = w1_final\n",
        "  net.fc2.weight[:] = w2_init\n",
        "\n",
        "z_hat = net(x_vec)\n",
        "loss2 = loss_f(z_hat, z)\n",
        "\n",
        "print(\"loss1 = \", float(loss1))\n",
        "print(\"loss2 = \", float(loss2))\n",
        "print(\"inital loss = \", float(losses[0]))"
      ]
    },
    {
      "cell_type": "markdown",
      "metadata": {},
      "source": [
        "---\n",
        "# v2"
      ]
    },
    {
      "cell_type": "code",
      "execution_count": 30,
      "metadata": {},
      "outputs": [],
      "source": [
        "net = Net(n)\n",
        "\n",
        "w1_init = net.fc1.weight.clone()\n",
        "w2_init = net.fc2.weight.clone()\n",
        "lr = 0.0001\n",
        "\n",
        "# defining loss function and optimization algorithm \n",
        "loss_f = nn.MSELoss()\n",
        "optimizer = na2.new_alg(net.parameters(), lr)\n",
        "\n",
        "# training the net\n",
        "steps = 20\n",
        "losses = []\n",
        "for i in range(steps):\n",
        "    # zero the parameter gradients\n",
        "    optimizer.zero_grad()\n",
        "\n",
        "    # forward + backward + optimize\n",
        "    z_hat = net(x_vec)\n",
        "    loss = loss_f(z_hat, z)\n",
        "    losses.append(float(loss))\n",
        "    loss.backward()\n",
        "    optimizer.step()"
      ]
    },
    {
      "cell_type": "code",
      "execution_count": 31,
      "metadata": {},
      "outputs": [
        {
          "data": {
            "text/plain": [
              "[<matplotlib.lines.Line2D at 0x1574fa119a0>]"
            ]
          },
          "execution_count": 31,
          "metadata": {},
          "output_type": "execute_result"
        },
        {
          "data": {
            "image/png": "[encoded data removed]",
            "text/plain": [
              "<Figure size 1440x864 with 1 Axes>"
            ]
          },
          "metadata": {
            "needs_background": "light"
          },
          "output_type": "display_data"
        }
      ],
      "source": [
        "losses = np.array(losses)\n",
        "steps_vec = np.arange(0,steps,1)\n",
        "\n",
        "fig = plt.figure(figsize=(20, 12))\n",
        "ax1 = fig.add_subplot(221)\n",
        "ax1.plot(steps_vec, losses)"
      ]
    },
    {
      "cell_type": "code",
      "execution_count": 32,
      "metadata": {},
      "outputs": [
        {
          "name": "stdout",
          "output_type": "stream",
          "text": [
            "loss1 =  0.19791874289512634\n",
            "loss2 =  0.22261011600494385\n",
            "inital loss =  7.067375183105469\n"
          ]
        }
      ],
      "source": [
        "w1_final = net.fc1.weight.clone()\n",
        "w2_final = net.fc2.weight.clone()\n",
        "\n",
        "#init weights\n",
        "with torch.no_grad():\n",
        "  net.fc1.weight[:] = w1_init\n",
        "\n",
        "z_hat = net(x_vec)\n",
        "loss1 = loss_f(z_hat, z)\n",
        "\n",
        "\n",
        "#init weights\n",
        "with torch.no_grad():\n",
        "  net.fc1.weight[:] = w1_final\n",
        "  net.fc2.weight[:] = w2_init\n",
        "\n",
        "z_hat = net(x_vec)\n",
        "loss2 = loss_f(z_hat, z)\n",
        "\n",
        "print(\"loss1 = \", float(loss1))\n",
        "print(\"loss2 = \", float(loss2))\n",
        "print(\"inital loss = \", float(losses[0]))"
      ]
    },
    {
      "cell_type": "markdown",
      "metadata": {},
      "source": [
        "---\n",
        "# V3"
      ]
    },
    {
      "cell_type": "code",
      "execution_count": 42,
      "metadata": {},
      "outputs": [],
      "source": [
        "net = Net(n)\n",
        "\n",
        "w1_init = net.fc1.weight.clone()\n",
        "w2_init = net.fc2.weight.clone()\n",
        "lr = 0.000001\n",
        "\n",
        "# defining loss function and optimization algorithm \n",
        "loss_f = nn.MSELoss()\n",
        "optimizer = na3.new_alg(net.parameters(), lr)\n",
        "\n",
        "# training the net\n",
        "steps = 200\n",
        "losses = []\n",
        "for i in range(steps):\n",
        "    # zero the parameter gradients\n",
        "    optimizer.zero_grad()\n",
        "\n",
        "    # forward + backward + optimize\n",
        "    z_hat = net(x_vec)\n",
        "    loss = loss_f(z_hat, z)\n",
        "    losses.append(float(loss))\n",
        "    loss.backward()\n",
        "    optimizer.step()"
      ]
    },
    {
      "cell_type": "code",
      "execution_count": 43,
      "metadata": {},
      "outputs": [
        {
          "data": {
            "text/plain": [
              "[<matplotlib.lines.Line2D at 0x1574fbee730>]"
            ]
          },
          "execution_count": 43,
          "metadata": {},
          "output_type": "execute_result"
        },
        {
          "data": {
            "image/png": "[encoded data removed]",
            "text/plain": [
              "<Figure size 1440x864 with 1 Axes>"
            ]
          },
          "metadata": {
            "needs_background": "light"
          },
          "output_type": "display_data"
        }
      ],
      "source": [
        "losses = np.array(losses)\n",
        "steps_vec = np.arange(0,steps,1)\n",
        "\n",
        "fig = plt.figure(figsize=(20, 12))\n",
        "ax1 = fig.add_subplot(221)\n",
        "ax1.plot(steps_vec, losses)"
      ]
    },
    {
      "cell_type": "code",
      "execution_count": 45,
      "metadata": {},
      "outputs": [
        {
          "name": "stdout",
          "output_type": "stream",
          "text": [
            "loss1 =  1.7956082820892334\n",
            "loss2 =  0.4955110549926758\n",
            "inital loss =  7.067375183105469\n",
            "final loss =  0.0033819363452494144\n"
          ]
        }
      ],
      "source": [
        "w1_final = net.fc1.weight.clone()\n",
        "w2_final = net.fc2.weight.clone()\n",
        "\n",
        "#init weights\n",
        "with torch.no_grad():\n",
        "  net.fc1.weight[:] = w1_init\n",
        "\n",
        "z_hat = net(x_vec)\n",
        "loss1 = loss_f(z_hat, z)\n",
        "\n",
        "\n",
        "#init weights\n",
        "with torch.no_grad():\n",
        "  net.fc1.weight[:] = w1_final\n",
        "  net.fc2.weight[:] = w2_init\n",
        "\n",
        "z_hat = net(x_vec)\n",
        "loss2 = loss_f(z_hat, z)\n",
        "\n",
        "print(\"loss1 = \", float(loss1))\n",
        "print(\"loss2 = \", float(loss2))\n",
        "print(\"inital loss = \", float(losses[0]))\n",
        "print(\"final loss = \", float(losses[-1]))"
      ]
    },
    {
      "cell_type": "markdown",
      "metadata": {},
      "source": [
        "---\n",
        "# CNN - MNIST"
      ]
    },
    {
      "cell_type": "code",
      "execution_count": 15,
      "metadata": {},
      "outputs": [],
      "source": [
        "import numpy as np\n",
        "import torch\n",
        "# MNIST dataset\n",
        "from torchvision.datasets import MNIST, FashionMNIST\n",
        "from torchvision import transforms\n",
        "    \n",
        "def define_dataloaders(n_examples_train, n_examples_test, batch_size, classes=np.arange(10), zscore_images=True):\n",
        "    # MNIST data, batch training\n",
        "    #batch_size = n_examples_train\n",
        "\n",
        "    # Choose the classes (at most 10)\n",
        "    assert max(classes) <= 9\n",
        "\n",
        "    # Transformation for the images\n",
        "    transform = transforms.Compose([transforms.ToTensor(),\n",
        "                                  transforms.Normalize((0.5,), (0.5,)),\n",
        "                                  ])\n",
        "    trainset = MNIST(data_dir, download=True, train=True, transform=transform)\n",
        "    testset = MNIST(data_dir, download=True, train=False, transform=transform)\n",
        "\n",
        "    # Obtain training and test data. \n",
        "    # Note that both datasets are sorted, but the train and test loaders will shuffle them during training.\n",
        "    n_examples_tt = [n_examples_train, n_examples_test]\n",
        "    for i_d, (n_examples_i, dataset) in enumerate(zip(n_examples_tt, [trainset, testset])):\n",
        "        n_per_class = n_examples_i // len(classes)\n",
        "        data_orig = dataset.data.detach().clone()\n",
        "        targets_orig = dataset.targets.detach().clone()\n",
        "        for i_c, class_i in enumerate(classes):\n",
        "            mask = targets_orig == class_i\n",
        "            i0 = i_c * n_per_class\n",
        "            i1 = (i_c+1) * n_per_class\n",
        "            dataset.data[i0:i1] = data_orig[mask][:n_per_class]\n",
        "            dataset.targets[i0:i1] = targets_orig[mask][:n_per_class]\n",
        "        # Fill the remaining slots with random classes from the available choices\n",
        "        n_remain = n_examples_i - i1 \n",
        "        for i in range(n_remain):\n",
        "            class_i = np.random.choice(classes)\n",
        "            mask = targets_orig == class_i\n",
        "            idx_i = np.random.choice(torch.where(mask)[0].cpu())\n",
        "            dataset.data[i1+i] = data_orig[idx_i]\n",
        "            dataset.targets[i1+i] = targets_orig[idx_i]\n",
        "\n",
        "        # Cut off\n",
        "        dataset.data = dataset.data[:n_examples_i]\n",
        "        dataset.targets = dataset.targets[:n_examples_i]\n",
        "\n",
        "    # Batch-loader\n",
        "    trainloader = torch.utils.data.DataLoader(trainset, batch_size=batch_size, shuffle=True, num_workers=0)\n",
        "    testloader = torch.utils.data.DataLoader(testset, batch_size=n_examples_test, shuffle=False, num_workers=0)\n",
        "\n",
        "    return trainloader, testloader"
      ]
    },
    {
      "cell_type": "markdown",
      "metadata": {},
      "source": [
        "## Settings:\n",
        "- no dropout\n",
        "- no momentum\n",
        "- increased number of fetures/filters"
      ]
    },
    {
      "cell_type": "code",
      "execution_count": 16,
      "metadata": {},
      "outputs": [],
      "source": [
        "learning_rate = 0.01\n",
        "momentum = 0\n",
        "n_epochs = 100\n",
        "log_interval = 10"
      ]
    },
    {
      "cell_type": "code",
      "execution_count": 17,
      "metadata": {},
      "outputs": [],
      "source": [
        "#Building the Network\n",
        "\n",
        "class Net(nn.Module):\n",
        "    def __init__(self):\n",
        "        super(Net, self).__init__()\n",
        "        self.conv1 = nn.Conv2d(1, 10, kernel_size=5, bias=False)\n",
        "        self.conv2 = nn.Conv2d(10, 20, kernel_size=5, bias=False)\n",
        "        self.fc1 = nn.Linear(320, 50, bias=False)\n",
        "        self.fc2 = nn.Linear(50, 10, bias=False)\n",
        "\n",
        "    def forward(self, x):\n",
        "        x = torch.tanh(F.max_pool2d(self.conv1(x), 2))\n",
        "        x = torch.tanh(F.max_pool2d((self.conv2(x)), 2))\n",
        "        x = x.view(-1, 320)\n",
        "        x = torch.tanh(self.fc1(x))\n",
        "        x = self.fc2(x)\n",
        "        return x"
      ]
    },
    {
      "cell_type": "code",
      "execution_count": 18,
      "metadata": {},
      "outputs": [],
      "source": [
        "network = Net()\n",
        "optimizer = na2.new_alg(network.parameters(), lr=learning_rate, momentum=momentum)\n",
        "loss_f=nn.CrossEntropyLoss()"
      ]
    },
    {
      "cell_type": "code",
      "execution_count": 19,
      "metadata": {},
      "outputs": [],
      "source": [
        "data_dir = '/files/'\n",
        "batch_size = 64\n",
        "n_examples_train = 4*batch_size\n",
        "n_examples_test = 1024\n",
        "train_loader, test_loader =  define_dataloaders(n_examples_train, n_examples_test, batch_size)\n",
        "\n",
        "train_losses = []\n",
        "train_accuracy = []\n",
        "train_counter = []\n",
        "test_losses = []\n",
        "test_accuracy = []\n",
        "test_counter = [i*len(train_loader.dataset) for i in range(n_epochs + 1)]"
      ]
    },
    {
      "cell_type": "code",
      "execution_count": 20,
      "metadata": {},
      "outputs": [],
      "source": [
        "def train(epoch):\n",
        "  for batch_idx, (data, target) in enumerate(train_loader):\n",
        "    optimizer.zero_grad()\n",
        "    output = network(data)\n",
        "    loss = loss_f(output,target)\n",
        "    loss.backward()\n",
        "    optimizer.step()\n",
        "    if batch_idx % log_interval == 0:\n",
        "      train_losses.append(loss.item())\n",
        "      train_counter.append((batch_idx*batch_size) + ((epoch-1)*len(train_loader.dataset)))\n",
        "  \n",
        "  correct = 0\n",
        "  with torch.no_grad():\n",
        "    for data, target in train_loader:\n",
        "      output = network(data)\n",
        "      pred = output.data.max(1, keepdim=True)[1]\n",
        "      correct += pred.eq(target.data.view_as(pred)).sum()\n",
        "  train_accuracy.append(100. * correct / len(train_loader.dataset))"
      ]
    },
    {
      "cell_type": "code",
      "execution_count": 21,
      "metadata": {},
      "outputs": [],
      "source": [
        "def test():\n",
        "  network.eval()\n",
        "  test_loss = 0\n",
        "  correct = 0\n",
        "  with torch.no_grad():\n",
        "    for data, target in test_loader:\n",
        "      output = network(data)\n",
        "      test_loss += loss_f(output,target)\n",
        "      pred = output.data.max(1, keepdim=True)[1]\n",
        "      correct += pred.eq(target.data.view_as(pred)).sum()\n",
        "  test_loss /= len(test_loader)\n",
        "  test_losses.append(test_loss)\n",
        "  test_accuracy.append(100. * correct / len(test_loader.dataset))"
      ]
    },
    {
      "cell_type": "code",
      "execution_count": 22,
      "metadata": {},
      "outputs": [
        {
          "data": {
            "text/plain": [
              "torch.Size([64, 1, 28, 28])"
            ]
          },
          "execution_count": 22,
          "metadata": {},
          "output_type": "execute_result"
        }
      ],
      "source": [
        "a = test_loader.dataset.data[0]\n",
        "a.shape\n",
        "for batch_idx, (data, target) in enumerate(train_loader):\n",
        "    d = data\n",
        "    break\n",
        "\n",
        "type(data)\n",
        "data.shape"
      ]
    },
    {
      "cell_type": "code",
      "execution_count": 23,
      "metadata": {},
      "outputs": [],
      "source": [
        "conv1_init = network.conv1.weight.clone()\n",
        "conv2_init = network.conv2.weight.clone()\n",
        "fc1_init = network.fc1.weight.clone()\n",
        "fc2_init = network.fc2.weight.clone()"
      ]
    },
    {
      "cell_type": "code",
      "execution_count": null,
      "metadata": {},
      "outputs": [],
      "source": [
        "test()\n",
        "for epoch in tqdm(range(1, n_epochs + 1)):\n",
        "  train(epoch)\n",
        "  test()"
      ]
    },
    {
      "cell_type": "code",
      "execution_count": null,
      "metadata": {},
      "outputs": [
        {
          "data": {
            "text/plain": [
              "tensor([0, 0, 0,  ..., 1, 7, 5])"
            ]
          },
          "execution_count": 51,
          "metadata": {},
          "output_type": "execute_result"
        }
      ],
      "source": [
        "for data, target in test_loader:\n",
        "    a=target\n",
        "\n",
        "type(a)\n",
        "a.size()\n",
        "a"
      ]
    },
    {
      "cell_type": "code",
      "execution_count": null,
      "metadata": {},
      "outputs": [
        {
          "data": {
            "text/plain": [
              "Text(0, 0.5, 'loss')"
            ]
          },
          "execution_count": 52,
          "metadata": {},
          "output_type": "execute_result"
        },
        {
          "data": {
            "image/png": "[encoded data removed]",
            "text/plain": [
              "<Figure size 432x288 with 1 Axes>"
            ]
          },
          "metadata": {
            "needs_background": "light"
          },
          "output_type": "display_data"
        }
      ],
      "source": [
        "# LOSS\n",
        "fig = plt.figure()\n",
        "plt.plot(train_counter, train_losses, color='blue', zorder=1)\n",
        "plt.scatter(test_counter, test_losses, color='red', zorder=2)\n",
        "plt.legend(['Train Loss', 'Test Loss'], loc='upper right')\n",
        "plt.xlabel('number of training examples seen')\n",
        "plt.ylabel('loss')"
      ]
    },
    {
      "cell_type": "code",
      "execution_count": null,
      "metadata": {},
      "outputs": [
        {
          "data": {
            "text/plain": [
              "Text(0, 0.5, 'Accuracy')"
            ]
          },
          "execution_count": 54,
          "metadata": {},
          "output_type": "execute_result"
        },
        {
          "data": {
            "image/png": "[encoded data removed]",
            "text/plain": [
              "<Figure size 432x288 with 1 Axes>"
            ]
          },
          "metadata": {
            "needs_background": "light"
          },
          "output_type": "display_data"
        }
      ],
      "source": [
        "# ACCURACY\n",
        "\n",
        "fig = plt.figure()\n",
        "plt.scatter(test_counter[:-1], train_accuracy, color='blue', zorder=1)\n",
        "plt.scatter(test_counter, test_accuracy, color='red', zorder=2)\n",
        "plt.legend(['Train Accuracy', 'Test Accuracy'], loc='upper left')\n",
        "plt.xlabel('number of training examples seen')\n",
        "plt.ylabel('Accuracy')"
      ]
    },
    {
      "cell_type": "code",
      "execution_count": null,
      "metadata": {},
      "outputs": [
        {
          "name": "stdout",
          "output_type": "stream",
          "text": [
            "loss conv1 =  0.8638002872467041\n",
            "loss conv2 =  1.0273529291152954\n",
            "loss fc1 =  0.9748395085334778\n",
            "loss fc2 =  1.4053107500076294\n",
            "inital loss =  2.284952163696289\n"
          ]
        }
      ],
      "source": [
        "conv1_final = network.conv1.weight.clone()\n",
        "conv2_final = network.conv2.weight.clone()\n",
        "fc1_final = network.fc1.weight.clone()\n",
        "fc2_final = network.fc2.weight.clone()\n",
        "\n",
        "#init weights conv1\n",
        "with torch.no_grad():\n",
        "  network.conv1.weight[:] = conv1_init\n",
        "\n",
        "test()\n",
        "loss_conv1 = test_losses[-1]\n",
        "\n",
        "#init weights conv2\n",
        "with torch.no_grad():\n",
        "  network.conv1.weight[:] = conv1_final\n",
        "  network.conv2.weight[:] = conv2_init\n",
        "\n",
        "test()\n",
        "loss_conv2 = test_losses[-1]\n",
        "\n",
        "#init weights fc1\n",
        "with torch.no_grad():\n",
        "  network.conv2.weight[:] = conv2_final\n",
        "  network.fc1.weight[:] = fc1_init\n",
        "\n",
        "test()\n",
        "loss_fc1 = test_losses[-1]\n",
        "\n",
        "#init weights fc2\n",
        "with torch.no_grad():\n",
        "  network.fc1.weight[:] = fc1_final\n",
        "  network.fc2.weight[:] = fc2_init\n",
        "\n",
        "test()\n",
        "loss_fc2 = test_losses[-1]\n",
        "\n",
        "print(\"loss conv1 = \", float(loss_conv1))\n",
        "print(\"loss conv2 = \", float(loss_conv2))\n",
        "print(\"loss fc1 = \", float(loss_fc1))\n",
        "print(\"loss fc2 = \", float(loss_fc2))\n",
        "print(\"inital loss = \", float(train_losses[0]))\n"
      ]
    }
  ],
  "metadata": {
    "colab": {
      "collapsed_sections": [],
      "name": "Loss_Vs_n_output10.ipynb",
      "provenance": []
    },
    "kernelspec": {
      "display_name": "Python 3.8.8 ('base')",
      "language": "python",
      "name": "python3"
    },
    "language_info": {
      "codemirror_mode": {
        "name": "ipython",
        "version": 3
      },
      "file_extension": ".py",
      "mimetype": "text/x-python",
      "name": "python",
      "nbconvert_exporter": "python",
      "pygments_lexer": "ipython3",
      "version": "3.8.8"
    },
    "vscode": {
      "interpreter": {
        "hash": "f1ab1c4420ee77e47dd796c1f0390d3d33956bdbe2bfd523727aad7b6e0efa70"
      }
    }
  },
  "nbformat": 4,
  "nbformat_minor": 0
}
