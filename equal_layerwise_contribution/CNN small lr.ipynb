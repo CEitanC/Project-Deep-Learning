{
  "cells": [
    {
      "cell_type": "code",
      "execution_count": 1,
      "metadata": {
        "id": "yNw44bANatMy"
      },
      "outputs": [],
      "source": [
        "import numpy as np\n",
        "import torch \n",
        "import torch.nn as nn\n",
        "import torch.nn.functional as F\n",
        "import torch.optim as optim\n",
        "import new_alg_v1 as na\n",
        "import new_alg_v2 as na2\n",
        "from tqdm import tqdm\n",
        "import matplotlib.pyplot as plt\n",
        "# MNIST dataset\n",
        "from torchvision.datasets import MNIST, FashionMNIST\n",
        "from torchvision import transforms"
      ]
    },
    {
      "cell_type": "code",
      "execution_count": 2,
      "metadata": {},
      "outputs": [],
      "source": [
        "def define_dataloaders(n_examples_train, n_examples_test, batch_size, classes=np.arange(10), zscore_images=True):\n",
        "    # MNIST data, batch training\n",
        "    #batch_size = n_examples_train\n",
        "\n",
        "    # Choose the classes (at most 10)\n",
        "    assert max(classes) <= 9\n",
        "\n",
        "    # Transformation for the images\n",
        "    transform = transforms.Compose([transforms.ToTensor(),\n",
        "                                  transforms.Normalize((0.5,), (0.5,)),\n",
        "                                  ])\n",
        "    trainset = MNIST(data_dir, download=True, train=True, transform=transform)\n",
        "    testset = MNIST(data_dir, download=True, train=False, transform=transform)\n",
        "\n",
        "    # Obtain training and test data. \n",
        "    # Note that both datasets are sorted, but the train and test loaders will shuffle them during training.\n",
        "    n_examples_tt = [n_examples_train, n_examples_test]\n",
        "    for i_d, (n_examples_i, dataset) in enumerate(zip(n_examples_tt, [trainset, testset])):\n",
        "        n_per_class = n_examples_i // len(classes)\n",
        "        data_orig = dataset.data.detach().clone()\n",
        "        targets_orig = dataset.targets.detach().clone()\n",
        "        for i_c, class_i in enumerate(classes):\n",
        "            mask = targets_orig == class_i\n",
        "            i0 = i_c * n_per_class\n",
        "            i1 = (i_c+1) * n_per_class\n",
        "            dataset.data[i0:i1] = data_orig[mask][:n_per_class]\n",
        "            dataset.targets[i0:i1] = targets_orig[mask][:n_per_class]\n",
        "        # Fill the remaining slots with random classes from the available choices\n",
        "        n_remain = n_examples_i - i1 \n",
        "        for i in range(n_remain):\n",
        "            class_i = np.random.choice(classes)\n",
        "            mask = targets_orig == class_i\n",
        "            idx_i = np.random.choice(torch.where(mask)[0].cpu())\n",
        "            dataset.data[i1+i] = data_orig[idx_i]\n",
        "            dataset.targets[i1+i] = targets_orig[idx_i]\n",
        "\n",
        "        # Cut off\n",
        "        dataset.data = dataset.data[:n_examples_i]\n",
        "        dataset.targets = dataset.targets[:n_examples_i]\n",
        "\n",
        "    # Batch-loader\n",
        "    trainloader = torch.utils.data.DataLoader(trainset, batch_size=batch_size, shuffle=True, num_workers=0)\n",
        "    testloader = torch.utils.data.DataLoader(testset, batch_size=n_examples_test, shuffle=False, num_workers=0)\n",
        "\n",
        "    return trainloader, testloader"
      ]
    },
    {
      "cell_type": "markdown",
      "metadata": {},
      "source": [
        "## Settings:\n",
        "- no dropout\n",
        "- no momentum\n",
        "- increased number of fetures/filters"
      ]
    },
    {
      "cell_type": "code",
      "execution_count": 3,
      "metadata": {},
      "outputs": [],
      "source": [
        "momentum = 0\n",
        "n_epochs = 100\n",
        "log_interval = 10"
      ]
    },
    {
      "cell_type": "code",
      "execution_count": 4,
      "metadata": {},
      "outputs": [],
      "source": [
        "#Building the Network\n",
        "\n",
        "class Net(nn.Module):\n",
        "    def __init__(self):\n",
        "        super(Net, self).__init__()\n",
        "        self.conv1 = nn.Conv2d(1, 10, kernel_size=5, bias=False)\n",
        "        self.conv2 = nn.Conv2d(10, 20, kernel_size=5, bias=False)\n",
        "        self.fc1 = nn.Linear(320, 50, bias=False)\n",
        "        self.fc2 = nn.Linear(50, 10, bias=False)\n",
        "\n",
        "    def forward(self, x):\n",
        "        x = torch.tanh(F.max_pool2d(self.conv1(x), 2))\n",
        "        x = torch.tanh(F.max_pool2d((self.conv2(x)), 2))\n",
        "        x = x.view(-1, 320)\n",
        "        x = torch.tanh(self.fc1(x))\n",
        "        x = self.fc2(x)\n",
        "        return x"
      ]
    },
    {
      "cell_type": "code",
      "execution_count": 5,
      "metadata": {},
      "outputs": [],
      "source": [
        "data_dir = '/files/'\n",
        "batch_size = 1\n",
        "n_examples_train = 1024\n",
        "n_examples_test = 1024\n",
        "train_loader, test_loader =  define_dataloaders(n_examples_train, n_examples_test, batch_size)"
      ]
    },
    {
      "cell_type": "code",
      "execution_count": 6,
      "metadata": {},
      "outputs": [],
      "source": [
        "def single_batch_train():\n",
        "  network.train()\n",
        "  for batch_idx, (data, target) in enumerate(train_loader):\n",
        "    optimizer.zero_grad()\n",
        "    output = network(data)\n",
        "    loss = loss_f(output,target)\n",
        "    loss.backward()\n",
        "    optimizer.step()\n",
        "    train_losses.append(loss.item())\n",
        "    break"
      ]
    },
    {
      "cell_type": "code",
      "execution_count": 7,
      "metadata": {},
      "outputs": [],
      "source": [
        "def test():\n",
        "  network.eval()\n",
        "  test_loss = 0\n",
        "  correct = 0\n",
        "  with torch.no_grad():\n",
        "    for data, target in test_loader:\n",
        "      output = network(data)\n",
        "      test_loss += loss_f(output,target)\n",
        "      pred = output.data.max(1, keepdim=True)[1]\n",
        "      correct += pred.eq(target.data.view_as(pred)).sum()\n",
        "  test_loss /= len(test_loader)\n",
        "  test_losses.append(test_loss)"
      ]
    },
    {
      "cell_type": "markdown",
      "metadata": {},
      "source": [
        "# lr = 0.01"
      ]
    },
    {
      "cell_type": "code",
      "execution_count": 8,
      "metadata": {},
      "outputs": [
        {
          "name": "stdout",
          "output_type": "stream",
          "text": [
            "inital loss =  2.299668550491333\n",
            "after one batch =  2.3098104000091553\n"
          ]
        }
      ],
      "source": [
        "learning_rate = 0.01\n",
        "network = Net()\n",
        "optimizer = na2.new_alg(network.parameters(), lr=learning_rate, momentum=momentum)\n",
        "loss_f=nn.CrossEntropyLoss()\n",
        "\n",
        "train_losses = []\n",
        "test_losses = []\n",
        "\n",
        "conv1_init = network.conv1.weight.clone()\n",
        "conv2_init = network.conv2.weight.clone()\n",
        "fc1_init = network.fc1.weight.clone()\n",
        "fc2_init = network.fc2.weight.clone()\n",
        "\n",
        "test()\n",
        "single_batch_train()\n",
        "test()\n",
        "\n",
        "conv1_final = network.conv1.weight.clone()\n",
        "conv2_final = network.conv2.weight.clone()\n",
        "fc1_final = network.fc1.weight.clone()\n",
        "fc2_final = network.fc2.weight.clone()\n",
        "\n",
        "#init weights conv1\n",
        "with torch.no_grad():\n",
        "  network.conv1.weight[:] = conv1_init\n",
        "\n",
        "test()\n",
        "loss_conv1 = test_losses[-1]\n",
        "\n",
        "#init weights conv2\n",
        "with torch.no_grad():\n",
        "  network.conv1.weight[:] = conv1_final\n",
        "  network.conv2.weight[:] = conv2_init\n",
        "\n",
        "test()\n",
        "loss_conv2 = test_losses[-1]\n",
        "\n",
        "#init weights fc1\n",
        "with torch.no_grad():\n",
        "  network.conv2.weight[:] = conv2_final\n",
        "  network.fc1.weight[:] = fc1_init\n",
        "\n",
        "test()\n",
        "loss_fc1 = test_losses[-1]\n",
        "\n",
        "#init weights fc2\n",
        "with torch.no_grad():\n",
        "  network.fc1.weight[:] = fc1_final\n",
        "  network.fc2.weight[:] = fc2_init\n",
        "\n",
        "test()\n",
        "loss_fc2 = test_losses[-1]\n",
        "\n",
        "\n",
        "IL = test_losses[0]\n",
        "FL = test_losses[1]\n",
        "print(\"inital loss = \", float(IL))\n",
        "print(\"after one batch = \", float(FL))\n",
        "\n"
      ]
    },
    {
      "cell_type": "markdown",
      "metadata": {},
      "source": [
        "# $\\chi_l$"
      ]
    },
    {
      "cell_type": "code",
      "execution_count": 9,
      "metadata": {},
      "outputs": [
        {
          "name": "stdout",
          "output_type": "stream",
          "text": [
            "Xl1 =  0.3683294951915741\n",
            "Xl2 =  0.4725186824798584\n",
            "Xl3 =  0.6582584977149963\n",
            "Xl4 =  0.5561380386352539\n"
          ]
        }
      ],
      "source": [
        "dL = FL - IL\n",
        "Xl1 = (FL - loss_conv1)/dL\n",
        "Xl2 = (FL-loss_conv2)/dL\n",
        "Xl3 = (FL-loss_fc1)/dL\n",
        "Xl4 = (FL-loss_fc2)/dL\n",
        "print(\"Xl1 = \", float(Xl1))\n",
        "print(\"Xl2 = \", float(Xl2))\n",
        "print(\"Xl3 = \", float(Xl3))\n",
        "print(\"Xl4 = \", float(Xl4))"
      ]
    },
    {
      "cell_type": "markdown",
      "metadata": {},
      "source": [
        "# lr = 0.005"
      ]
    },
    {
      "cell_type": "code",
      "execution_count": 10,
      "metadata": {},
      "outputs": [
        {
          "name": "stdout",
          "output_type": "stream",
          "text": [
            "inital loss =  2.2989132404327393\n",
            "after one batch =  2.3022348880767822\n"
          ]
        }
      ],
      "source": [
        "learning_rate = 0.005\n",
        "network = Net()\n",
        "optimizer = na2.new_alg(network.parameters(), lr=learning_rate, momentum=momentum)\n",
        "loss_f=nn.CrossEntropyLoss()\n",
        "\n",
        "train_losses = []\n",
        "test_losses = []\n",
        "\n",
        "conv1_init = network.conv1.weight.clone()\n",
        "conv2_init = network.conv2.weight.clone()\n",
        "fc1_init = network.fc1.weight.clone()\n",
        "fc2_init = network.fc2.weight.clone()\n",
        "\n",
        "test()\n",
        "single_batch_train()\n",
        "test()\n",
        "\n",
        "conv1_final = network.conv1.weight.clone()\n",
        "conv2_final = network.conv2.weight.clone()\n",
        "fc1_final = network.fc1.weight.clone()\n",
        "fc2_final = network.fc2.weight.clone()\n",
        "\n",
        "#init weights conv1\n",
        "with torch.no_grad():\n",
        "  network.conv1.weight[:] = conv1_init\n",
        "\n",
        "test()\n",
        "loss_conv1 = test_losses[-1]\n",
        "\n",
        "#init weights conv2\n",
        "with torch.no_grad():\n",
        "  network.conv1.weight[:] = conv1_final\n",
        "  network.conv2.weight[:] = conv2_init\n",
        "\n",
        "test()\n",
        "loss_conv2 = test_losses[-1]\n",
        "\n",
        "#init weights fc1\n",
        "with torch.no_grad():\n",
        "  network.conv2.weight[:] = conv2_final\n",
        "  network.fc1.weight[:] = fc1_init\n",
        "\n",
        "test()\n",
        "loss_fc1 = test_losses[-1]\n",
        "\n",
        "#init weights fc2\n",
        "with torch.no_grad():\n",
        "  network.fc1.weight[:] = fc1_final\n",
        "  network.fc2.weight[:] = fc2_init\n",
        "\n",
        "test()\n",
        "loss_fc2 = test_losses[-1]\n",
        "\n",
        "IL = test_losses[0]\n",
        "FL = test_losses[1]\n",
        "print(\"inital loss = \", float(IL))\n",
        "print(\"after one batch = \", float(FL))\n",
        "\n"
      ]
    },
    {
      "cell_type": "markdown",
      "metadata": {},
      "source": [
        "# $\\chi_l$"
      ]
    },
    {
      "cell_type": "code",
      "execution_count": 11,
      "metadata": {},
      "outputs": [
        {
          "name": "stdout",
          "output_type": "stream",
          "text": [
            "Xl1 =  0.5442147850990295\n",
            "Xl2 =  0.3392908275127411\n",
            "Xl3 =  0.26500144600868225\n",
            "Xl4 =  0.17312660813331604\n"
          ]
        }
      ],
      "source": [
        "dL = FL - IL\n",
        "Xl1 = (FL - loss_conv1)/dL\n",
        "Xl2 = (FL-loss_conv2)/dL\n",
        "Xl3 = (FL-loss_fc1)/dL\n",
        "Xl4 = (FL-loss_fc2)/dL\n",
        "print(\"Xl1 = \", float(Xl1))\n",
        "print(\"Xl2 = \", float(Xl2))\n",
        "print(\"Xl3 = \", float(Xl3))\n",
        "print(\"Xl4 = \", float(Xl4))"
      ]
    },
    {
      "cell_type": "code",
      "execution_count": 12,
      "metadata": {},
      "outputs": [],
      "source": [
        "lrs = np.logspace(-2,-8,20)\n",
        "n_lr = len(lrs)\n",
        "Xs = np.zeros((n_lr, 4))\n",
        "\n",
        "for i_l, lr in enumerate(lrs):\n",
        "  learning_rate = lr\n",
        "  network = Net()\n",
        "  optimizer = na2.new_alg(network.parameters(), lr=learning_rate, momentum=momentum)\n",
        "  loss_f=nn.CrossEntropyLoss()\n",
        "\n",
        "  train_losses = []\n",
        "  test_losses = []\n",
        "\n",
        "  conv1_init = network.conv1.weight.clone()\n",
        "  conv2_init = network.conv2.weight.clone()\n",
        "  fc1_init = network.fc1.weight.clone()\n",
        "  fc2_init = network.fc2.weight.clone()\n",
        "\n",
        "  test()\n",
        "  single_batch_train()\n",
        "  test()\n",
        "\n",
        "  conv1_final = network.conv1.weight.clone()\n",
        "  conv2_final = network.conv2.weight.clone()\n",
        "  fc1_final = network.fc1.weight.clone()\n",
        "  fc2_final = network.fc2.weight.clone()\n",
        "\n",
        "  #init weights conv1\n",
        "  with torch.no_grad():\n",
        "    network.conv1.weight[:] = conv1_init\n",
        "\n",
        "  test()\n",
        "  loss_conv1 = test_losses[-1]\n",
        "\n",
        "  #init weights conv2\n",
        "  with torch.no_grad():\n",
        "    network.conv1.weight[:] = conv1_final\n",
        "    network.conv2.weight[:] = conv2_init\n",
        "\n",
        "  test()\n",
        "  loss_conv2 = test_losses[-1]\n",
        "\n",
        "  #init weights fc1\n",
        "  with torch.no_grad():\n",
        "    network.conv2.weight[:] = conv2_final\n",
        "    network.fc1.weight[:] = fc1_init\n",
        "\n",
        "  test()\n",
        "  loss_fc1 = test_losses[-1]\n",
        "\n",
        "  #init weights fc2\n",
        "  with torch.no_grad():\n",
        "    network.fc1.weight[:] = fc1_final\n",
        "    network.fc2.weight[:] = fc2_init\n",
        "\n",
        "  test()\n",
        "  loss_fc2 = test_losses[-1]\n",
        "\n",
        "\n",
        "  IL = test_losses[0]\n",
        "  FL = test_losses[1]\n",
        "\n",
        "\n",
        "  dL = FL - IL\n",
        "  Xl1 = (FL - loss_conv1)/dL\n",
        "  Xl2 = (FL-loss_conv2)/dL\n",
        "  Xl3 = (FL-loss_fc1)/dL\n",
        "  Xl4 = (FL-loss_fc2)/dL\n",
        "  Xs[i_l] = Xl1, Xl2, Xl3, Xl4\n"
      ]
    },
    {
      "cell_type": "code",
      "execution_count": 13,
      "metadata": {},
      "outputs": [
        {
          "data": {
            "text/plain": [
              "(0.0, 14.278055095672608)"
            ]
          },
          "execution_count": 13,
          "metadata": {},
          "output_type": "execute_result"
        },
        {
          "data": {
            "image/png": "[encoded data removed]",
            "text/plain": [
              "<Figure size 432x288 with 1 Axes>"
            ]
          },
          "metadata": {
            "needs_background": "light"
          },
          "output_type": "display_data"
        }
      ],
      "source": [
        "dX = np.abs(Xs - 1/4)\n",
        "plt.plot(lrs, Xs)\n",
        "plt.xscale('log')\n",
        "plt.ylim(0, None)"
      ]
    },
    {
      "cell_type": "markdown",
      "metadata": {},
      "source": [
        "# lr = 0.001"
      ]
    },
    {
      "cell_type": "code",
      "execution_count": 14,
      "metadata": {},
      "outputs": [
        {
          "data": {
            "text/plain": [
              "dict_keys(['conv1.weight', 'conv2.weight', 'fc1.weight', 'fc2.weight'])"
            ]
          },
          "execution_count": 14,
          "metadata": {},
          "output_type": "execute_result"
        }
      ],
      "source": [
        "dict(network.named_parameters()).keys()"
      ]
    },
    {
      "cell_type": "code",
      "execution_count": 15,
      "metadata": {},
      "outputs": [
        {
          "name": "stdout",
          "output_type": "stream",
          "text": [
            "inital loss =  2.305448293685913\n",
            "after one batch =  2.305149555206299\n"
          ]
        }
      ],
      "source": [
        "learning_rate = 0.001\n",
        "network = Net()\n",
        "optimizer = na2.new_alg(network.parameters(), lr=learning_rate, momentum=momentum)\n",
        "loss_f=nn.CrossEntropyLoss()\n",
        "\n",
        "train_losses = []\n",
        "test_losses = []\n",
        "\n",
        "conv1_init = network.conv1.weight.clone()\n",
        "conv2_init = network.conv2.weight.clone()\n",
        "fc1_init = network.fc1.weight.clone()\n",
        "fc2_init = network.fc2.weight.clone()\n",
        "\n",
        "test()\n",
        "single_batch_train()\n",
        "test()\n",
        "\n",
        "conv1_final = network.conv1.weight.clone()\n",
        "conv2_final = network.conv2.weight.clone()\n",
        "fc1_final = network.fc1.weight.clone()\n",
        "fc2_final = network.fc2.weight.clone()\n",
        "\n",
        "#init weights conv1\n",
        "with torch.no_grad():\n",
        "  network.conv1.weight[:] = conv1_init\n",
        "\n",
        "test()\n",
        "loss_conv1 = test_losses[-1]\n",
        "\n",
        "#init weights conv2\n",
        "with torch.no_grad():\n",
        "  network.conv1.weight[:] = conv1_final\n",
        "  network.conv2.weight[:] = conv2_init\n",
        "\n",
        "test()\n",
        "loss_conv2 = test_losses[-1]\n",
        "\n",
        "#init weights fc1\n",
        "with torch.no_grad():\n",
        "  network.conv2.weight[:] = conv2_final\n",
        "  network.fc1.weight[:] = fc1_init\n",
        "\n",
        "test()\n",
        "loss_fc1 = test_losses[-1]\n",
        "\n",
        "#init weights fc2\n",
        "with torch.no_grad():\n",
        "  network.fc1.weight[:] = fc1_final\n",
        "  network.fc2.weight[:] = fc2_init\n",
        "\n",
        "test()\n",
        "loss_fc2 = test_losses[-1]\n",
        "\n",
        "IL = test_losses[0]\n",
        "FL = test_losses[1]\n",
        "print(\"inital loss = \", float(IL))\n",
        "print(\"after one batch = \", float(FL))\n",
        "\n"
      ]
    },
    {
      "cell_type": "markdown",
      "metadata": {},
      "source": [
        "# $\\chi_l$"
      ]
    },
    {
      "cell_type": "code",
      "execution_count": 16,
      "metadata": {},
      "outputs": [
        {
          "name": "stdout",
          "output_type": "stream",
          "text": [
            "Xl1 =  -0.4429369568824768\n",
            "Xl2 =  0.27374300360679626\n",
            "Xl3 =  0.5027933120727539\n",
            "Xl4 =  0.5259377360343933\n"
          ]
        }
      ],
      "source": [
        "dL = FL - IL\n",
        "Xl1 = (FL - loss_conv1)/dL\n",
        "Xl2 = (FL-loss_conv2)/dL\n",
        "Xl3 = (FL-loss_fc1)/dL\n",
        "Xl4 = (FL-loss_fc2)/dL\n",
        "print(\"Xl1 = \", float(Xl1))\n",
        "print(\"Xl2 = \", float(Xl2))\n",
        "print(\"Xl3 = \", float(Xl3))\n",
        "print(\"Xl4 = \", float(Xl4))"
      ]
    },
    {
      "cell_type": "markdown",
      "metadata": {},
      "source": [
        "# lr = 0.0005"
      ]
    },
    {
      "cell_type": "code",
      "execution_count": 17,
      "metadata": {},
      "outputs": [
        {
          "name": "stdout",
          "output_type": "stream",
          "text": [
            "inital loss =  2.307868719100952\n",
            "after one batch =  2.307664155960083\n"
          ]
        }
      ],
      "source": [
        "learning_rate = 0.0005\n",
        "network = Net()\n",
        "optimizer = na2.new_alg(network.parameters(), lr=learning_rate, momentum=momentum)\n",
        "loss_f=nn.CrossEntropyLoss()\n",
        "\n",
        "train_losses = []\n",
        "test_losses = []\n",
        "\n",
        "conv1_init = network.conv1.weight.clone()\n",
        "conv2_init = network.conv2.weight.clone()\n",
        "fc1_init = network.fc1.weight.clone()\n",
        "fc2_init = network.fc2.weight.clone()\n",
        "\n",
        "test()\n",
        "single_batch_train()\n",
        "test()\n",
        "\n",
        "conv1_final = network.conv1.weight.clone()\n",
        "conv2_final = network.conv2.weight.clone()\n",
        "fc1_final = network.fc1.weight.clone()\n",
        "fc2_final = network.fc2.weight.clone()\n",
        "\n",
        "#init weights conv1\n",
        "with torch.no_grad():\n",
        "  network.conv1.weight[:] = conv1_init\n",
        "\n",
        "test()\n",
        "loss_conv1 = test_losses[-1]\n",
        "\n",
        "#init weights conv2\n",
        "with torch.no_grad():\n",
        "  network.conv1.weight[:] = conv1_final\n",
        "  network.conv2.weight[:] = conv2_init\n",
        "\n",
        "test()\n",
        "loss_conv2 = test_losses[-1]\n",
        "\n",
        "#init weights fc1\n",
        "with torch.no_grad():\n",
        "  network.conv2.weight[:] = conv2_final\n",
        "  network.fc1.weight[:] = fc1_init\n",
        "\n",
        "test()\n",
        "loss_fc1 = test_losses[-1]\n",
        "\n",
        "#init weights fc2\n",
        "with torch.no_grad():\n",
        "  network.fc1.weight[:] = fc1_final\n",
        "  network.fc2.weight[:] = fc2_init\n",
        "\n",
        "test()\n",
        "loss_fc2 = test_losses[-1]\n",
        "\n",
        "IL = test_losses[0]\n",
        "FL = test_losses[1]\n",
        "print(\"inital loss = \", float(IL))\n",
        "print(\"after one batch = \", float(FL))\n",
        "\n"
      ]
    },
    {
      "cell_type": "markdown",
      "metadata": {},
      "source": [
        "# $\\chi_l$"
      ]
    },
    {
      "cell_type": "code",
      "execution_count": 18,
      "metadata": {},
      "outputs": [
        {
          "name": "stdout",
          "output_type": "stream",
          "text": [
            "Xl1 =  0.21212121844291687\n",
            "Xl2 =  0.308857798576355\n",
            "Xl3 =  0.2482517510652542\n",
            "Xl4 =  0.1818181872367859\n"
          ]
        }
      ],
      "source": [
        "dL = FL - IL\n",
        "Xl1 = (FL - loss_conv1)/dL\n",
        "Xl2 = (FL-loss_conv2)/dL\n",
        "Xl3 = (FL-loss_fc1)/dL\n",
        "Xl4 = (FL-loss_fc2)/dL\n",
        "print(\"Xl1 = \", float(Xl1))\n",
        "print(\"Xl2 = \", float(Xl2))\n",
        "print(\"Xl3 = \", float(Xl3))\n",
        "print(\"Xl4 = \", float(Xl4))"
      ]
    },
    {
      "cell_type": "markdown",
      "metadata": {},
      "source": [
        "# lr = 0.0001"
      ]
    },
    {
      "cell_type": "code",
      "execution_count": 19,
      "metadata": {},
      "outputs": [
        {
          "name": "stdout",
          "output_type": "stream",
          "text": [
            "inital loss =  2.290337562561035\n",
            "after one batch =  2.2903664112091064\n"
          ]
        }
      ],
      "source": [
        "learning_rate = 0.0001\n",
        "network = Net()\n",
        "optimizer = na2.new_alg(network.parameters(), lr=learning_rate, momentum=momentum)\n",
        "loss_f=nn.CrossEntropyLoss()\n",
        "\n",
        "train_losses = []\n",
        "test_losses = []\n",
        "\n",
        "conv1_init = network.conv1.weight.clone()\n",
        "conv2_init = network.conv2.weight.clone()\n",
        "fc1_init = network.fc1.weight.clone()\n",
        "fc2_init = network.fc2.weight.clone()\n",
        "\n",
        "test()\n",
        "single_batch_train()\n",
        "test()\n",
        "\n",
        "conv1_final = network.conv1.weight.clone()\n",
        "conv2_final = network.conv2.weight.clone()\n",
        "fc1_final = network.fc1.weight.clone()\n",
        "fc2_final = network.fc2.weight.clone()\n",
        "\n",
        "#init weights conv1\n",
        "with torch.no_grad():\n",
        "  network.conv1.weight[:] = conv1_init\n",
        "\n",
        "test()\n",
        "loss_conv1 = test_losses[-1]\n",
        "\n",
        "#init weights conv2\n",
        "with torch.no_grad():\n",
        "  network.conv1.weight[:] = conv1_final\n",
        "  network.conv2.weight[:] = conv2_init\n",
        "\n",
        "test()\n",
        "loss_conv2 = test_losses[-1]\n",
        "\n",
        "#init weights fc1\n",
        "with torch.no_grad():\n",
        "  network.conv2.weight[:] = conv2_final\n",
        "  network.fc1.weight[:] = fc1_init\n",
        "\n",
        "test()\n",
        "loss_fc1 = test_losses[-1]\n",
        "\n",
        "#init weights fc2\n",
        "with torch.no_grad():\n",
        "  network.fc1.weight[:] = fc1_final\n",
        "  network.fc2.weight[:] = fc2_init\n",
        "\n",
        "test()\n",
        "loss_fc2 = test_losses[-1]\n",
        "\n",
        "IL = test_losses[0]\n",
        "FL = test_losses[1]\n",
        "print(\"inital loss = \", float(IL))\n",
        "print(\"after one batch = \", float(FL))\n",
        "\n"
      ]
    },
    {
      "cell_type": "markdown",
      "metadata": {},
      "source": [
        "# $\\chi_l$"
      ]
    },
    {
      "cell_type": "code",
      "execution_count": 20,
      "metadata": {},
      "outputs": [
        {
          "name": "stdout",
          "output_type": "stream",
          "text": [
            "Xl1 =  1.165289282798767\n",
            "Xl2 =  0.1487603336572647\n",
            "Xl3 =  -0.1818181872367859\n",
            "Xl4 =  -0.09917355328798294\n"
          ]
        }
      ],
      "source": [
        "dL = FL - IL\n",
        "Xl1 = (FL - loss_conv1)/dL\n",
        "Xl2 = (FL-loss_conv2)/dL\n",
        "Xl3 = (FL-loss_fc1)/dL\n",
        "Xl4 = (FL-loss_fc2)/dL\n",
        "print(\"Xl1 = \", float(Xl1))\n",
        "print(\"Xl2 = \", float(Xl2))\n",
        "print(\"Xl3 = \", float(Xl3))\n",
        "print(\"Xl4 = \", float(Xl4))"
      ]
    }
  ],
  "metadata": {
    "colab": {
      "collapsed_sections": [],
      "name": "Loss_Vs_n_output10.ipynb",
      "provenance": []
    },
    "kernelspec": {
      "display_name": "Python 3",
      "name": "python3"
    },
    "language_info": {
      "codemirror_mode": {
        "name": "ipython",
        "version": 3
      },
      "file_extension": ".py",
      "mimetype": "text/x-python",
      "name": "python",
      "nbconvert_exporter": "python",
      "pygments_lexer": "ipython3",
      "version": "3.8.8"
    }
  },
  "nbformat": 4,
  "nbformat_minor": 0
}
