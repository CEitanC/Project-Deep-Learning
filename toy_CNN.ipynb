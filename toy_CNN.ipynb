{
  "cells": [
    {
      "cell_type": "code",
      "execution_count": null,
      "metadata": {
        "id": "FouZJdzmFVkQ"
      },
      "outputs": [],
      "source": [
        "import numpy as np\n",
        "import torch \n",
        "import torch.nn as nn\n",
        "import torch.nn.functional as F\n",
        "import new_alg_v2 as na2\n",
        "import matplotlib.pyplot as plt\n",
        "import math"
      ]
    },
    {
      "cell_type": "markdown",
      "source": [
        "# New Section"
      ],
      "metadata": {
        "id": "O9nLb2UDFWv4"
      }
    },
    {
      "cell_type": "code",
      "execution_count": null,
      "metadata": {
        "colab": {
          "base_uri": "https://localhost:8080/"
        },
        "id": "jtYd5J_zFVkc",
        "outputId": "95d4de03-242f-4cac-f32c-bc51436babd6"
      },
      "outputs": [
        {
          "output_type": "stream",
          "name": "stdout",
          "text": [
            "Hout is:  45\n",
            "Wout is:  40\n",
            "pool_H_out is:  15\n",
            "pool_W_out is:  13\n"
          ]
        }
      ],
      "source": [
        "n_s = 30 # number of sample\n",
        "n_ch = 3 # number of input channels \n",
        "d0 = 50 # dim0 of input image\n",
        "d1 = 45 # dim1 of input image\n",
        "n_epoch = 1\n",
        "output_dim = n_s\n",
        "kern_size=6\n",
        "pool_size=3\n",
        "target = torch.ones(output_dim,1)\n",
        "\n",
        "\n",
        "\n",
        "\n",
        "\n",
        "# calc the parameters of the conv2d output:\n",
        "H_out= math.floor(d0-kern_size+1)\n",
        "W_out= math.floor(d1-kern_size+1)\n",
        "\n",
        "# calc the dim after the pooling:\n",
        "pool_H_out= math.floor(((H_out-pool_size)/pool_size)+1)\n",
        "pool_W_out= math.floor(((W_out-pool_size)/pool_size)+1)\n",
        "\n",
        "# clac the dim of nn.Linear\n",
        "final_dim=pool_H_out*pool_W_out\n",
        "\n",
        "print('Hout is: ',H_out)\n",
        "print('Wout is: ',W_out)\n",
        "print('pool_H_out is: ', pool_H_out)\n",
        "print('pool_W_out is: ', pool_W_out)\n",
        "\n",
        "\n",
        "\n"
      ]
    },
    {
      "cell_type": "code",
      "execution_count": null,
      "metadata": {
        "id": "5JR9n7tZFVkd"
      },
      "outputs": [],
      "source": [
        "# dataset\n",
        "DS = torch.normal(0, 1, size=(n_s, n_ch, d0, d1))\n"
      ]
    },
    {
      "cell_type": "code",
      "execution_count": null,
      "metadata": {
        "id": "Btuz3f_lFVke"
      },
      "outputs": [],
      "source": [
        "class toy_CNN(nn.Module):\n",
        "    def __init__(self, n_ch):\n",
        "        super(toy_CNN, self).__init__()\n",
        "        self.conv1 = nn.Conv2d(n_ch, 1, kernel_size=kern_size, bias=False)\n",
        "        self.fc1 = nn.Linear(final_dim, 1, bias=False)\n",
        "\n",
        "    def forward(self, x):\n",
        "        x = F.max_pool2d(self.conv1(x),pool_size)\n",
        "        x = x.view(-1, final_dim)\n",
        "        x = self.fc1(x)\n",
        "        return x"
      ]
    },
    {
      "cell_type": "code",
      "execution_count": null,
      "metadata": {
        "id": "w2KqRltyFVkh"
      },
      "outputs": [],
      "source": [
        "def train(net, eta, n_epoch, dataset, target):\n",
        "    train_losses = []\n",
        "    net.train()\n",
        "    loss = torch.nn.MSELoss()\n",
        "    optimizer = na2.new_alg(net.parameters(), lr=eta)\n",
        "    for epoch in range(n_epoch):\n",
        "        optimizer.zero_grad()\n",
        "        py_hat = net(dataset)\n",
        "        objective = loss(py_hat, target)\n",
        "        train_losses.append(float(objective))\n",
        "        objective.backward()\n",
        "        optimizer.step()\n",
        "    return train_losses"
      ]
    },
    {
      "cell_type": "code",
      "execution_count": null,
      "metadata": {
        "id": "8KbCXldaFVkj"
      },
      "outputs": [],
      "source": [
        "def test(net, dataset, target):\n",
        "    net.eval()\n",
        "    loss = torch.nn.MSELoss()\n",
        "    with torch.no_grad():\n",
        "        output = net(dataset)\n",
        "        test_loss = loss(output, target)\n",
        "    return float(test_loss)"
      ]
    },
    {
      "cell_type": "code",
      "execution_count": null,
      "metadata": {
        "id": "015UPNBkFVkl"
      },
      "outputs": [],
      "source": [
        "def xl_calc(eta, n_ch):\n",
        "    network = toy_CNN(n_ch)\n",
        "    conv1_init = network.conv1.weight.clone()\n",
        "    fc1_init = network.fc1.weight.clone()\n",
        "    \n",
        "    initial_loss = test(network, DS, target)\n",
        "    test_loss = train(network, eta, n_epoch, DS, target)\n",
        "    final_loss = test(network, DS, target)\n",
        "    \n",
        "    conv1_final = network.conv1.weight.clone()\n",
        "    fc1_final = network.fc1.weight.clone()\n",
        "    \n",
        "    #init weights conv1\n",
        "    with torch.no_grad():\n",
        "      network.conv1.weight[:] = conv1_init\n",
        "    \n",
        "    loss_conv1 = test(network, DS, target)\n",
        "    \n",
        "    #init weights fc1\n",
        "    with torch.no_grad():\n",
        "      network.conv1.weight[:] = conv1_final\n",
        "      network.fc1.weight[:] = fc1_init\n",
        "    \n",
        "    loss_fc1 = test(network, DS, target)\n",
        "    \n",
        "    dL = final_loss - initial_loss\n",
        "   # print(\"for lr =\",  eta, \":\")\n",
        "  #  print(\"  inital loss = \", initial_loss)\n",
        "   # print(\"  final loss = \", final_loss)\n",
        "    if dL == 0:\n",
        "      #print(\"for lr =\",  eta, \":\")\n",
        "    #  print(\"   ***dL zero***\")\n",
        "      return\n",
        "    \n",
        "    Xl1 = (final_loss - loss_conv1)/dL\n",
        "    Xl2 = (final_loss-loss_fc1)/dL\n",
        " #   if True:\n",
        "      #print(\"for lr =\",  eta, \":\")\n",
        "   #   print(\"  Xl1 = \", float(Xl1))\n",
        "    #  print(\"  Xl2 = \", float(Xl2))\n",
        "    return Xl1, Xl2\n",
        "    "
      ]
    },
    {
      "cell_type": "code",
      "execution_count": null,
      "metadata": {
        "id": "V39k5dKFFVko"
      },
      "outputs": [],
      "source": [
        "lrs = np.logspace(-5,-7,10)\n",
        "for lr in lrs:\n",
        "  xl_calc(lr, n_ch)"
      ]
    },
    {
      "cell_type": "code",
      "source": [
        "from torch.nn.modules import conv\n",
        "# create the vector of the diffrence between the layers:\n",
        "conv_v = []\n",
        "fc_v=[]\n",
        "lrs = np.logspace(-5,-7,10)\n",
        "for lr in lrs:\n",
        "    conv_diff= 0\n",
        "    fc_diff=0\n",
        "    for i in range(100):\n",
        "      Xl1, Xl2 =xl_calc(lr, n_ch)\n",
        "      conv_diff=conv_diff+0.01*float(Xl1)\n",
        "      fc_diff=fc_diff+0.01*float(Xl2)\n",
        "\n",
        "    conv_v.append(abs(0.5-conv_diff))\n",
        "    fc_v.append(abs(0.5-fc_diff))\n",
        "\n",
        "#plotting results\n",
        "fig = plt.figure(figsize=(8, 5))\n",
        "plt.plot(lrs,conv_v,label=\"conv is initialized\")\n",
        "plt.plot(lrs,fc_v, label=\"fc is initialized\")\n",
        "\n",
        "plt.ylabel('diffrence')\n",
        "plt.xlabel('eta')\n",
        "plt.title(\"eta run for each layer\")\n",
        "fig.legend()\n"
      ],
      "metadata": {
        "colab": {
          "base_uri": "https://localhost:8080/",
          "height": 389
        },
        "id": "y-HvHg2HIN9y",
        "outputId": "517c24b9-7cbc-42e0-d5b6-87dba1e5de1a"
      },
      "execution_count": null,
      "outputs": [
        {
          "output_type": "execute_result",
          "data": {
            "text/plain": [
              "<matplotlib.legend.Legend at 0x7f6fd86b2410>"
            ]
          },
          "metadata": {},
          "execution_count": 12
        },
        {
          "output_type": "display_data",
          "data": {
            "text/plain": [
              "<Figure size 576x360 with 1 Axes>"
            ],
            "image/png": "[encoded data removed]"
          },
          "metadata": {
            "needs_background": "light"
          }
        }
      ]
    },
    {
      "cell_type": "markdown",
      "source": [
        "**Double conv layer, one FC**"
      ],
      "metadata": {
        "id": "SiW9a3Td4WCD"
      }
    },
    {
      "cell_type": "markdown",
      "source": [
        "The net params:"
      ],
      "metadata": {
        "id": "HVvGjHeS5H-6"
      }
    },
    {
      "cell_type": "code",
      "source": [
        "n_s = 30 # number of sample\n",
        "n_ch = 3 # number of input channels \n",
        "d0 = 50 # dim0 of input image\n",
        "d1 = 45 # dim1 of input image\n",
        "n_epoch = 1\n",
        "output_dim = n_s\n",
        "kern_size=6\n",
        "pool_size=3\n",
        "target = torch.ones(output_dim,1)\n",
        "\n",
        "\n",
        "\n",
        "\n",
        "\n",
        "# calc the parameters of the conv1 out put:\n",
        "H_out_conv1= math.floor(d0-kern_size+1)\n",
        "W_out_conv1= math.floor(d1-kern_size+1)\n",
        "\n",
        "# calc the dim after the pooling:\n",
        "pool_H_out= math.floor(((H_out_conv1-pool_size)/pool_size)+1)\n",
        "pool_W_out= math.floor(((W_out_conv1-pool_size)/pool_size)+1)\n",
        "\n",
        "# calc the parameters of the conv2 out put:\n",
        "H_out_conv2= math.floor(pool_H_out-kern_size+1)\n",
        "W_out_conv2= math.floor(pool_W_out-kern_size+1)\n",
        "\n",
        "# calc the dim after the pooling:\n",
        "pool2_H_out= math.floor(((H_out_conv2-pool_size)/pool_size)+1)\n",
        "pool2_W_out= math.floor(((W_out_conv2-pool_size)/pool_size)+1)\n",
        "\n",
        "# clac the dim of nn.Linear\n",
        "final_dim=pool2_H_out*pool2_W_out\n",
        "\n",
        "print('Hout1 is: ',H_out_conv1)\n",
        "print('Wout1 is: ',W_out_conv1)\n",
        "print('Hout2 is: ',H_out_conv2)\n",
        "print('Wout2 is: ',W_out_conv2)\n",
        "print('pool_H_out is: ', pool_H_out)\n",
        "print('pool_W_out is: ', pool_W_out)\n",
        "print('pool2_H_out is: ', pool2_H_out)\n",
        "print('pool2_W_out is: ', pool2_W_out)\n",
        "print('fin dim is: ', final_dim)\n",
        "# dataset\n",
        "DS = torch.normal(0, 1, size=(n_s, n_ch, d0, d1))\n",
        "\n",
        "\n",
        "\n"
      ],
      "metadata": {
        "colab": {
          "base_uri": "https://localhost:8080/"
        },
        "id": "6yiKwTpP5F-y",
        "outputId": "2c819338-f67d-442b-a124-d1ece9d66b8d"
      },
      "execution_count": null,
      "outputs": [
        {
          "output_type": "stream",
          "name": "stdout",
          "text": [
            "Hout1 is:  45\n",
            "Wout1 is:  40\n",
            "Hout2 is:  10\n",
            "Wout2 is:  8\n",
            "pool_H_out is:  15\n",
            "pool_W_out is:  13\n",
            "pool2_H_out is:  3\n",
            "pool2_W_out is:  2\n",
            "fin dim is:  6\n"
          ]
        }
      ]
    },
    {
      "cell_type": "code",
      "source": [
        "class toy_CNN_double_conv(nn.Module):\n",
        "    def __init__(self, n_ch):\n",
        "        super(toy_CNN_double_conv, self).__init__()\n",
        "        self.conv1 = nn.Conv2d(n_ch, 1, kernel_size=kern_size, bias=False)\n",
        "        self.conv2 = nn.Conv2d(1, 1, kernel_size=kern_size, bias=False)\n",
        "        self.fc1 = nn.Linear(final_dim, 1, bias=False)\n",
        "\n",
        "    def forward(self, x):\n",
        "        x = F.max_pool2d(self.conv1(x),pool_size)\n",
        "        x = F.max_pool2d(self.conv2(x),pool_size)\n",
        "        x = x.view(-1, final_dim)\n",
        "        x = self.fc1(x)\n",
        "        return x"
      ],
      "metadata": {
        "id": "OH6_jOeb4j4U"
      },
      "execution_count": null,
      "outputs": []
    },
    {
      "cell_type": "code",
      "source": [
        "def x_3l_calc(eta, n_ch):\n",
        "\n",
        "    #define the net and save init params\n",
        "    network = toy_CNN_double_conv(n_ch)\n",
        "    conv1_init = network.conv1.weight.clone()\n",
        "    conv2_init = network.conv2.weight.clone()\n",
        "    fc1_init = network.fc1.weight.clone()\n",
        "\n",
        "    #train and save init and final loss\n",
        "    initial_loss = test(network, DS, target)\n",
        "    test_loss = train(network, eta, n_epoch, DS, target)\n",
        "    final_loss = test(network, DS, target)\n",
        "\n",
        "    #  save final net params\n",
        "    conv1_final = network.conv1.weight.clone()\n",
        "    conv2_final = network.conv2.weight.clone()\n",
        "    fc1_final = network.fc1.weight.clone()\n",
        "    \n",
        "    #init weights conv1\n",
        "    with torch.no_grad():\n",
        "      network.conv1.weight[:] = conv1_init\n",
        "    loss_conv1 = test(network, DS, target)\n",
        "\n",
        "        \n",
        "    #init weights conv2\n",
        "    with torch.no_grad():\n",
        "      network.conv1.weight[:] = conv1_final\n",
        "      network.conv2.weight[:] = conv2_init\n",
        "    loss_conv2 = test(network, DS, target)\n",
        "    \n",
        "    #init weights fc1\n",
        "    with torch.no_grad():\n",
        "      network.conv2.weight[:] = conv2_final\n",
        "      network.fc1.weight[:] = fc1_init\n",
        "    \n",
        "    loss_fc1 = test(network, DS, target)\n",
        "    \n",
        "    dL = final_loss - initial_loss\n",
        "   # print(\"for lr =\",  eta, \":\")\n",
        "  #  print(\"  inital loss = \", initial_loss)\n",
        "   # print(\"  final loss = \", final_loss)\n",
        "    if dL == 0:\n",
        "      #print(\"for lr =\",  eta, \":\")\n",
        "    #  print(\"   ***dL zero***\")\n",
        "      return\n",
        "    \n",
        "    Xl_conv1 = (final_loss - loss_conv1)/dL\n",
        "    Xl_conv2 = (final_loss - loss_conv2)/dL\n",
        "    Xl_fc1 = (final_loss-loss_fc1)/dL\n",
        " #   if True:\n",
        "      #print(\"for lr =\",  eta, \":\")\n",
        "   #   print(\"  Xl1 = \", float(Xl1))\n",
        "    #  print(\"  Xl2 = \", float(Xl2))\n",
        "    return Xl_conv1, Xl_conv2,Xl_fc1\n",
        "    "
      ],
      "metadata": {
        "id": "YSgRP08e9mka"
      },
      "execution_count": null,
      "outputs": []
    },
    {
      "cell_type": "code",
      "source": [
        "lrs = np.logspace(-2,-5,10)\n",
        "diff_v_conv1=[]\n",
        "diff_v_conv2=[]\n",
        "diff_v_fc1=[]\n",
        "\n",
        "for lr in lrs:\n",
        "    diff_conv1= 0\n",
        "    diff_conv2= 0\n",
        "    diff_fc1= 0\n",
        "    for i in range(100):\n",
        "      conv1,conv2,fc1=x_3l_calc(lr, n_ch)\n",
        "      diff_conv1=diff_conv1+0.01*conv1\n",
        "      diff_conv2=diff_conv2+0.01*conv2\n",
        "      diff_fc1=diff_fc1+0.01*fc1\n",
        "\n",
        "    diff_conv1=abs((1/3)-diff_conv1)\n",
        "    diff_conv2=abs((1/3)-diff_conv2)\n",
        "    diff_fc1=abs((1/3)-diff_fc1)\n",
        "\n",
        "    diff_v_conv1.append(diff_conv1)\n",
        "    diff_v_conv2.append(diff_conv2)\n",
        "    diff_v_fc1.append(diff_fc1)\n",
        "  "
      ],
      "metadata": {
        "id": "LBtX0Icp_Q_S"
      },
      "execution_count": null,
      "outputs": []
    },
    {
      "cell_type": "code",
      "source": [
        "#plotting results\n",
        "fig = plt.figure(figsize=(8, 5))\n",
        "plt.plot(lrs,diff_v_conv1,label=\"conv1 is initialized\")\n",
        "plt.plot(lrs,diff_v_conv2, label=\"conv2 is initialized\")\n",
        "plt.plot(lrs,diff_v_fc1, label= \"fc1 is initialized\")\n",
        "\n",
        "plt.ylabel('diffrence')\n",
        "plt.xlabel('eta')\n",
        "plt.title(\"eta run for each layer\")\n",
        "fig.legend()\n"
      ],
      "metadata": {
        "colab": {
          "base_uri": "https://localhost:8080/",
          "height": 389
        },
        "id": "iJ_6YtsvBq7k",
        "outputId": "24feebea-69cf-4b5b-e2da-8264bfc93ce1"
      },
      "execution_count": null,
      "outputs": [
        {
          "output_type": "execute_result",
          "data": {
            "text/plain": [
              "<matplotlib.legend.Legend at 0x7f9a0aa58b90>"
            ]
          },
          "metadata": {},
          "execution_count": 37
        },
        {
          "output_type": "display_data",
          "data": {
            "text/plain": [
              "<Figure size 576x360 with 1 Axes>"
            ],
            "image/png": "[encoded data removed]"
          },
          "metadata": {
            "needs_background": "light"
          }
        }
      ]
    },
    {
      "cell_type": "markdown",
      "source": [
        "**doble conv, dounle FC**"
      ],
      "metadata": {
        "id": "tQjIBuTIVui9"
      }
    },
    {
      "cell_type": "code",
      "source": [
        "n_s = 30 # number of sample\n",
        "n_ch = 3 # number of input channels \n",
        "d0 = 50 # dim0 of input image\n",
        "d1 = 45 # dim1 of input image\n",
        "fc2_in= 10\n",
        "n_epoch = 1\n",
        "output_dim = n_s\n",
        "kern_size=6\n",
        "pool_size=3\n",
        "target = torch.ones(output_dim,1)\n",
        "\n",
        "\n",
        "\n",
        "\n",
        "\n",
        "# calc the parameters of the conv1 out put:\n",
        "H_out_conv1= math.floor(d0-kern_size+1)\n",
        "W_out_conv1= math.floor(d1-kern_size+1)\n",
        "\n",
        "# calc the dim after the pooling:\n",
        "pool_H_out= math.floor(((H_out_conv1-pool_size)/pool_size)+1)\n",
        "pool_W_out= math.floor(((W_out_conv1-pool_size)/pool_size)+1)\n",
        "\n",
        "# calc the parameters of the conv2 out put:\n",
        "H_out_conv2= math.floor(pool_H_out-kern_size+1)\n",
        "W_out_conv2= math.floor(pool_W_out-kern_size+1)\n",
        "\n",
        "# calc the dim after the pooling:\n",
        "pool2_H_out= math.floor(((H_out_conv2-pool_size)/pool_size)+1)\n",
        "pool2_W_out= math.floor(((W_out_conv2-pool_size)/pool_size)+1)\n",
        "\n",
        "# clac the dim of nn.Linear\n",
        "final_dim=pool2_H_out*pool2_W_out\n",
        "\n",
        "print('Hout1 is: ',H_out_conv1)\n",
        "print('Wout1 is: ',W_out_conv1)\n",
        "print('Hout2 is: ',H_out_conv2)\n",
        "print('Wout2 is: ',W_out_conv2)\n",
        "print('pool_H_out is: ', pool_H_out)\n",
        "print('pool_W_out is: ', pool_W_out)\n",
        "print('pool2_H_out is: ', pool2_H_out)\n",
        "print('pool2_W_out is: ', pool2_W_out)\n",
        "print('fin dim is: ', final_dim)\n",
        "# dataset\n",
        "DS = torch.normal(0, 1, size=(n_s, n_ch, d0, d1))\n",
        "\n",
        "\n",
        "\n"
      ],
      "metadata": {
        "colab": {
          "base_uri": "https://localhost:8080/"
        },
        "id": "nr8YpvQCBtBb",
        "outputId": "00f80746-a12b-419c-a3e0-db3e52532de1"
      },
      "execution_count": null,
      "outputs": [
        {
          "output_type": "stream",
          "name": "stdout",
          "text": [
            "Hout1 is:  45\n",
            "Wout1 is:  40\n",
            "Hout2 is:  10\n",
            "Wout2 is:  8\n",
            "pool_H_out is:  15\n",
            "pool_W_out is:  13\n",
            "pool2_H_out is:  3\n",
            "pool2_W_out is:  2\n",
            "fin dim is:  6\n"
          ]
        }
      ]
    },
    {
      "cell_type": "code",
      "source": [
        "class full_CNN(nn.Module):\n",
        "    def __init__(self, n_ch):\n",
        "        super(full_CNN, self).__init__()\n",
        "        self.conv1 = nn.Conv2d(n_ch, 1, kernel_size=kern_size, bias=False)\n",
        "        self.conv2 = nn.Conv2d(1, 1, kernel_size=kern_size, bias=False)\n",
        "        self.fc1 = nn.Linear(final_dim, fc2_in, bias=False)\n",
        "        self.fc2= nn.Linear( fc2_in,1, bias=False)\n",
        "\n",
        "    def forward(self, x):\n",
        "        x = F.max_pool2d(self.conv1(x),pool_size)\n",
        "        x = F.max_pool2d(self.conv2(x),pool_size)\n",
        "        x = x.view(-1, final_dim)\n",
        "        x = self.fc1(x)\n",
        "        x= self.fc2(x)\n",
        "        return x"
      ],
      "metadata": {
        "id": "wnhHhKv4XSUd"
      },
      "execution_count": null,
      "outputs": []
    },
    {
      "cell_type": "code",
      "source": [
        "def x_full_calc(eta, n_ch):\n",
        "\n",
        "    #define the net and save init params\n",
        "    network = full_CNN(n_ch)\n",
        "    conv1_init = network.conv1.weight.clone()\n",
        "    conv2_init = network.conv2.weight.clone()\n",
        "    fc1_init = network.fc1.weight.clone()\n",
        "    fc2_init = network.fc2.weight.clone()\n",
        "\n",
        "\n",
        "    #train and save init and final loss\n",
        "    initial_loss = test(network, DS, target)\n",
        "    test_loss = train(network, eta, n_epoch, DS, target)\n",
        "    final_loss = test(network, DS, target)\n",
        "\n",
        "    #  save final net params\n",
        "    conv1_final = network.conv1.weight.clone()\n",
        "    conv2_final = network.conv2.weight.clone()\n",
        "    fc1_final = network.fc1.weight.clone()\n",
        "    fc2_final = network.fc2.weight.clone()\n",
        "\n",
        "    #init weights conv1\n",
        "    with torch.no_grad():\n",
        "      network.conv1.weight[:] = conv1_init\n",
        "    loss_conv1 = test(network, DS, target)\n",
        "\n",
        "        \n",
        "    #init weights conv2\n",
        "    with torch.no_grad():\n",
        "      network.conv1.weight[:] = conv1_final\n",
        "      network.conv2.weight[:] = conv2_init\n",
        "    loss_conv2 = test(network, DS, target)\n",
        "    \n",
        "    #init weights fc1\n",
        "    with torch.no_grad():\n",
        "      network.conv2.weight[:] = conv2_final\n",
        "      network.fc1.weight[:] = fc1_init\n",
        "    loss_fc1 = test(network, DS, target)\n",
        "\n",
        "    #init weights fc2\n",
        "    with torch.no_grad():\n",
        "      network.fc1.weight[:] = fc1_final\n",
        "      network.fc2.weight[:] = fc2_init\n",
        "\n",
        "    loss_fc2 = test(network, DS, target)\n",
        "    \n",
        "    dL = final_loss - initial_loss\n",
        "   # print(\"for lr =\",  eta, \":\")\n",
        "  #  print(\"  inital loss = \", initial_loss)\n",
        "   # print(\"  final loss = \", final_loss)\n",
        "    if dL == 0:\n",
        "      #print(\"for lr =\",  eta, \":\")\n",
        "    #  print(\"   ***dL zero***\")\n",
        "      return\n",
        "    \n",
        "    Xl_conv1 = (final_loss - loss_conv1)/dL\n",
        "    Xl_conv2 = (final_loss - loss_conv2)/dL\n",
        "    Xl_fc1 = (final_loss-loss_fc1)/dL\n",
        "    Xl_fc2 = (final_loss-loss_fc2)/dL\n",
        "\n",
        " #   if True:\n",
        "      #print(\"for lr =\",  eta, \":\")\n",
        "   #   print(\"  Xl1 = \", float(Xl1))\n",
        "    #  print(\"  Xl2 = \", float(Xl2))\n",
        "    return Xl_conv1, Xl_conv2,Xl_fc1,Xl_fc2\n",
        "    "
      ],
      "metadata": {
        "id": "Bm_SdBccYHTp"
      },
      "execution_count": null,
      "outputs": []
    },
    {
      "cell_type": "code",
      "source": [
        "lrs = np.logspace(-2,-5,10)\n",
        "diff_v_conv1=[]\n",
        "diff_v_conv2=[]\n",
        "diff_v_fc1=[]\n",
        "diff_v_fc2=[]\n",
        "\n",
        "\n",
        "for lr in lrs:\n",
        "    diff_conv1= 0\n",
        "    diff_conv2= 0\n",
        "    diff_fc1= 0\n",
        "    diff_fc2= 0\n",
        "    for i in range(100):\n",
        "      conv1,conv2,fc1,fc2=x_full_calc(lr, n_ch)\n",
        "      diff_conv1=diff_conv1+0.01*conv1\n",
        "      diff_conv2=diff_conv2+0.01*conv2\n",
        "      diff_fc1=diff_fc1+0.01*fc1\n",
        "      diff_fc2=diff_fc2+0.01*fc2\n",
        "\n",
        "    diff_conv1=abs((1/4)-diff_conv1)\n",
        "    diff_conv2=abs((1/4)-diff_conv2)\n",
        "    diff_fc1=abs((1/4)-diff_fc1)\n",
        "    diff_fc2=abs((1/4)-diff_fc2)\n",
        "\n",
        "    diff_v_conv1.append(diff_conv1)\n",
        "    diff_v_conv2.append(diff_conv2)\n",
        "    diff_v_fc1.append(diff_fc1)\n",
        "    diff_v_fc2.append(diff_fc2)"
      ],
      "metadata": {
        "id": "3FmkjzXRY3ST"
      },
      "execution_count": null,
      "outputs": []
    },
    {
      "cell_type": "code",
      "source": [
        "#plotting results\n",
        "fig = plt.figure(figsize=(8, 5))\n",
        "plt.plot(lrs[3:10],diff_v_conv1[3:10],label=\"conv1 is initialized\")\n",
        "plt.plot(lrs[3:10],diff_v_conv2[3:10], label=\"conv2 is initialized\")\n",
        "plt.plot(lrs[3:10],diff_v_fc1[3:10], label= \"fc1 is initialized\")\n",
        "plt.plot(lrs[3:10],diff_v_fc2[3:10], label= \"fc2 is initialized\")\n",
        "\n",
        "plt.ylabel('diffrence')\n",
        "plt.xlabel('eta')\n",
        "plt.title(\"eta run for each layer\")\n",
        "fig.legend()\n"
      ],
      "metadata": {
        "colab": {
          "base_uri": "https://localhost:8080/",
          "height": 389
        },
        "id": "KtRM5wjnZRWz",
        "outputId": "d3fc8d9b-c6ec-4219-9aee-2a946ce55333"
      },
      "execution_count": null,
      "outputs": [
        {
          "output_type": "execute_result",
          "data": {
            "text/plain": [
              "<matplotlib.legend.Legend at 0x7f9a0a7a6810>"
            ]
          },
          "metadata": {},
          "execution_count": 45
        },
        {
          "output_type": "display_data",
          "data": {
            "text/plain": [
              "<Figure size 576x360 with 1 Axes>"
            ],
            "image/png": "[encoded data removed]"
          },
          "metadata": {
            "needs_background": "light"
          }
        }
      ]
    },
    {
      "cell_type": "markdown",
      "source": [
        "** Double conv, double FC with tanh **"
      ],
      "metadata": {
        "id": "2Kq7CbY7dxB5"
      }
    },
    {
      "cell_type": "code",
      "source": [
        "n_s = 30 # number of sample\n",
        "n_ch = 3 # number of input channels \n",
        "d0 = 50 # dim0 of input image\n",
        "d1 = 45 # dim1 of input image\n",
        "fc2_in= 10\n",
        "n_epoch = 1\n",
        "output_dim = n_s\n",
        "kern_size=6\n",
        "pool_size=3\n",
        "target = torch.ones(output_dim,1)\n",
        "\n",
        "\n",
        "\n",
        "\n",
        "\n",
        "# calc the parameters of the conv1 out put:\n",
        "H_out_conv1= math.floor(d0-kern_size+1)\n",
        "W_out_conv1= math.floor(d1-kern_size+1)\n",
        "\n",
        "# calc the dim after the pooling:\n",
        "pool_H_out= math.floor(((H_out_conv1-pool_size)/pool_size)+1)\n",
        "pool_W_out= math.floor(((W_out_conv1-pool_size)/pool_size)+1)\n",
        "\n",
        "# calc the parameters of the conv2 out put:\n",
        "H_out_conv2= math.floor(pool_H_out-kern_size+1)\n",
        "W_out_conv2= math.floor(pool_W_out-kern_size+1)\n",
        "\n",
        "# calc the dim after the pooling:\n",
        "pool2_H_out= math.floor(((H_out_conv2-pool_size)/pool_size)+1)\n",
        "pool2_W_out= math.floor(((W_out_conv2-pool_size)/pool_size)+1)\n",
        "\n",
        "# clac the dim of nn.Linear\n",
        "final_dim=pool2_H_out*pool2_W_out\n",
        "\n",
        "print('Hout1 is: ',H_out_conv1)\n",
        "print('Wout1 is: ',W_out_conv1)\n",
        "print('Hout2 is: ',H_out_conv2)\n",
        "print('Wout2 is: ',W_out_conv2)\n",
        "print('pool_H_out is: ', pool_H_out)\n",
        "print('pool_W_out is: ', pool_W_out)\n",
        "print('pool2_H_out is: ', pool2_H_out)\n",
        "print('pool2_W_out is: ', pool2_W_out)\n",
        "print('fin dim is: ', final_dim)\n",
        "# dataset\n",
        "DS = torch.normal(0, 1, size=(n_s, n_ch, d0, d1))\n",
        "\n",
        "\n",
        "\n"
      ],
      "metadata": {
        "colab": {
          "base_uri": "https://localhost:8080/"
        },
        "id": "f_0NYCIod9gN",
        "outputId": "480b105b-36fc-48ff-e01e-aa47106d2bd1"
      },
      "execution_count": null,
      "outputs": [
        {
          "output_type": "stream",
          "name": "stdout",
          "text": [
            "Hout1 is:  45\n",
            "Wout1 is:  40\n",
            "Hout2 is:  10\n",
            "Wout2 is:  8\n",
            "pool_H_out is:  15\n",
            "pool_W_out is:  13\n",
            "pool2_H_out is:  3\n",
            "pool2_W_out is:  2\n",
            "fin dim is:  6\n"
          ]
        }
      ]
    },
    {
      "cell_type": "code",
      "source": [
        "class full_CNN(nn.Module):\n",
        "    def __init__(self, n_ch):\n",
        "        super(full_CNN, self).__init__()\n",
        "        self.conv1 = nn.Conv2d(n_ch, 1, kernel_size=kern_size, bias=False)\n",
        "        self.conv2 = nn.Conv2d(1, 1, kernel_size=kern_size, bias=False)\n",
        "        self.fc1 = nn.Linear(final_dim, fc2_in, bias=False)\n",
        "        self.fc2= nn.Linear( fc2_in,1, bias=False)\n",
        "\n",
        "    def forward(self, x):\n",
        "        x =F.tanh( F.max_pool2d(self.conv1(x),pool_size))\n",
        "        x = F.tanh(F.max_pool2d(self.conv2(x),pool_size))\n",
        "        x = x.view(-1, final_dim)\n",
        "        x = F.tanh(self.fc1(x))\n",
        "        x= self.fc2(x)\n",
        "        return x"
      ],
      "metadata": {
        "id": "HQxWvH3OeNUL"
      },
      "execution_count": null,
      "outputs": []
    },
    {
      "cell_type": "code",
      "source": [
        "def x_full_calc(eta, n_ch):\n",
        "\n",
        "    #define the net and save init params\n",
        "    network = full_CNN(n_ch)\n",
        "    conv1_init = network.conv1.weight.clone()\n",
        "    conv2_init = network.conv2.weight.clone()\n",
        "    fc1_init = network.fc1.weight.clone()\n",
        "    fc2_init = network.fc2.weight.clone()\n",
        "\n",
        "\n",
        "    #train and save init and final loss\n",
        "    initial_loss = test(network, DS, target)\n",
        "    test_loss = train(network, eta, n_epoch, DS, target)\n",
        "    final_loss = test(network, DS, target)\n",
        "\n",
        "    #  save final net params\n",
        "    conv1_final = network.conv1.weight.clone()\n",
        "    conv2_final = network.conv2.weight.clone()\n",
        "    fc1_final = network.fc1.weight.clone()\n",
        "    fc2_final = network.fc2.weight.clone()\n",
        "\n",
        "    #init weights conv1\n",
        "    with torch.no_grad():\n",
        "      network.conv1.weight[:] = conv1_init\n",
        "    loss_conv1 = test(network, DS, target)\n",
        "\n",
        "        \n",
        "    #init weights conv2\n",
        "    with torch.no_grad():\n",
        "      network.conv1.weight[:] = conv1_final\n",
        "      network.conv2.weight[:] = conv2_init\n",
        "    loss_conv2 = test(network, DS, target)\n",
        "    \n",
        "    #init weights fc1\n",
        "    with torch.no_grad():\n",
        "      network.conv2.weight[:] = conv2_final\n",
        "      network.fc1.weight[:] = fc1_init\n",
        "    loss_fc1 = test(network, DS, target)\n",
        "\n",
        "    #init weights fc2\n",
        "    with torch.no_grad():\n",
        "      network.fc1.weight[:] = fc1_final\n",
        "      network.fc2.weight[:] = fc2_init\n",
        "\n",
        "    loss_fc2 = test(network, DS, target)\n",
        "    \n",
        "    dL = final_loss - initial_loss\n",
        "   # print(\"for lr =\",  eta, \":\")\n",
        "  #  print(\"  inital loss = \", initial_loss)\n",
        "   # print(\"  final loss = \", final_loss)\n",
        "    if dL == 0:\n",
        "      #print(\"for lr =\",  eta, \":\")\n",
        "    #  print(\"   ***dL zero***\")\n",
        "      return\n",
        "    \n",
        "    Xl_conv1 = (final_loss - loss_conv1)/dL\n",
        "    Xl_conv2 = (final_loss - loss_conv2)/dL\n",
        "    Xl_fc1 = (final_loss-loss_fc1)/dL\n",
        "    Xl_fc2 = (final_loss-loss_fc2)/dL\n",
        "\n",
        " #   if True:\n",
        "      #print(\"for lr =\",  eta, \":\")\n",
        "   #   print(\"  Xl1 = \", float(Xl1))\n",
        "    #  print(\"  Xl2 = \", float(Xl2))\n",
        "    return Xl_conv1, Xl_conv2,Xl_fc1,Xl_fc2\n",
        "    "
      ],
      "metadata": {
        "id": "51ef2QLofH_a"
      },
      "execution_count": null,
      "outputs": []
    },
    {
      "cell_type": "code",
      "source": [
        "lrs = np.logspace(-2,-5,10)\n",
        "diff_v_conv1=[]\n",
        "diff_v_conv2=[]\n",
        "diff_v_fc1=[]\n",
        "diff_v_fc2=[]\n",
        "\n",
        "\n",
        "for lr in lrs:\n",
        "    diff_conv1= 0\n",
        "    diff_conv2= 0\n",
        "    diff_fc1= 0\n",
        "    diff_fc2= 0\n",
        "    for i in range(100):\n",
        "      conv1,conv2,fc1,fc2=x_full_calc(lr, n_ch)\n",
        "      diff_conv1=diff_conv1+0.01*conv1\n",
        "      diff_conv2=diff_conv2+0.01*conv2\n",
        "      diff_fc1=diff_fc1+0.01*fc1\n",
        "      diff_fc2=diff_fc2+0.01*fc2\n",
        "\n",
        "    diff_conv1=abs((1/4)-diff_conv1)\n",
        "    diff_conv2=abs((1/4)-diff_conv2)\n",
        "    diff_fc1=abs((1/4)-diff_fc1)\n",
        "    diff_fc2=abs((1/4)-diff_fc2)\n",
        "\n",
        "    diff_v_conv1.append(diff_conv1)\n",
        "    diff_v_conv2.append(diff_conv2)\n",
        "    diff_v_fc1.append(diff_fc1)\n",
        "    diff_v_fc2.append(diff_fc2)"
      ],
      "metadata": {
        "colab": {
          "base_uri": "https://localhost:8080/"
        },
        "id": "GNxO8aOgfNZ5",
        "outputId": "ba34dca3-9356-4145-bd12-a87cbfbee82d"
      },
      "execution_count": null,
      "outputs": [
        {
          "output_type": "stream",
          "name": "stderr",
          "text": [
            "/usr/local/lib/python3.7/dist-packages/torch/nn/functional.py:1795: UserWarning: nn.functional.tanh is deprecated. Use torch.tanh instead.\n",
            "  warnings.warn(\"nn.functional.tanh is deprecated. Use torch.tanh instead.\")\n"
          ]
        }
      ]
    },
    {
      "cell_type": "code",
      "source": [
        "#plotting results\n",
        "fig = plt.figure(figsize=(8, 5))\n",
        "plt.plot(lrs[3:10],diff_v_conv1[3:10],label=\"conv1 is initialized\")\n",
        "plt.plot(lrs[3:10],diff_v_conv2[3:10], label=\"conv2 is initialized\")\n",
        "plt.plot(lrs[3:10],diff_v_fc1[3:10], label= \"fc1 is initialized\")\n",
        "plt.plot(lrs[3:10],diff_v_fc2[3:10], label= \"fc2 is initialized\")\n",
        "\n",
        "plt.ylabel('diffrence')\n",
        "plt.xlabel('eta')\n",
        "plt.title(\"eta run for each layer\")\n",
        "fig.legend()\n"
      ],
      "metadata": {
        "colab": {
          "base_uri": "https://localhost:8080/",
          "height": 389
        },
        "id": "BaywAei7fSpJ",
        "outputId": "73362213-6ce3-4900-e5a9-ef0ac7457873"
      },
      "execution_count": null,
      "outputs": [
        {
          "output_type": "execute_result",
          "data": {
            "text/plain": [
              "<matplotlib.legend.Legend at 0x7fc8e75643d0>"
            ]
          },
          "metadata": {},
          "execution_count": 13
        },
        {
          "output_type": "display_data",
          "data": {
            "text/plain": [
              "<Figure size 576x360 with 1 Axes>"
            ],
            "image/png": "[encoded data removed]"
          },
          "metadata": {
            "needs_background": "light"
          }
        }
      ]
    }
  ],
  "metadata": {
    "interpreter": {
      "hash": "c7894602a0c985887175ef870b163991377e40017ef89bcf79ed228593e61d67"
    },
    "kernelspec": {
      "display_name": "Python 3.8.8 ('base')",
      "language": "python",
      "name": "python3"
    },
    "language_info": {
      "codemirror_mode": {
        "name": "ipython",
        "version": 3
      },
      "file_extension": ".py",
      "mimetype": "text/x-python",
      "name": "python",
      "nbconvert_exporter": "python",
      "pygments_lexer": "ipython3",
      "version": "3.8.8"
    },
    "orig_nbformat": 4,
    "colab": {
      "name": "toy CNN.ipynb",
      "provenance": [],
      "collapsed_sections": []
    }
  },
  "nbformat": 4,
  "nbformat_minor": 0
}