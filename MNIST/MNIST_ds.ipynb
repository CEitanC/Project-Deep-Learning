{
  "cells": [
    {
      "cell_type": "code",
      "execution_count": 1,
      "metadata": {
        "id": "-1xNKXx6TBQp"
      },
      "outputs": [],
      "source": [
        "import torch\n",
        "import matplotlib.pyplot as plt\n",
        "import torch.nn as nn\n",
        "import torch.nn.functional as F\n",
        "import torch.optim as optim\n",
        "from tqdm import tqdm\n"
      ]
    },
    {
      "cell_type": "code",
      "execution_count": 2,
      "metadata": {},
      "outputs": [],
      "source": [
        "import numpy as np\n",
        "import torch\n",
        "# MNIST dataset\n",
        "from torchvision.datasets import MNIST, FashionMNIST\n",
        "from torchvision import transforms\n",
        "    \n",
        "def define_dataloaders(n_examples_train, n_examples_test, batch_size, classes=np.arange(10), zscore_images=True):\n",
        "    # MNIST data, batch training\n",
        "    #batch_size = n_examples_train\n",
        "\n",
        "    # Choose the classes (at most 10)\n",
        "    assert max(classes) <= 9\n",
        "\n",
        "    # Transformation for the images\n",
        "    transform = transforms.Compose([transforms.ToTensor(),\n",
        "                                  transforms.Normalize((0.5,), (0.5,)),\n",
        "                                  ])\n",
        "    trainset = MNIST(data_dir, download=True, train=True, transform=transform)\n",
        "    testset = MNIST(data_dir, download=True, train=False, transform=transform)\n",
        "\n",
        "    # Obtain training and test data. \n",
        "    # Note that both datasets are sorted, but the train and test loaders will shuffle them during training.\n",
        "    n_examples_tt = [n_examples_train, n_examples_test]\n",
        "    for i_d, (n_examples_i, dataset) in enumerate(zip(n_examples_tt, [trainset, testset])):\n",
        "        n_per_class = n_examples_i // len(classes)\n",
        "        data_orig = dataset.data.detach().clone()\n",
        "        targets_orig = dataset.targets.detach().clone()\n",
        "        for i_c, class_i in enumerate(classes):\n",
        "            mask = targets_orig == class_i\n",
        "            i0 = i_c * n_per_class\n",
        "            i1 = (i_c+1) * n_per_class\n",
        "            dataset.data[i0:i1] = data_orig[mask][:n_per_class]\n",
        "            dataset.targets[i0:i1] = targets_orig[mask][:n_per_class]\n",
        "        # Fill the remaining slots with random classes from the available choices\n",
        "        n_remain = n_examples_i - i1 \n",
        "        for i in range(n_remain):\n",
        "            class_i = np.random.choice(classes)\n",
        "            mask = targets_orig == class_i\n",
        "            idx_i = np.random.choice(torch.where(mask)[0].cpu())\n",
        "            dataset.data[i1+i] = data_orig[idx_i]\n",
        "            dataset.targets[i1+i] = targets_orig[idx_i]\n",
        "\n",
        "        # Cut off\n",
        "        dataset.data = dataset.data[:n_examples_i]\n",
        "        dataset.targets = dataset.targets[:n_examples_i]\n",
        "\n",
        "    # Batch-loader\n",
        "    trainloader = torch.utils.data.DataLoader(trainset, batch_size=batch_size, shuffle=True, num_workers=0)\n",
        "    testloader = torch.utils.data.DataLoader(testset, batch_size=n_examples_test, shuffle=False, num_workers=0)\n",
        "\n",
        "    return trainloader, testloader"
      ]
    },
    {
      "cell_type": "markdown",
      "metadata": {},
      "source": [
        "## Settings:\n",
        "- no dropout\n",
        "- no momentum\n",
        "- increased number of fetures/filters"
      ]
    },
    {
      "cell_type": "code",
      "execution_count": 3,
      "metadata": {
        "colab": {
          "base_uri": "https://localhost:8080/"
        },
        "id": "6rRSXyp6THwR",
        "outputId": "edd158a8-0f57-48d7-be07-55ffef562fac"
      },
      "outputs": [],
      "source": [
        "learning_rate = 0.01\n",
        "momentum = 0\n",
        "n_epochs = 100\n",
        "log_interval = 10"
      ]
    },
    {
      "cell_type": "code",
      "execution_count": 4,
      "metadata": {
        "id": "_HKx24x7V_4d"
      },
      "outputs": [],
      "source": [
        "#Building the Network\n",
        "\n",
        "class Net(nn.Module):\n",
        "    def __init__(self):\n",
        "        super(Net, self).__init__()\n",
        "        self.conv1 = nn.Conv2d(1, 60, kernel_size=5)\n",
        "        self.conv2 = nn.Conv2d(60, 20, kernel_size=5)\n",
        "        self.fc1 = nn.Linear(320, 200)\n",
        "        self.fc2 = nn.Linear(200, 10)\n",
        "\n",
        "    def forward(self, x):\n",
        "        x = torch.tanh(F.max_pool2d(self.conv1(x), 2))\n",
        "        x = torch.tanh(F.max_pool2d((self.conv2(x)), 2))\n",
        "        x = x.view(-1, 320)\n",
        "        x = torch.tanh(self.fc1(x))\n",
        "        x = self.fc2(x)\n",
        "        return x"
      ]
    },
    {
      "cell_type": "code",
      "execution_count": 5,
      "metadata": {
        "id": "taugfbRTWCo-"
      },
      "outputs": [],
      "source": [
        "network = Net()\n",
        "optimizer = optim.SGD(network.parameters(), lr=learning_rate, momentum=momentum)\n",
        "loss_f=nn.CrossEntropyLoss()"
      ]
    },
    {
      "cell_type": "code",
      "execution_count": 6,
      "metadata": {
        "id": "XKYJb4e7WLNG"
      },
      "outputs": [],
      "source": [
        "data_dir = '/files/'\n",
        "batch_size = 64\n",
        "n_examples_train = 4*batch_size\n",
        "n_examples_test = 1024\n",
        "train_loader, test_loader =  define_dataloaders(n_examples_train, n_examples_test, batch_size)\n",
        "\n",
        "train_losses = []\n",
        "train_accuracy = []\n",
        "train_counter = []\n",
        "test_losses = []\n",
        "test_accuracy = []\n",
        "test_counter = [i*len(train_loader.dataset) for i in range(n_epochs + 1)]"
      ]
    },
    {
      "cell_type": "code",
      "execution_count": 7,
      "metadata": {
        "id": "Y2MhJ3U3WNTW"
      },
      "outputs": [],
      "source": [
        "def train(epoch):\n",
        "  network.train()\n",
        "  for batch_idx, (data, target) in enumerate(train_loader):\n",
        "    optimizer.zero_grad()\n",
        "    output = network(data)\n",
        "    loss = loss_f(output,target)\n",
        "    loss.backward()\n",
        "    optimizer.step()\n",
        "    if batch_idx % log_interval == 0:\n",
        "      train_losses.append(loss.item())\n",
        "      train_counter.append((batch_idx*batch_size) + ((epoch-1)*len(train_loader.dataset)))\n",
        "  \n",
        "  correct = 0\n",
        "  with torch.no_grad():\n",
        "    for data, target in train_loader:\n",
        "      output = network(data)\n",
        "      pred = output.data.max(1, keepdim=True)[1]\n",
        "      correct += pred.eq(target.data.view_as(pred)).sum()\n",
        "  train_accuracy.append(100. * correct / len(train_loader.dataset))"
      ]
    },
    {
      "cell_type": "code",
      "execution_count": 8,
      "metadata": {
        "id": "r9W0MBhnWPfg"
      },
      "outputs": [],
      "source": [
        "def test():\n",
        "  network.eval()\n",
        "  test_loss = 0\n",
        "  correct = 0\n",
        "  with torch.no_grad():\n",
        "    for data, target in test_loader:\n",
        "      output = network(data)\n",
        "      test_loss += loss_f(output,target)\n",
        "      pred = output.data.max(1, keepdim=True)[1]\n",
        "      correct += pred.eq(target.data.view_as(pred)).sum()\n",
        "  test_loss /= len(test_loader)\n",
        "  test_losses.append(test_loss)\n",
        "  test_accuracy.append(100. * correct / len(test_loader.dataset))\n"
      ]
    },
    {
      "cell_type": "code",
      "execution_count": 9,
      "metadata": {
        "colab": {
          "base_uri": "https://localhost:8080/",
          "height": 484
        },
        "id": "BJo6gYxIWSUC",
        "outputId": "9cd112a3-872f-4d2c-c351-b99e8929a6dd"
      },
      "outputs": [
        {
          "name": "stderr",
          "output_type": "stream",
          "text": [
            "100%|██████████| 100/100 [01:21<00:00,  1.23it/s]\n"
          ]
        }
      ],
      "source": [
        "test()\n",
        "for epoch in tqdm(range(1, n_epochs + 1)):\n",
        "  train(epoch)\n",
        "  test()"
      ]
    },
    {
      "cell_type": "code",
      "execution_count": 10,
      "metadata": {},
      "outputs": [
        {
          "data": {
            "text/plain": [
              "Text(0, 0.5, 'loss')"
            ]
          },
          "execution_count": 10,
          "metadata": {},
          "output_type": "execute_result"
        },
        {
          "data": {
            "image/png": "[encoded data removed]",
            "text/plain": [
              "<Figure size 432x288 with 1 Axes>"
            ]
          },
          "metadata": {
            "needs_background": "light"
          },
          "output_type": "display_data"
        }
      ],
      "source": [
        "# LOSS\n",
        "fig = plt.figure()\n",
        "plt.plot(train_counter, train_losses, color='blue', zorder=1)\n",
        "plt.scatter(test_counter, test_losses, color='red', zorder=2)\n",
        "plt.legend(['Train Loss', 'Test Loss'], loc='upper right')\n",
        "plt.xlabel('number of training examples seen')\n",
        "plt.ylabel('loss')"
      ]
    },
    {
      "cell_type": "code",
      "execution_count": 11,
      "metadata": {},
      "outputs": [
        {
          "data": {
            "text/plain": [
              "[2.3057119846343994,\n",
              " 2.294668436050415,\n",
              " 2.283629894256592,\n",
              " 2.2507753372192383,\n",
              " 2.2227916717529297,\n",
              " 2.1894633769989014,\n",
              " 2.1771864891052246,\n",
              " 2.15394926071167,\n",
              " 2.1341631412506104,\n",
              " 2.1067709922790527,\n",
              " 2.077629327774048,\n",
              " 2.0536718368530273,\n",
              " 2.0343239307403564,\n",
              " 1.9652481079101562,\n",
              " 1.9247654676437378,\n",
              " 1.9366799592971802,\n",
              " 1.8506641387939453,\n",
              " 1.7852288484573364,\n",
              " 1.813330054283142,\n",
              " 1.7038506269454956,\n",
              " 1.7428410053253174,\n",
              " 1.7198151350021362,\n",
              " 1.6236213445663452,\n",
              " 1.6149811744689941,\n",
              " 1.6459026336669922,\n",
              " 1.4791710376739502,\n",
              " 1.5263444185256958,\n",
              " 1.4309468269348145,\n",
              " 1.4454718828201294,\n",
              " 1.2870944738388062,\n",
              " 1.3787614107131958,\n",
              " 1.283925175666809,\n",
              " 1.1388956308364868,\n",
              " 1.1771208047866821,\n",
              " 1.1422967910766602,\n",
              " 1.1943241357803345,\n",
              " 1.0499175786972046,\n",
              " 1.0844236612319946,\n",
              " 1.1086070537567139,\n",
              " 1.012062430381775,\n",
              " 1.0565446615219116,\n",
              " 1.0538603067398071,\n",
              " 0.9494262933731079,\n",
              " 1.0028176307678223,\n",
              " 0.9142012000083923,\n",
              " 0.9488357305526733,\n",
              " 0.8608335852622986,\n",
              " 0.9039016366004944,\n",
              " 0.8214907646179199,\n",
              " 0.8130298852920532,\n",
              " 0.9238246083259583,\n",
              " 0.7920892238616943,\n",
              " 0.78254634141922,\n",
              " 0.8254863023757935,\n",
              " 0.7253225445747375,\n",
              " 0.6598684191703796,\n",
              " 0.6171554327011108,\n",
              " 0.6915848851203918,\n",
              " 0.6633689403533936,\n",
              " 0.6525461077690125,\n",
              " 0.6250264048576355,\n",
              " 0.6415039300918579,\n",
              " 0.5901486277580261,\n",
              " 0.6942543387413025,\n",
              " 0.5418557524681091,\n",
              " 0.5991601347923279,\n",
              " 0.5062304139137268,\n",
              " 0.6023357510566711,\n",
              " 0.6819959282875061,\n",
              " 0.5249007344245911,\n",
              " 0.5902336239814758,\n",
              " 0.57734614610672,\n",
              " 0.5456615686416626,\n",
              " 0.3946550190448761,\n",
              " 0.442405641078949,\n",
              " 0.5960448980331421,\n",
              " 0.4798363745212555,\n",
              " 0.49990975856781006,\n",
              " 0.6071772575378418,\n",
              " 0.5296434760093689,\n",
              " 0.49786442518234253,\n",
              " 0.5388495922088623,\n",
              " 0.4974397122859955,\n",
              " 0.4905395805835724,\n",
              " 0.4897725284099579,\n",
              " 0.4575904607772827,\n",
              " 0.36343926191329956,\n",
              " 0.47350794076919556,\n",
              " 0.399358868598938,\n",
              " 0.4084605276584625,\n",
              " 0.4558422863483429,\n",
              " 0.4297303259372711,\n",
              " 0.4212340712547302,\n",
              " 0.3658938407897949,\n",
              " 0.4471832811832428,\n",
              " 0.31866294145584106,\n",
              " 0.3088062107563019,\n",
              " 0.43087130784988403,\n",
              " 0.4062593877315521,\n",
              " 0.44915515184402466]"
            ]
          },
          "execution_count": 11,
          "metadata": {},
          "output_type": "execute_result"
        }
      ],
      "source": [
        "train_losses"
      ]
    },
    {
      "cell_type": "code",
      "execution_count": 12,
      "metadata": {},
      "outputs": [
        {
          "data": {
            "text/plain": [
              "Text(0, 0.5, 'loss')"
            ]
          },
          "execution_count": 12,
          "metadata": {},
          "output_type": "execute_result"
        },
        {
          "data": {
            "image/png": "[encoded data removed]",
            "text/plain": [
              "<Figure size 432x288 with 1 Axes>"
            ]
          },
          "metadata": {
            "needs_background": "light"
          },
          "output_type": "display_data"
        }
      ],
      "source": [
        "# ACCURACY\n",
        "\n",
        "fig = plt.figure()\n",
        "plt.scatter(test_counter[:-1], train_accuracy, color='blue', zorder=1)\n",
        "plt.scatter(test_counter, test_accuracy, color='red', zorder=2)\n",
        "plt.legend(['Train Accuracy', 'Test Accuracy'], loc='upper left')\n",
        "plt.xlabel('number of training examples seen')\n",
        "plt.ylabel('Accuracy')"
      ]
    },
    {
      "cell_type": "code",
      "execution_count": 13,
      "metadata": {},
      "outputs": [
        {
          "name": "stdout",
          "output_type": "stream",
          "text": [
            "tensor(-0.3906)\n",
            "tensor(-0.2930)\n",
            "tensor(-0.8789)\n",
            "tensor(-2.9297)\n",
            "tensor(-5.2734)\n",
            "tensor(-6.4453)\n",
            "tensor(-12.3047)\n",
            "tensor(-14.5508)\n",
            "tensor(-14.0625)\n",
            "tensor(-13.3789)\n",
            "tensor(-15.0391)\n",
            "tensor(-15.8203)\n",
            "tensor(-15.6250)\n",
            "tensor(-14.4531)\n",
            "tensor(-15.4297)\n",
            "tensor(-15.4297)\n",
            "tensor(-15.8203)\n",
            "tensor(-17.0898)\n",
            "tensor(-16.6992)\n",
            "tensor(-17.3828)\n",
            "tensor(-17.1875)\n",
            "tensor(-16.6992)\n",
            "tensor(-16.1133)\n",
            "tensor(-16.2109)\n",
            "tensor(-16.4062)\n",
            "tensor(-16.6016)\n",
            "tensor(-17.5781)\n",
            "tensor(-17.1875)\n",
            "tensor(-17.6758)\n",
            "tensor(-18.3594)\n",
            "tensor(-18.1641)\n",
            "tensor(-17.7734)\n",
            "tensor(-18.3594)\n",
            "tensor(-19.1406)\n",
            "tensor(-19.1406)\n",
            "tensor(-18.9453)\n",
            "tensor(-18.9453)\n",
            "tensor(-18.1641)\n",
            "tensor(-17.6758)\n",
            "tensor(-17.5781)\n",
            "tensor(-17.4805)\n",
            "tensor(-17.9688)\n",
            "tensor(-17.4805)\n",
            "tensor(-17.4805)\n",
            "tensor(-17.6758)\n",
            "tensor(-17.3828)\n",
            "tensor(-17.5781)\n",
            "tensor(-17.3828)\n",
            "tensor(-17.5781)\n",
            "tensor(-17.1875)\n",
            "tensor(-17.0898)\n",
            "tensor(-16.6016)\n",
            "tensor(-16.4062)\n",
            "tensor(-16.3086)\n",
            "tensor(-16.0156)\n",
            "tensor(-16.0156)\n",
            "tensor(-16.6016)\n",
            "tensor(-16.8945)\n",
            "tensor(-17.1875)\n",
            "tensor(-17.5781)\n",
            "tensor(-17.4805)\n",
            "tensor(-17.6758)\n",
            "tensor(-17.8711)\n",
            "tensor(-17.7734)\n",
            "tensor(-17.9688)\n",
            "tensor(-17.8711)\n",
            "tensor(-17.4805)\n",
            "tensor(-17.2852)\n",
            "tensor(-17.8711)\n",
            "tensor(-17.8711)\n",
            "tensor(-18.4570)\n",
            "tensor(-18.2617)\n",
            "tensor(-18.6523)\n",
            "tensor(-18.1641)\n",
            "tensor(-17.9688)\n",
            "tensor(-17.9688)\n",
            "tensor(-17.7734)\n",
            "tensor(-17.8711)\n",
            "tensor(-17.4805)\n",
            "tensor(-17.5781)\n",
            "tensor(-17.5781)\n",
            "tensor(-17.3828)\n",
            "tensor(-17.3828)\n",
            "tensor(-17.1875)\n",
            "tensor(-17.2852)\n",
            "tensor(-17.1875)\n",
            "tensor(-17.1875)\n",
            "tensor(-17.1875)\n",
            "tensor(-17.1875)\n",
            "tensor(-17.0898)\n",
            "tensor(-16.9922)\n",
            "tensor(-16.8945)\n",
            "tensor(-16.8945)\n",
            "tensor(-16.6992)\n",
            "tensor(-16.5039)\n",
            "tensor(-16.5039)\n",
            "tensor(-16.4062)\n",
            "tensor(-16.6016)\n",
            "tensor(-16.6992)\n",
            "tensor(-16.4062)\n"
          ]
        }
      ],
      "source": [
        "for i,_ in enumerate(train_accuracy):\n",
        "    print(test_accuracy[i+1] - train_accuracy[i])"
      ]
    },
    {
      "cell_type": "code",
      "execution_count": 14,
      "metadata": {},
      "outputs": [
        {
          "data": {
            "text/plain": [
              "[tensor(8.7891),\n",
              " tensor(10.9375),\n",
              " tensor(16.5039),\n",
              " tensor(22.9492),\n",
              " tensor(30.6641),\n",
              " tensor(35.3516),\n",
              " tensor(39.6484),\n",
              " tensor(42.7734),\n",
              " tensor(44.0430),\n",
              " tensor(47.6562),\n",
              " tensor(50.2930),\n",
              " tensor(51.3672),\n",
              " tensor(52.9297),\n",
              " tensor(54.6875),\n",
              " tensor(56.6406),\n",
              " tensor(57.2266),\n",
              " tensor(58.3984),\n",
              " tensor(59.5703),\n",
              " tensor(59.4727),\n",
              " tensor(60.2539),\n",
              " tensor(60.7422),\n",
              " tensor(60.9375),\n",
              " tensor(61.4258),\n",
              " tensor(62.0117),\n",
              " tensor(62.6953),\n",
              " tensor(62.8906),\n",
              " tensor(63.4766),\n",
              " tensor(63.2812),\n",
              " tensor(63.6719),\n",
              " tensor(63.9648),\n",
              " tensor(64.4531),\n",
              " tensor(65.0391),\n",
              " tensor(65.4297),\n",
              " tensor(65.6250),\n",
              " tensor(66.0156),\n",
              " tensor(66.0156),\n",
              " tensor(66.2109),\n",
              " tensor(66.6016),\n",
              " tensor(66.9922),\n",
              " tensor(67.4805),\n",
              " tensor(67.5781),\n",
              " tensor(67.6758),\n",
              " tensor(67.9688),\n",
              " tensor(68.4570),\n",
              " tensor(68.8477),\n",
              " tensor(69.0430),\n",
              " tensor(69.3359),\n",
              " tensor(69.5312),\n",
              " tensor(69.7266),\n",
              " tensor(69.9219),\n",
              " tensor(70.3125),\n",
              " tensor(70.4102),\n",
              " tensor(70.8984),\n",
              " tensor(71.0938),\n",
              " tensor(71.1914),\n",
              " tensor(71.8750),\n",
              " tensor(71.8750),\n",
              " tensor(71.6797),\n",
              " tensor(71.7773),\n",
              " tensor(71.8750),\n",
              " tensor(71.8750),\n",
              " tensor(71.9727),\n",
              " tensor(71.7773),\n",
              " tensor(71.9727),\n",
              " tensor(72.0703),\n",
              " tensor(72.2656),\n",
              " tensor(72.3633),\n",
              " tensor(72.7539),\n",
              " tensor(72.9492),\n",
              " tensor(73.1445),\n",
              " tensor(73.1445),\n",
              " tensor(73.3398),\n",
              " tensor(73.5352),\n",
              " tensor(73.5352),\n",
              " tensor(74.0234),\n",
              " tensor(74.2188),\n",
              " tensor(74.2188),\n",
              " tensor(74.4141),\n",
              " tensor(74.7070),\n",
              " tensor(75.0977),\n",
              " tensor(75.),\n",
              " tensor(75.),\n",
              " tensor(75.1953),\n",
              " tensor(75.1953),\n",
              " tensor(75.3906),\n",
              " tensor(75.2930),\n",
              " tensor(75.3906),\n",
              " tensor(75.3906),\n",
              " tensor(75.3906),\n",
              " tensor(75.3906),\n",
              " tensor(75.4883),\n",
              " tensor(75.5859),\n",
              " tensor(75.6836),\n",
              " tensor(75.6836),\n",
              " tensor(75.8789),\n",
              " tensor(76.0742),\n",
              " tensor(76.0742),\n",
              " tensor(76.1719),\n",
              " tensor(76.3672),\n",
              " tensor(76.2695),\n",
              " tensor(76.5625)]"
            ]
          },
          "execution_count": 14,
          "metadata": {},
          "output_type": "execute_result"
        }
      ],
      "source": [
        "test_accuracy"
      ]
    },
    {
      "cell_type": "code",
      "execution_count": 15,
      "metadata": {},
      "outputs": [
        {
          "data": {
            "text/plain": [
              "[tensor(11.3281),\n",
              " tensor(16.7969),\n",
              " tensor(23.8281),\n",
              " tensor(33.5938),\n",
              " tensor(40.6250),\n",
              " tensor(46.0938),\n",
              " tensor(55.0781),\n",
              " tensor(58.5938),\n",
              " tensor(61.7188),\n",
              " tensor(63.6719),\n",
              " tensor(66.4062),\n",
              " tensor(68.7500),\n",
              " tensor(70.3125),\n",
              " tensor(71.0938),\n",
              " tensor(72.6562),\n",
              " tensor(73.8281),\n",
              " tensor(75.3906),\n",
              " tensor(76.5625),\n",
              " tensor(76.9531),\n",
              " tensor(78.1250),\n",
              " tensor(78.1250),\n",
              " tensor(78.1250),\n",
              " tensor(78.1250),\n",
              " tensor(78.9062),\n",
              " tensor(79.2969),\n",
              " tensor(80.0781),\n",
              " tensor(80.8594),\n",
              " tensor(80.8594),\n",
              " tensor(81.6406),\n",
              " tensor(82.8125),\n",
              " tensor(83.2031),\n",
              " tensor(83.2031),\n",
              " tensor(83.9844),\n",
              " tensor(85.1562),\n",
              " tensor(85.1562),\n",
              " tensor(85.1562),\n",
              " tensor(85.5469),\n",
              " tensor(85.1562),\n",
              " tensor(85.1562),\n",
              " tensor(85.1562),\n",
              " tensor(85.1562),\n",
              " tensor(85.9375),\n",
              " tensor(85.9375),\n",
              " tensor(86.3281),\n",
              " tensor(86.7188),\n",
              " tensor(86.7188),\n",
              " tensor(87.1094),\n",
              " tensor(87.1094),\n",
              " tensor(87.5000),\n",
              " tensor(87.5000),\n",
              " tensor(87.5000),\n",
              " tensor(87.5000),\n",
              " tensor(87.5000),\n",
              " tensor(87.5000),\n",
              " tensor(87.8906),\n",
              " tensor(87.8906),\n",
              " tensor(88.2812),\n",
              " tensor(88.6719),\n",
              " tensor(89.0625),\n",
              " tensor(89.4531),\n",
              " tensor(89.4531),\n",
              " tensor(89.4531),\n",
              " tensor(89.8438),\n",
              " tensor(89.8438),\n",
              " tensor(90.2344),\n",
              " tensor(90.2344),\n",
              " tensor(90.2344),\n",
              " tensor(90.2344),\n",
              " tensor(91.0156),\n",
              " tensor(91.0156),\n",
              " tensor(91.7969),\n",
              " tensor(91.7969),\n",
              " tensor(92.1875),\n",
              " tensor(92.1875),\n",
              " tensor(92.1875),\n",
              " tensor(92.1875),\n",
              " tensor(92.1875),\n",
              " tensor(92.5781),\n",
              " tensor(92.5781),\n",
              " tensor(92.5781),\n",
              " tensor(92.5781),\n",
              " tensor(92.5781),\n",
              " tensor(92.5781),\n",
              " tensor(92.5781),\n",
              " tensor(92.5781),\n",
              " tensor(92.5781),\n",
              " tensor(92.5781),\n",
              " tensor(92.5781),\n",
              " tensor(92.5781),\n",
              " tensor(92.5781),\n",
              " tensor(92.5781),\n",
              " tensor(92.5781),\n",
              " tensor(92.5781),\n",
              " tensor(92.5781),\n",
              " tensor(92.5781),\n",
              " tensor(92.5781),\n",
              " tensor(92.5781),\n",
              " tensor(92.9688),\n",
              " tensor(92.9688),\n",
              " tensor(92.9688)]"
            ]
          },
          "execution_count": 15,
          "metadata": {},
          "output_type": "execute_result"
        }
      ],
      "source": [
        "train_accuracy"
      ]
    },
    {
      "cell_type": "code",
      "execution_count": 16,
      "metadata": {},
      "outputs": [
        {
          "data": {
            "image/png": "[encoded data removed]",
            "text/plain": [
              "<Figure size 432x288 with 32 Axes>"
            ]
          },
          "metadata": {
            "needs_background": "light"
          },
          "output_type": "display_data"
        }
      ],
      "source": [
        "fig = plt.figure()\n",
        "i=0\n",
        "for data, target in test_loader:\n",
        "    j=0\n",
        "for i in range(32):\n",
        "    ax = fig.add_subplot(4,8,i+1)\n",
        "    ax.imshow(data[i][0], cmap='gray', interpolation='none')\n",
        "    plt.tight_layout()\n",
        "    ax.axis('off')\n"
      ]
    },
    {
      "cell_type": "code",
      "execution_count": 17,
      "metadata": {},
      "outputs": [
        {
          "data": {
            "image/png": "[encoded data removed]",
            "text/plain": [
              "<Figure size 432x288 with 64 Axes>"
            ]
          },
          "metadata": {
            "needs_background": "light"
          },
          "output_type": "display_data"
        }
      ],
      "source": [
        "fig = plt.figure()\n",
        "i=0\n",
        "for data, target in train_loader:\n",
        "    j=0\n",
        "for i in range(64):\n",
        "    ax = fig.add_subplot(8,8,i+1)\n",
        "    ax.imshow(data[i][0], cmap='gray', interpolation='none')\n",
        "    plt.tight_layout()\n",
        "    ax.axis('off')\n"
      ]
    },
    {
      "cell_type": "code",
      "execution_count": 18,
      "metadata": {},
      "outputs": [
        {
          "name": "stdout",
          "output_type": "stream",
          "text": [
            "0\n"
          ]
        }
      ],
      "source": [
        "for batch_idx, (data, target) in enumerate(test_loader):\n",
        "    print(batch_idx)\n"
      ]
    },
    {
      "cell_type": "code",
      "execution_count": 19,
      "metadata": {},
      "outputs": [
        {
          "data": {
            "text/plain": [
              "torch.Size([1024, 1, 28, 28])"
            ]
          },
          "execution_count": 19,
          "metadata": {},
          "output_type": "execute_result"
        }
      ],
      "source": [
        "data.size()"
      ]
    }
  ],
  "metadata": {
    "colab": {
      "name": "MNIST.ipynb",
      "provenance": []
    },
    "kernelspec": {
      "display_name": "Python 3",
      "name": "python3"
    },
    "language_info": {
      "codemirror_mode": {
        "name": "ipython",
        "version": 3
      },
      "file_extension": ".py",
      "mimetype": "text/x-python",
      "name": "python",
      "nbconvert_exporter": "python",
      "pygments_lexer": "ipython3",
      "version": "3.8.8"
    }
  },
  "nbformat": 4,
  "nbformat_minor": 0
}
