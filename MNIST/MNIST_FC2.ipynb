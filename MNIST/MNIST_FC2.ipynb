{
 "cells": [
  {
   "cell_type": "code",
   "execution_count": 8,
   "metadata": {},
   "outputs": [],
   "source": [
    "import numpy as np\n",
    "import torch\n",
    "import torch.nn as nn\n",
    "import torchvision\n",
    "import torchvision.transforms as transforms\n",
    "import torch.optim as optim\n",
    "# MNIST dataset\n",
    "from torchvision.datasets import MNIST, FashionMNIST\n",
    "from torchvision import transforms"
   ]
  },
  {
   "cell_type": "code",
   "execution_count": 9,
   "metadata": {},
   "outputs": [],
   "source": [
    "# Check Device configuration\n",
    "device = torch.device('cuda' if torch.cuda.is_available() else 'cpu')\n",
    "\n",
    "# Define Hyper-parameters \n",
    "input_size = 784\n",
    "hidden_size = 500\n",
    "num_classes = 10\n",
    "num_epochs = 5\n",
    "#learning_rate = 0.001\n",
    "learning_rate = 0.01"
   ]
  },
  {
   "cell_type": "code",
   "execution_count": 10,
   "metadata": {},
   "outputs": [],
   "source": [
    "def define_dataloaders(n_examples_train = 1024, n_examples_test = 64, classes=np.arange(10), zscore_images=True):\n",
    "    # MNIST data, batch training\n",
    "    #batch_size = n_examples_train\n",
    "    batch_size = 64\n",
    "    batches_per_epoch_train = n_examples_train / batch_size\n",
    "    batches_per_epoch_test = n_examples_test / batch_size\n",
    "\n",
    "    # Choose the classes (at most 10)\n",
    "    assert max(classes) <= 9\n",
    "\n",
    "    # Transformation for the images\n",
    "    transform = transforms.Compose([transforms.ToTensor(),\n",
    "                                  transforms.Normalize((0.5,), (0.5,)),\n",
    "                                  ])\n",
    "    trainset = FashionMNIST(data_dir, download=True, train=True, transform=transform)\n",
    "    testset = FashionMNIST(data_dir, download=True, train=False, transform=transform)\n",
    "\n",
    "    # Obtain training and test data. \n",
    "    # Note that both datasets are sorted, but the train and test loaders will shuffle them during training.\n",
    "    n_examples_tt = [n_examples_train, n_examples_test]\n",
    "    for i_d, (n_examples_i, dataset) in enumerate(zip(n_examples_tt, [trainset, testset])):\n",
    "        n_per_class = n_examples_i // len(classes)\n",
    "        data_orig = dataset.data.detach().clone()\n",
    "        targets_orig = dataset.targets.detach().clone()\n",
    "        for i_c, class_i in enumerate(classes):\n",
    "            mask = targets_orig == class_i\n",
    "            i0 = i_c * n_per_class\n",
    "            i1 = (i_c+1) * n_per_class\n",
    "            dataset.data[i0:i1] = data_orig[mask][:n_per_class]\n",
    "            dataset.targets[i0:i1] = targets_orig[mask][:n_per_class]\n",
    "        # Fill the remaining slots with random classes from the available choices\n",
    "        n_remain = n_examples_i - i1 \n",
    "        for i in range(n_remain):\n",
    "            class_i = np.random.choice(classes)\n",
    "            mask = targets_orig == class_i\n",
    "            idx_i = np.random.choice(torch.where(mask)[0][i1:].cpu())\n",
    "            dataset.data[i1+i] = data_orig[idx_i]\n",
    "            dataset.targets[i1+i] = targets_orig[idx_i]\n",
    "\n",
    "        # Cut off\n",
    "        dataset.data = dataset.data[:n_examples_i]\n",
    "        dataset.targets = dataset.targets[:n_examples_i]\n",
    "\n",
    "    # Batch-loader\n",
    "    trainloader = torch.utils.data.DataLoader(trainset, batch_size=batch_size, shuffle=True, num_workers=0)\n",
    "    testloader = torch.utils.data.DataLoader(testset, batch_size=batch_size, shuffle=False, num_workers=0)\n",
    "\n",
    "    return trainloader, testloader\n",
    "\n",
    "data_dir = '/files/'\n",
    "n_examples_train = 512\n",
    "n_examples_test = 32\n",
    "train_loader, test_loader =  define_dataloaders(n_examples_train, n_examples_test)\n"
   ]
  },
  {
   "cell_type": "code",
   "execution_count": 11,
   "metadata": {},
   "outputs": [
    {
     "data": {
      "text/plain": [
       "\"\\n# MNIST dataset \\ntrain_dataset = torchvision.datasets.MNIST(root='../../data', \\n                                           train=True, \\n                                           transform=transforms.ToTensor(),  \\n                                           download=True)\\n\\ntest_dataset = torchvision.datasets.MNIST(root='../../data', \\n                                          train=False, \\n                                          transform=transforms.ToTensor())\\n\\n# Data loader\\ntrain_loader = torch.utils.data.DataLoader(dataset=train_dataset, \\n                                           batch_size=batch_size, \\n                                           shuffle=True)\\n\\ntest_loader = torch.utils.data.DataLoader(dataset=test_dataset, \\n                                          batch_size=batch_size, \\n                                          shuffle=False)\\n\""
      ]
     },
     "execution_count": 11,
     "metadata": {},
     "output_type": "execute_result"
    }
   ],
   "source": [
    "\"\"\"\n",
    "# MNIST dataset \n",
    "train_dataset = torchvision.datasets.MNIST(root='../../data', \n",
    "                                           train=True, \n",
    "                                           transform=transforms.ToTensor(),  \n",
    "                                           download=True)\n",
    "\n",
    "test_dataset = torchvision.datasets.MNIST(root='../../data', \n",
    "                                          train=False, \n",
    "                                          transform=transforms.ToTensor())\n",
    "\n",
    "# Data loader\n",
    "train_loader = torch.utils.data.DataLoader(dataset=train_dataset, \n",
    "                                           batch_size=batch_size, \n",
    "                                           shuffle=True)\n",
    "\n",
    "test_loader = torch.utils.data.DataLoader(dataset=test_dataset, \n",
    "                                          batch_size=batch_size, \n",
    "                                          shuffle=False)\n",
    "\"\"\""
   ]
  },
  {
   "cell_type": "code",
   "execution_count": 12,
   "metadata": {},
   "outputs": [],
   "source": [
    "# Fully connected neural network\n",
    "class NeuralNet(nn.Module):\n",
    "    def __init__(self, input_size, hidden_size, num_classes):\n",
    "        super(NeuralNet, self).__init__()\n",
    "        self.fc1 = nn.Linear(input_size, hidden_size) \n",
    "        self.relu = nn.ReLU()\n",
    "        self.fc2 = nn.Linear(hidden_size, num_classes)  \n",
    "    \n",
    "    def forward(self, x):\n",
    "        x = x.reshape(-1, 28*28)\n",
    "        out = self.fc1(x)\n",
    "        out = self.relu(out)\n",
    "        out = self.fc2(out)\n",
    "        return out\n",
    "\n",
    "model = NeuralNet(input_size, hidden_size, num_classes).to(device)\n",
    "\n",
    "# Loss and optimizer\n",
    "criterion = nn.CrossEntropyLoss()\n",
    "#optimizer = optim.Adam(model.parameters(), lr=learning_rate)\n",
    "optimizer = optim.SGD(model.parameters(), lr=learning_rate)\n"
   ]
  },
  {
   "cell_type": "code",
   "execution_count": 13,
   "metadata": {},
   "outputs": [
    {
     "name": "stdout",
     "output_type": "stream",
     "text": [
      "Epoch [1/5], Step [8/8], Loss: 2.1576\n",
      "Epoch [2/5], Step [8/8], Loss: 2.0280\n",
      "Epoch [3/5], Step [8/8], Loss: 1.8943\n",
      "Epoch [4/5], Step [8/8], Loss: 1.7346\n",
      "Epoch [5/5], Step [8/8], Loss: 1.5501\n"
     ]
    }
   ],
   "source": [
    "# Train the model\n",
    "total_step = len(train_loader)\n",
    "for epoch in range(num_epochs):\n",
    "    for i, (images, labels) in enumerate(train_loader):\n",
    "        # Move tensors to the configured device\n",
    "        labels = labels.to(device)\n",
    "        \n",
    "        # Forward pass\n",
    "        outputs = model(images)\n",
    "        loss = criterion(outputs, labels)\n",
    "        \n",
    "        # Backprpagation and optimization\n",
    "        optimizer.zero_grad()\n",
    "        loss.backward()\n",
    "        optimizer.step()\n",
    "        \n",
    "        if (i+1) % 8 == 0:\n",
    "            print ('Epoch [{}/{}], Step [{}/{}], Loss: {:.4f}' \n",
    "                   .format(epoch+1, num_epochs, i+1, total_step, loss.item()))"
   ]
  },
  {
   "cell_type": "code",
   "execution_count": 14,
   "metadata": {},
   "outputs": [
    {
     "name": "stdout",
     "output_type": "stream",
     "text": [
      "Accuracy of the network on the 10000 test images: 71.875 %\n"
     ]
    }
   ],
   "source": [
    "# Test the model\n",
    "# In the test phase, don't need to compute gradients (for memory efficiency)\n",
    "with torch.no_grad():\n",
    "    correct = 0\n",
    "    total = 0\n",
    "    for images, labels in test_loader:\n",
    "        images = images.reshape(-1, 28*28).to(device)\n",
    "        labels = labels.to(device)\n",
    "        outputs = model(images)\n",
    "        _, predicted = torch.max(outputs.data, 1)\n",
    "        total += labels.size(0)\n",
    "        correct += (predicted == labels).sum().item()\n",
    "\n",
    "    print('Accuracy of the network on the 10000 test images: {} %'.format(100 * correct / total))\n"
   ]
  }
 ],
 "metadata": {
  "interpreter": {
   "hash": "c7894602a0c985887175ef870b163991377e40017ef89bcf79ed228593e61d67"
  },
  "kernelspec": {
   "display_name": "Python 3.8.8 64-bit ('base': conda)",
   "language": "python",
   "name": "python3"
  },
  "language_info": {
   "codemirror_mode": {
    "name": "ipython",
    "version": 3
   },
   "file_extension": ".py",
   "mimetype": "text/x-python",
   "name": "python",
   "nbconvert_exporter": "python",
   "pygments_lexer": "ipython3",
   "version": "3.8.8"
  },
  "orig_nbformat": 4
 },
 "nbformat": 4,
 "nbformat_minor": 2
}
